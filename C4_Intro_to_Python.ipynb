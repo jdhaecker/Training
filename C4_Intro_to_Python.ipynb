{
  "nbformat": 4,
  "nbformat_minor": 0,
  "metadata": {
    "colab": {
      "name": "C4 Intro to Python.ipynb",
      "provenance": [],
      "private_outputs": true,
      "collapsed_sections": [],
      "include_colab_link": true
    },
    "kernelspec": {
      "name": "python3",
      "display_name": "Python 3"
    }
  },
  "cells": [
    {
      "cell_type": "markdown",
      "metadata": {
        "id": "view-in-github",
        "colab_type": "text"
      },
      "source": [
        "<a href=\"https://colab.research.google.com/github/jdhaecker/Training/blob/master/C4_Intro_to_Python.ipynb\" target=\"_parent\"><img src=\"https://colab.research.google.com/assets/colab-badge.svg\" alt=\"Open In Colab\"/></a>"
      ]
    },
    {
      "cell_type": "code",
      "metadata": {
        "id": "wzaZwT_u5LIM",
        "colab_type": "code",
        "colab": {}
      },
      "source": [
        "# Clone the entire repo.\n",
        "!git clone -l -s https://github.com/cagBRT/Intro-to-Programming-with-Python.git cloned-repo\n",
        "%cd cloned-repo\n",
        "!ls"
      ],
      "execution_count": 0,
      "outputs": []
    },
    {
      "cell_type": "code",
      "metadata": {
        "id": "IvAdiM855QI2",
        "colab_type": "code",
        "colab": {}
      },
      "source": [
        "from IPython.display import Image\n",
        "def page(num):\n",
        "    return Image(\"c4-content/c4PythonProgramming\"+str(num)+ \".png\" , width=640)"
      ],
      "execution_count": 0,
      "outputs": []
    },
    {
      "cell_type": "markdown",
      "metadata": {
        "id": "0LCJUYrC7uI7",
        "colab_type": "text"
      },
      "source": [
        "# For Loops\n",
        "\n",
        "There are times when you may want to execute the same task several times. Rather than writing the code over and over, you can use a 'for' loop. <br>\n"
      ]
    },
    {
      "cell_type": "code",
      "metadata": {
        "id": "i20WrHhndfi6",
        "colab_type": "code",
        "colab": {}
      },
      "source": [
        "page(1)"
      ],
      "execution_count": 0,
      "outputs": []
    },
    {
      "cell_type": "code",
      "metadata": {
        "id": "cthjnWIpArbC",
        "colab_type": "code",
        "colab": {}
      },
      "source": [
        "page(2)"
      ],
      "execution_count": 0,
      "outputs": []
    },
    {
      "cell_type": "markdown",
      "metadata": {
        "id": "_2uXQpJoA7Vq",
        "colab_type": "text"
      },
      "source": [
        "A Python 'for' loop uses the form: <br><br>\n",
        "\n",
        "for iterating_var in sequence: <br>\n",
        ">   statements(s)\n"
      ]
    },
    {
      "cell_type": "code",
      "metadata": {
        "id": "fHRltgUW-LKD",
        "colab_type": "code",
        "colab": {}
      },
      "source": [
        "for letter in 'Python':   \n",
        "   print ('Current Letter :', letter)"
      ],
      "execution_count": 0,
      "outputs": []
    },
    {
      "cell_type": "markdown",
      "metadata": {
        "id": "XO9aI9ngBLgV",
        "colab_type": "text"
      },
      "source": [
        "# **Assignment #1**\n",
        "\n",
        "Write a program to do the following: \n",
        "1. For every letter in your name, use a for loop to \n",
        "> print (\"letter is \", letter)"
      ]
    },
    {
      "cell_type": "code",
      "metadata": {
        "id": "RSuvbTg3-LL5",
        "colab_type": "code",
        "colab": {}
      },
      "source": [
        "#Assignment #1\n",
        "\n",
        "#TODO\n",
        "for letter in 'Jesse Haecker':\n",
        "  print(\"Current Letter :\", letter)"
      ],
      "execution_count": 0,
      "outputs": []
    },
    {
      "cell_type": "markdown",
      "metadata": {
        "id": "eqMpJh59SXG_",
        "colab_type": "text"
      },
      "source": [
        "**For loops can be used with numbers.**"
      ]
    },
    {
      "cell_type": "code",
      "metadata": {
        "id": "W3hJkCzVSujN",
        "colab_type": "code",
        "colab": {}
      },
      "source": [
        "#for loop example\n",
        "for x in range(6): \n",
        "  print(x)"
      ],
      "execution_count": 0,
      "outputs": []
    },
    {
      "cell_type": "markdown",
      "metadata": {
        "id": "JqXaUNuOTqFE",
        "colab_type": "text"
      },
      "source": [
        "# **Assignment #2**\n",
        "Use a 'for' loop to print the integers from 0 - 9"
      ]
    },
    {
      "cell_type": "code",
      "metadata": {
        "id": "q4P23vXcT8Qx",
        "colab_type": "code",
        "colab": {}
      },
      "source": [
        "# **Assignment #2**\n",
        "\n",
        "#TODO\n",
        "for x in range(10):\n",
        "  print(x)\n",
        "\n",
        "for x in range(10):\n",
        "  print(x+1)"
      ],
      "execution_count": 0,
      "outputs": []
    },
    {
      "cell_type": "markdown",
      "metadata": {
        "id": "oyHqUKKOUK7I",
        "colab_type": "text"
      },
      "source": [
        "**For loops can be assigned a range and increment value.**"
      ]
    },
    {
      "cell_type": "code",
      "metadata": {
        "id": "kv5ypFUlVQZk",
        "colab_type": "code",
        "colab": {}
      },
      "source": [
        "#Example of for loop with a range and\n",
        "#increment value\n",
        "\n",
        "#Print the every 5th integer from 10 - 50 \n",
        "for x in range(10,50,5):\n",
        "  print(x)"
      ],
      "execution_count": 0,
      "outputs": []
    },
    {
      "cell_type": "markdown",
      "metadata": {
        "id": "3F3n77FhVhxg",
        "colab_type": "text"
      },
      "source": [
        "# **Assignment #3<br>**\n",
        "Use a 'for' loop to print every third integer from 30 to 60, inclusive\n"
      ]
    },
    {
      "cell_type": "code",
      "metadata": {
        "id": "z0B34x0SV6Xo",
        "colab_type": "code",
        "colab": {}
      },
      "source": [
        "#Assignment #3\n",
        "\n",
        "#TODO\n",
        "for x in range(30,61,3):\n",
        "  print(x)\n"
      ],
      "execution_count": 0,
      "outputs": []
    },
    {
      "cell_type": "markdown",
      "metadata": {
        "id": "lSotk3Z0pKde",
        "colab_type": "text"
      },
      "source": [
        "**Debug Exercise**<br>\n",
        "Fix the code below"
      ]
    },
    {
      "cell_type": "code",
      "metadata": {
        "id": "8Vn5pqiOo5JW",
        "colab_type": "code",
        "colab": {}
      },
      "source": [
        "for x in range(10, 20.5, 2.5):\n",
        "  print(x)"
      ],
      "execution_count": 0,
      "outputs": []
    },
    {
      "cell_type": "markdown",
      "metadata": {
        "id": "nOUJULL8V-jm",
        "colab_type": "text"
      },
      "source": [
        "**Using the 'else' statement with a for loop.**<br>\n",
        "An 'else' statement can be used with a for loop. <br>\n",
        "The example below uses an else statement, but it is not a very good example. Why? "
      ]
    },
    {
      "cell_type": "code",
      "metadata": {
        "id": "Xx2ZI6ZKWoCR",
        "colab_type": "code",
        "colab": {}
      },
      "source": [
        "for number in range(5):\n",
        "  print(number)\n",
        "else: \n",
        "  print(\"Done\")"
      ],
      "execution_count": 0,
      "outputs": []
    },
    {
      "cell_type": "markdown",
      "metadata": {
        "id": "jEWAsF6DjIP3",
        "colab_type": "text"
      },
      "source": [
        "A better example of using an 'else' statement with a for loop. "
      ]
    },
    {
      "cell_type": "code",
      "metadata": {
        "id": "iQ1GWqpkjfuo",
        "colab_type": "code",
        "colab": {}
      },
      "source": [
        "number_of_a = 0\n",
        "number_of_others = 0\n",
        "\n",
        "sentence = \"I'm going to make him an offer he can't refuse\"\n",
        "for x in sentence: \n",
        "  \n",
        "  if x== 'a': \n",
        "    number_of_a  = number_of_a  + 1\n",
        "  else: \n",
        "    number_of_others = number_of_others + 1\n",
        "print(\"there are \", number_of_a, \"a's in sentence\")\n",
        "print(\"there are \", number_of_others, \"other characters\")\n",
        "print(chars)\n"
      ],
      "execution_count": 0,
      "outputs": []
    },
    {
      "cell_type": "markdown",
      "metadata": {
        "id": "Fssiz_Mkb89W",
        "colab_type": "text"
      },
      "source": [
        "# **Assignment #4**\n",
        "\n",
        "Modify the code to print the total number of characters in the sentence. \n"
      ]
    },
    {
      "cell_type": "code",
      "metadata": {
        "id": "A9s7JZH6cK8A",
        "colab_type": "code",
        "colab": {}
      },
      "source": [
        "#Assignment #4\n",
        "number_of_a = 0\n",
        "number_of_others = 0\n",
        "chars=0\n",
        "chars2=0\n",
        "sentence = \"I'm going to make him an offer he can't refuse\"\n",
        "for x in sentence: \n",
        "  chars2+=1\n",
        "  if x== 'a': \n",
        "    number_of_a  = number_of_a  + 1\n",
        "    chars=chars+1\n",
        "  else: \n",
        "    number_of_others = number_of_others + 1\n",
        "    chars=chars+1\n",
        "print(\"there are \", number_of_a, \"a's in sentence\")\n",
        "print(\"there are \", number_of_others, \"other characters\")\n",
        "print(chars)\n",
        "print(chars2)"
      ],
      "execution_count": 0,
      "outputs": []
    },
    {
      "cell_type": "markdown",
      "metadata": {
        "id": "W849Ytrfpe1L",
        "colab_type": "text"
      },
      "source": [
        "# **Assignment #5**\n",
        "1. Print the characters in this sentence:\n",
        ">The rain in Spain falls mainly in the plain. \n",
        "2. Count all the letters, ignoring the blank spaces\n",
        "3. Print out the number of letters in the sentence"
      ]
    },
    {
      "cell_type": "code",
      "metadata": {
        "id": "T-xIFEdsp7Nn",
        "colab_type": "code",
        "colab": {}
      },
      "source": [
        "#Assignment 4\n",
        "\n",
        "#TODO\n",
        "number_of_a = 0\n",
        "number_of_others = 0\n",
        "chars=0\n",
        "chars2=0\n",
        "sentence = \"The rain in Spain falls mainly in the plain.\"\n",
        "print(sentence)\n",
        "for x in sentence: \n",
        "  chars2+=1\n",
        "  if x != ' ' and x != \".\": \n",
        "    number_of_a  = number_of_a  + 1\n",
        "  else: \n",
        "    number_of_others = number_of_others + 1\n",
        "print(\"there are \", number_of_a, \"letters in the sentence\")\n",
        "print(\"there are \", number_of_others, \"spaces\")\n",
        "print(\"there are \", chars2, \"total characters\")\n",
        "\n",
        "count = len(sentence) - sentence.count(' ') - sentence.count('.')\n",
        "print(count)"
      ],
      "execution_count": 0,
      "outputs": []
    },
    {
      "cell_type": "markdown",
      "metadata": {
        "id": "zGbaj0YSbPtY",
        "colab_type": "text"
      },
      "source": [
        "# **Quiz**"
      ]
    },
    {
      "cell_type": "code",
      "metadata": {
        "id": "E2x_KYAMc3VC",
        "colab_type": "code",
        "colab": {}
      },
      "source": [
        "page(5)"
      ],
      "execution_count": 0,
      "outputs": []
    },
    {
      "cell_type": "code",
      "metadata": {
        "id": "Q6DpYgOQzF-k",
        "colab_type": "code",
        "colab": {}
      },
      "source": [
        "scores = [32,34,76,98,3,4,55,99,21,2,34,65,81,25,98,90]\n",
        "for i in scores: \n",
        "  if(i%3)==0:\n",
        "    print(i)"
      ],
      "execution_count": 0,
      "outputs": []
    },
    {
      "cell_type": "code",
      "metadata": {
        "id": "IrIOe6N3dOHg",
        "colab_type": "code",
        "cellView": "form",
        "colab": {}
      },
      "source": [
        "#@title Q1\n",
        "variable_name = \"multiples of three\" #@param [\"every third number in scores\", \"multiples of three\", \"nothing, there is an error in the code\", \"nothing, none of the scores satisfy the conditional statement\"]\n",
        "if(variable_name == \"multiples of three\"):\n",
        "  print(\"correct\")\n",
        "else:\n",
        "  print(\"Please try again\")"
      ],
      "execution_count": 0,
      "outputs": []
    },
    {
      "cell_type": "markdown",
      "metadata": {
        "id": "pF9JO7rup_G3",
        "colab_type": "text"
      },
      "source": [
        "**Debug Exercise**\n",
        "Fix the code below\n"
      ]
    },
    {
      "cell_type": "code",
      "metadata": {
        "id": "JFkydWANqFUV",
        "colab_type": "code",
        "colab": {}
      },
      "source": [
        "sentence = \"The quick brown fox jumps over the lazy dog\"\n",
        "for letter in sentence:\n",
        "  print(letter)\n",
        "else:\n",
        "  print(\"Done\")"
      ],
      "execution_count": 0,
      "outputs": []
    },
    {
      "cell_type": "markdown",
      "metadata": {
        "id": "VVKbTP32qeZA",
        "colab_type": "text"
      },
      "source": [
        "# **Assignment #6**\n",
        "1. Create a List with the following words:\n",
        ">dog, cat, bunny, goat, cow, giraffe, pig, chicken\n",
        "2. Count the animals in the list. \n",
        "3. If the word giraffe is in the list print \"A giraffe is Not domesticated!\"\n",
        "\n"
      ]
    },
    {
      "cell_type": "code",
      "metadata": {
        "id": "GO8VmfkWmgPo",
        "colab_type": "code",
        "colab": {}
      },
      "source": [
        "#Assignment #5\n",
        "animals = [\"dog\", \"cat\", \"bunny\", \"goat\", \"cow\", \"giraffe\", \"pig\", \"chicken\"]\n",
        "count = 0\n",
        "print(\"There are\", len(animals), \"animals in this list\")\n",
        "\n",
        "for i in animals:\n",
        "  if i == \"giraffe\":\n",
        "    count+=1\n",
        "    print(count, \"giraffe\")\n",
        "\n",
        "#another way\n",
        "if \"giraffe\" in animals:\n",
        "  print(\"A giraffe is not domesticated\")"
      ],
      "execution_count": 0,
      "outputs": []
    },
    {
      "cell_type": "markdown",
      "metadata": {
        "id": "kuIHQNrZmm0D",
        "colab_type": "text"
      },
      "source": [
        "**The pass statement**\n",
        "\n",
        "When an external condition is triggered, the pass statement allows you to handle the condition without the loop being impacted in any way; all of the code will continue to be read unless a break or other statement occurs.\n",
        "\n",
        "The pass statement can act as a placeholder when working on new code and thinking on an algorithmic level before hammering out details"
      ]
    },
    {
      "cell_type": "code",
      "metadata": {
        "id": "fUct8_ytbje7",
        "colab_type": "code",
        "colab": {}
      },
      "source": [
        "#Example of code that uses PASS\n",
        "number = 0\n",
        "\n",
        "for number in range(10):\n",
        "    if number == 5:\n",
        "        pass    # pass here\n",
        "    print('Number is ' + str(number))\n",
        "print('Out of loop')\n"
      ],
      "execution_count": 0,
      "outputs": []
    },
    {
      "cell_type": "code",
      "metadata": {
        "id": "TIvjpmGTmnAQ",
        "colab_type": "code",
        "colab": {}
      },
      "source": [
        "#example of a pass statement\n",
        "for i in range(20, 30):\n",
        "  pass\n",
        "print(\"done\")"
      ],
      "execution_count": 0,
      "outputs": []
    },
    {
      "cell_type": "code",
      "metadata": {
        "id": "BLEeJsBIwC6n",
        "colab_type": "code",
        "colab": {}
      },
      "source": [
        "#example of a pass statement\n",
        "sentence = \"They call him the Spaniard\"\n",
        "count_l = 0\n",
        "count_t = 0 \n",
        "\n",
        "for letter in sentence: \n",
        "  if letter == \"l\":\n",
        "    count_l = count_l + 1\n",
        "  elif letter == \"t\":\n",
        "    count_t = count_t + 1\n",
        "  else:\n",
        "    pass\n",
        "print(\"number of ls = \", count_l)\n",
        "print(\"number of ts = \", count_t)\n",
        "\n"
      ],
      "execution_count": 0,
      "outputs": []
    },
    {
      "cell_type": "markdown",
      "metadata": {
        "id": "Y1WmnT_gxjjb",
        "colab_type": "text"
      },
      "source": [
        "The count of the number of 't's is incorrect. There are two 't's. What happened? \n"
      ]
    },
    {
      "cell_type": "markdown",
      "metadata": {
        "id": "YBcl5OQSx8iG",
        "colab_type": "text"
      },
      "source": [
        "# **Assignment #7**\n",
        "Create a string variable with the value: <br>\n",
        ">\"Four score and seven years ago our fathers brought forth on this continent, a new nation, conceived in Liberty, and dedicated to the proposition that all men are created equal.\n",
        "\n",
        ">Now we are engaged in a great civil war, testing whether that nation, or any nation so conceived and so dedicated, can long endure. We are met on a great battle-field of that war. We have come to dedicate a portion of that field, as a final resting place for those who here gave their lives that that nation might live. It is altogether fitting and proper that we should do this.\n",
        "\n",
        "Count the number of times the word \"we\" is found in the string variable. <br><br>\n",
        "\n",
        "FYI: someone did this in two lines of code. "
      ]
    },
    {
      "cell_type": "code",
      "metadata": {
        "id": "c-78pBrhzI2A",
        "colab_type": "code",
        "colab": {}
      },
      "source": [
        "address = (\"Four score and seven years ago our fathers brought forth \" +\n",
        "          \"on this continent, a new nation, conceived in Liberty,\" +\n",
        "          \" and dedicated to the proposition that all men are created\" +\n",
        "          \" equal.Now we are engaged in a great civil war, testing\" +\n",
        "          \" whether that nation, or any nation so conceived and so \" +\n",
        "          \"dedicated, can long endure. We are met on a great \" + \n",
        "          \"battle-field of that war. We have come to dedicate a portion\" +\n",
        "          \" of that field, as a final resting place for those who here\" +\n",
        "          \" gave their lives that that nation might live. It is \" +\n",
        "          \"altogether fitting and proper that we should do this.\")\n",
        "\n",
        "print(address.count(\" we \")+address.count(\" We \"))\n",
        "\n",
        "    "
      ],
      "execution_count": 0,
      "outputs": []
    },
    {
      "cell_type": "markdown",
      "metadata": {
        "id": "J8wHx6KkZe-P",
        "colab_type": "text"
      },
      "source": [
        "# **Assignment #8**\n",
        "Find all the numbers between 1000 and 3000 (inclusive) that are divisible by both 5 and 9."
      ]
    },
    {
      "cell_type": "code",
      "metadata": {
        "id": "HoqVdQUXZyjS",
        "colab_type": "code",
        "colab": {}
      },
      "source": [
        "#Assignment #8\n",
        "count=0\n",
        "for index in range(1000, 3000+1, 1):\n",
        "  if not (index % 5):\n",
        "    count+=1\n",
        "  if not (index % 9):\n",
        "    count+=1  \n",
        "print(count)\n"
      ],
      "execution_count": 0,
      "outputs": []
    },
    {
      "cell_type": "markdown",
      "metadata": {
        "id": "Kmq4TbxKZ1tT",
        "colab_type": "text"
      },
      "source": [
        "# **Assignment #9**\n",
        "1. Find all the numbers between 0 - 100 (inclusive) that are multiples of<br>\n",
        ">Replace the number with the word FIZZ\n",
        "2. Find all the numbers between 0 - 100 (inclusive) that are multiples of 7. <br>\n",
        ">Replace the number with the word BUZZ\n",
        "3. Find all the numbers between 0 - 100 (inclusive) that are multiples of 3 and 7. <br>\n",
        ">Replace the number with the word FIZZBUZZ\n",
        "\n"
      ]
    },
    {
      "cell_type": "code",
      "metadata": {
        "id": "NHWdq7sITRwQ",
        "colab_type": "code",
        "colab": {}
      },
      "source": [
        "#Assignment #9\n",
        "data_set=[]\n",
        "i=0\n",
        "for i in range(101):\n",
        "  data_set.append(i)\n",
        "print(data_set)\n",
        "\n",
        "for i in range(101):\n",
        "  if (data_set[i] % 3 == 0) and (data_set[i] % 7 ==0):\n",
        "    data_set[i] = \"FIZZBUZZ\"\n",
        "  elif data_set[i] % 3 == 0:\n",
        "    data_set[i] = \"FIZZ\"\n",
        "  elif data_set[i] % 7 ==0:\n",
        "    data_set[i] = \"BUZZ\"\n",
        "  \n",
        "print(data_set)\n",
        "\n"
      ],
      "execution_count": 0,
      "outputs": []
    },
    {
      "cell_type": "markdown",
      "metadata": {
        "id": "EFjNl3uIccTI",
        "colab_type": "text"
      },
      "source": [
        "**Nested For Loops**\n",
        "Nested loops are useful when for each pass through the outer loop, you need to repeat some action on the data in the outer loop."
      ]
    },
    {
      "cell_type": "code",
      "metadata": {
        "id": "j2ro8TMKcrtX",
        "colab_type": "code",
        "colab": {}
      },
      "source": [
        "n=5;\n",
        "#Create i rows\n",
        "for i in range(n):\n",
        "    #For each row add another character \n",
        "    for j in range(i):\n",
        "        print ('j ', end=\"\")\n",
        "    print('')"
      ],
      "execution_count": 0,
      "outputs": []
    },
    {
      "cell_type": "markdown",
      "metadata": {
        "id": "75B_GA0rd7xw",
        "colab_type": "text"
      },
      "source": [
        "# **Assignment #10**\n",
        "Using nested for loops, create the following shape:\n",
        "\n",
        "\n",
        "bbbbbbbbbb<br>\n",
        "bbbbbbbbb<br>\n",
        "bbbbbbbb<br>\n",
        "bbbbbbb<br>\n",
        "bbbbbb<br>\n",
        "bbbbb<br>\n",
        "bbbb<br>\n",
        "bbb<br>\n",
        "bb<br>\n",
        "b<br>"
      ]
    },
    {
      "cell_type": "code",
      "metadata": {
        "id": "0_veLUoolkyl",
        "colab_type": "code",
        "colab": {}
      },
      "source": [
        "#Assignment #10\n",
        "row = 10\n",
        "for i in range(row+1):\n",
        "  for j in range(row+1-i):\n",
        "    print(\"b\", end='')\n",
        "  print(\"\")\n",
        "\n"
      ],
      "execution_count": 0,
      "outputs": []
    },
    {
      "cell_type": "markdown",
      "metadata": {
        "id": "3AE4EsQYl_43",
        "colab_type": "text"
      },
      "source": [
        "# **Assignment #11**\n",
        "1. Write a program that takes two digits, m and n, from the user\n",
        "2. Create a two dimensional list matrix[m][n]\n",
        "3. Each value of matrix[m][n] should be m*n at that location. \n",
        "\n",
        "For example: <br>\n",
        "m = 4<br>\n",
        "n = 2<br>\n",
        "\n",
        "matrix[0][0] = 0<br>\n",
        "matrix[0][1] = 0<br>\n",
        "\n",
        "matrix[1][0] = 0<br>\n",
        "matrix[1][1] = 1<br>\n",
        "\n",
        "matrix[2][0] = 0<br>\n",
        "matrix[2][1] = 2<br>\n",
        "\n",
        "matrix[3][0] = 0<br>\n",
        "matrix[3][1] = 3<br>\n",
        "\n",
        "[0,0],[0,1],[0,2],[0,3]"
      ]
    },
    {
      "cell_type": "code",
      "metadata": {
        "id": "-ud3du8ynZ8s",
        "colab_type": "code",
        "colab": {}
      },
      "source": [
        "#Assignment #11\n",
        "# Sanji's code\n",
        "m = input(\"Enter a digit for number of rows :\")\n",
        "n = input(\"Enter a digit for number of columns :\")\n",
        "a=[[0 for i in range(int(n))] for j in range(int(m))]\n",
        "#print(a)\n",
        "for i in range(int(m)-1):\n",
        "  for j in range(i):\n",
        "    a[i][j] = i*j\n",
        "print(a)"
      ],
      "execution_count": 0,
      "outputs": []
    },
    {
      "cell_type": "markdown",
      "metadata": {
        "id": "9H5kpn4NvqYV",
        "colab_type": "text"
      },
      "source": [
        "**Comments from Michael Cha and a fix to Sanjay's code**\n",
        "The matrix is technically a list of lists, not necessarily a direct mxn matrix. So if your m is greater than n, when it is subscripting the inner lists, the it will exceed the size of those lists\n",
        "Michael Cha8:17 AM\n",
        "#Assignment #11\n",
        "\n",
        "m = input(\"Enter a digit for number of rows :\")\n",
        "n = input(\"Enter a digit for number of columns :\")\n",
        "a=[[0 for i in range(int(n))] for j in range(int(m))]\n",
        "#print(a)\n",
        "for i in range(int(m)-1):\n",
        "  for j in range(i):\n",
        "    a[i][j] = i*j\n",
        "print(a)\n",
        "Matthew Woodall8:17 AM\n",
        "You can think of the inner lists as the columns or rows, doesn't matter"
      ]
    },
    {
      "cell_type": "markdown",
      "metadata": {
        "id": "8_EVyrLYY1G5",
        "colab_type": "text"
      },
      "source": [
        "# **Assignment #12**\n",
        "Find all the words longer than 3 letters in the following text:\n",
        "\n",
        "(I counted 159)\n",
        "\n",
        "Four score and seven years ago our fathers brought forth on this continent, a new nation, conceived in Liberty, and dedicated to the proposition that all men are created equal.\n",
        "\n",
        "Now we are engaged in a great civil war, testing whether that nation, or any nation so conceived and so dedicated, can long endure. We are met on a great battle-field of that war. We have come to dedicate a portion of that field, as a final resting place for those who here gave their lives that that nation might live. It is altogether fitting and proper that we should do this.\n",
        "\n",
        "But, in a larger sense, we can not dedicate -- we can not consecrate -- we can not hallow -- this ground. The brave men, living and dead, who struggled here, have consecrated it, far above our poor power to add or detract. The world will little note, nor long remember what we say here, but it can never forget what they did here. It is for us the living, rather, to be dedicated here to the unfinished work which they who fought here have thus far so nobly advanced. It is rather for us to be here dedicated to the great task remaining before us -- that from these honored dead we take increased devotion to that cause for which they gave the last full measure of devotion -- that we here highly resolve that these dead shall not have died in vain -- that this nation, under God, shall have a new birth of freedom -- and that government of the people, by the people, for the people, shall not perish from the earth.<br><br>\n",
        "\n",
        "Hint: <br>\n",
        "1. Use \"\"\" at the beginning and end of text to create a multiline string. <br>\n",
        "2. Use the split function on a string to separate it into words. "
      ]
    },
    {
      "cell_type": "markdown",
      "metadata": {
        "id": "B-rdY2Vpvl6h",
        "colab_type": "text"
      },
      "source": [
        ""
      ]
    },
    {
      "cell_type": "code",
      "metadata": {
        "id": "hH8MdgzHY452",
        "colab_type": "code",
        "colab": {}
      },
      "source": [
        "#Assignment 12"
      ],
      "execution_count": 0,
      "outputs": []
    },
    {
      "cell_type": "markdown",
      "metadata": {
        "id": "2t3PD1NvZAJi",
        "colab_type": "text"
      },
      "source": [
        "# **Assignment #13**\n",
        "\n",
        "Find all the unique words in the text from Assignment #12 (The Gettysburg Address).\n",
        "<br>\n",
        "Hint: <br>\n",
        "Use the set function in Python<br>\n",
        "unique = set(text_in)"
      ]
    },
    {
      "cell_type": "code",
      "metadata": {
        "id": "zyRFn8jnY_rK",
        "colab_type": "code",
        "colab": {}
      },
      "source": [
        "#Assignment 13\n"
      ],
      "execution_count": 0,
      "outputs": []
    },
    {
      "cell_type": "markdown",
      "metadata": {
        "id": "8-EsABJmoZph",
        "colab_type": "text"
      },
      "source": [
        "Congrats! You finished another Python Module.\n",
        "Keep up the good work....start the next module\n",
        "\n",
        "C5 Intro to ML Programming with Python\n",
        "<br><br>\n",
        "Instructions to access the notebooks:<br> \n",
        "In a Chrome or Firefox Window type on the search bar: **Google CoLab**<br>\n",
        "\n",
        "On the orange menu bar, select the menu item: **GITHUB**<br>\n",
        "\n",
        "If the orange pop-up menu does not appear, <br>\n",
        "\n",
        "In the Notebook environment, select File>Open notebook <br>\n",
        "\n",
        "The orange pop-up menu should now appear.<br>\n",
        "\n",
        "Select:  GITHUB<br>\n",
        "\n",
        "On the search bar type in: **cagBRT**  This will bring up my gitHub repository. <br>\n",
        "\n",
        "On the drop down menu select: cagBRT/<br>**Intro-To-Programming-with-Python**<br>\n",
        "\n",
        "Then select: **Intro to C5 Intro to Python.ipynb**<br>"
      ]
    }
  ]
}