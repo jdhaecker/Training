{
  "nbformat": 4,
  "nbformat_minor": 0,
  "metadata": {
    "colab": {
      "name": "C8 Intro to Python.ipynb",
      "provenance": [],
      "private_outputs": true,
      "collapsed_sections": [],
      "include_colab_link": true
    },
    "kernelspec": {
      "name": "python3",
      "display_name": "Python 3"
    }
  },
  "cells": [
    {
      "cell_type": "markdown",
      "metadata": {
        "id": "view-in-github",
        "colab_type": "text"
      },
      "source": [
        "<a href=\"https://colab.research.google.com/github/jdhaecker/Training/blob/master/C8_Intro_to_Python.ipynb\" target=\"_parent\"><img src=\"https://colab.research.google.com/assets/colab-badge.svg\" alt=\"Open In Colab\"/></a>"
      ]
    },
    {
      "cell_type": "markdown",
      "metadata": {
        "id": "K3BhuCRC2mqW",
        "colab_type": "text"
      },
      "source": [
        "# **MatPlotlib**\n",
        "The link below is a page of MatPlotLib examples<br>\n",
        "https://matplotlib.org/examples/"
      ]
    },
    {
      "cell_type": "code",
      "metadata": {
        "id": "ZGvK6lyz2fca",
        "colab_type": "code",
        "colab": {}
      },
      "source": [
        "# Clone the entire repo.\n",
        "!git clone -l -s https://github.com/cagBRT/Intro-to-Programming-with-Python.git cloned-repo\n",
        "%cd cloned-repo\n",
        "!ls"
      ],
      "execution_count": 0,
      "outputs": []
    },
    {
      "cell_type": "code",
      "metadata": {
        "id": "vRdB7f8NUfJc",
        "colab_type": "code",
        "colab": {}
      },
      "source": [
        "from IPython.display import Image\n",
        "def page(num):\n",
        "    return Image(\"c8-content/c8PythonProgramming\"+str(num)+ \".png\" , width=640)"
      ],
      "execution_count": 0,
      "outputs": []
    },
    {
      "cell_type": "markdown",
      "metadata": {
        "id": "dMZ5LwNrUzZr",
        "colab_type": "text"
      },
      "source": [
        "# **Introduction to Matplotlib**"
      ]
    },
    {
      "cell_type": "markdown",
      "metadata": {
        "id": "iI9otsKTUn_r",
        "colab_type": "text"
      },
      "source": [
        "Matplotlib is a very powerful plotting library useful for those working with Python and NumPy. The most used module of Matplotib is Pyplot which provides an interface like MATLAB. It uses Python and it is open source."
      ]
    },
    {
      "cell_type": "code",
      "metadata": {
        "id": "OQmGd-IpUj-j",
        "colab_type": "code",
        "colab": {}
      },
      "source": [
        "page(1)"
      ],
      "execution_count": 0,
      "outputs": []
    },
    {
      "cell_type": "markdown",
      "metadata": {
        "id": "pKyXIht1U6ce",
        "colab_type": "text"
      },
      "source": [
        "Install the matplotlib library"
      ]
    },
    {
      "cell_type": "code",
      "metadata": {
        "id": "SYy9VArmU5z5",
        "colab_type": "code",
        "colab": {}
      },
      "source": [
        "!pip install -U matplotlib"
      ],
      "execution_count": 0,
      "outputs": []
    },
    {
      "cell_type": "markdown",
      "metadata": {
        "id": "aKCu2D6TVb32",
        "colab_type": "text"
      },
      "source": [
        "# **Import Matplotlib** \n",
        "Notice that Matplotlib is installed as plt. This is done to make it easier to type code. <br>\n",
        "Instead of having to add the full library name each time you use a matplotlib command, you can use plt. \n",
        "<br>\n",
        "The import \"as\" works with any import statement. "
      ]
    },
    {
      "cell_type": "code",
      "metadata": {
        "id": "Inu5slAUVQVf",
        "colab_type": "code",
        "colab": {}
      },
      "source": [
        "import matplotlib.pyplot as plt"
      ],
      "execution_count": 0,
      "outputs": []
    },
    {
      "cell_type": "markdown",
      "metadata": {
        "id": "fIPdMvvFVruT",
        "colab_type": "text"
      },
      "source": [
        "# **Make a simple plot**\n"
      ]
    },
    {
      "cell_type": "code",
      "metadata": {
        "id": "uyD1AHN2WRrR",
        "colab_type": "code",
        "colab": {}
      },
      "source": [
        "#Plot a set of 5 points on a graph\n",
        "plt.plot([2,4,6,8,10], [1,3,5,7,9])\n",
        "#Use show to print it\n",
        "plt.show()"
      ],
      "execution_count": 0,
      "outputs": []
    },
    {
      "cell_type": "markdown",
      "metadata": {
        "id": "-je0tjjYXQyU",
        "colab_type": "text"
      },
      "source": [
        "# **Assignment #1**\n",
        "1. Plot the following points\n",
        ">(1,7), (5,6), (10,5), (15, 4), (20, 3), (25, 2), (30,1)"
      ]
    },
    {
      "cell_type": "code",
      "metadata": {
        "id": "1fvunmXfhXKl",
        "colab_type": "code",
        "colab": {}
      },
      "source": [
        "plt.plot([1,5,10,15,20,25,30], [7,6,5,4,3,2,1])\n",
        "plt.show()\n",
        "plt.savefig('plotfigex.png') #used to save the plot to a file for later use"
      ],
      "execution_count": 0,
      "outputs": []
    },
    {
      "cell_type": "markdown",
      "metadata": {
        "id": "gO1VA9xKhehx",
        "colab_type": "text"
      },
      "source": [
        "# **Plot from Python Lists**"
      ]
    },
    {
      "cell_type": "code",
      "metadata": {
        "id": "Um7pmln9WulD",
        "colab_type": "code",
        "colab": {}
      },
      "source": [
        "#Plot a set of 5 points on a graph\n",
        "#The points can be lists\n",
        "x_coordinate = [2,4,6,8,10]\n",
        "y_coordinate = [1,3,5,7,9]\n",
        "plt.plot(x_coordinate, y_coordinate)\n",
        "#Use show to print it\n",
        "plt.show()"
      ],
      "execution_count": 0,
      "outputs": []
    },
    {
      "cell_type": "markdown",
      "metadata": {
        "id": "zgIcCIBZYDaO",
        "colab_type": "text"
      },
      "source": [
        "# **Assignment #2**\n",
        "Plot the following lists. <br>\n",
        "list1 along the x axis <br>\n",
        "list2 along the y axis <br>\n",
        ">list1 = [22,33,44,55,66,77] <br>\n",
        ">list2 = [1, 4, 16, 55, 67, 98]\n"
      ]
    },
    {
      "cell_type": "code",
      "metadata": {
        "id": "5ZMHoGGmr8DA",
        "colab_type": "code",
        "colab": {}
      },
      "source": [
        "#haecker\n",
        "x_cord = [22,33,44,55,66,77]\n",
        "y_cord= [1, 4, 16, 55, 67, 98]\n",
        "\n",
        "plt.plot(x_cord, y_cord)\n",
        "plt.show"
      ],
      "execution_count": 0,
      "outputs": []
    },
    {
      "cell_type": "markdown",
      "metadata": {
        "id": "3BOMB5cZXH5X",
        "colab_type": "text"
      },
      "source": [
        "# **Add titles and labels**"
      ]
    },
    {
      "cell_type": "code",
      "metadata": {
        "id": "YwXc7c-JWuuQ",
        "colab_type": "code",
        "colab": {}
      },
      "source": [
        "list1 = [22,33,44,55,66,77]\n",
        "list2 = [1, 4, 16, 20, 23, 98]\n",
        "plt.plot(list1, list2)\n",
        "\n",
        "#add a title to the plot\n",
        "plt.title(\"Simple Plot\")\n",
        "#add x and y labels to a plot\n",
        "plt.xlabel(\"list1\")\n",
        "plt.ylabel(\"list2\")\n",
        "plt.show()"
      ],
      "execution_count": 0,
      "outputs": []
    },
    {
      "cell_type": "markdown",
      "metadata": {
        "id": "1Qhp7hDBZieo",
        "colab_type": "text"
      },
      "source": [
        "# **Assignment #3**\n",
        "1. Plot the following lists\n",
        "> list_x = [33.23,34,32.65,65.4,90]<br>\n",
        ">list_y = [2.32,0.33,2.021,55.0,65.33]<br>\n",
        "2. Add a title and x and y axis labels to the plot"
      ]
    },
    {
      "cell_type": "code",
      "metadata": {
        "id": "2NwSedMlMg-l",
        "colab_type": "code",
        "colab": {}
      },
      "source": [
        "#list_x = [33.23,34,32.65,65.4,90]\n",
        "#list_y = [2.32,0.33,2.021,55.0,65.33]\n",
        "\n",
        "x_cord = [33.23,34,32.65,65.4,90]\n",
        "y_cord = [2.32,0.33,2.021,55.0,65.33] \n",
        "\n",
        "plt.plot(x_cord, y_cord)\n",
        "plt.title(\"My Graph\")\n",
        "plt.xlabel(\"Time\")\n",
        "plt.ylabel(\"Speed\")\n",
        "plt.show"
      ],
      "execution_count": 0,
      "outputs": []
    },
    {
      "cell_type": "markdown",
      "metadata": {
        "id": "PfnHDJ28c9AW",
        "colab_type": "text"
      },
      "source": [
        "# **Change the size of a figure**\n",
        "Change the size of a figure with:<br>\n",
        "plt.figure(figsize=(x dimension, y dimension)\n"
      ]
    },
    {
      "cell_type": "code",
      "metadata": {
        "id": "39SCVuVSc7Vt",
        "colab_type": "code",
        "colab": {}
      },
      "source": [
        "list1 = [22,33,44,55,66,77]\n",
        "list2 = [1, 4, 3.4, 15.6, 3, 98]\n",
        "#plt.figure has to come before the first plt.plot statement\n",
        "plt.figure(figsize=(10,3))\n",
        "plt.plot(list1, list2)\n",
        "\n",
        "#add a title to the plot\n",
        "plt.title(\"Simple Plot\")\n",
        "#add x and y labels to a plot\n",
        "plt.xlabel(\"list1\")\n",
        "plt.ylabel(\"list2\")\n",
        "plt.show()"
      ],
      "execution_count": 0,
      "outputs": []
    },
    {
      "cell_type": "markdown",
      "metadata": {
        "id": "eQJqXLjLd9pt",
        "colab_type": "text"
      },
      "source": [
        "# **Assignment #4**\n",
        "1. Create a plot of a set of 10 points\n",
        "2. Change the figure to have dimensions 8x2"
      ]
    },
    {
      "cell_type": "code",
      "metadata": {
        "id": "ZWyrYRQMRA3p",
        "colab_type": "code",
        "colab": {}
      },
      "source": [
        "x_cord = [33.23,34,32.65,65.4,90, 120,150, 180, 210, 240]\n",
        "y_cord = [2.32,0.33,2.021,55.0,65.33, 10.7, 15.34, 90.2, 120.1, 4.5] \n",
        "\n",
        "plt.figure(figsize=(8,2))\n",
        "plt.plot(x_cord, y_cord)\n",
        "plt.title(\"My Graph\")\n",
        "plt.xlabel(\"Time\")\n",
        "plt.ylabel(\"Speed\")\n",
        "plt.show"
      ],
      "execution_count": 0,
      "outputs": []
    },
    {
      "cell_type": "markdown",
      "metadata": {
        "id": "nC-NJu4FeZMQ",
        "colab_type": "text"
      },
      "source": [
        "# **Change the format of the line in a plot**\n",
        "When plotting a line, the color and the type of line can be specified using: \n",
        ">plt.plot(x_points, y_points, \"color-shape\")<br>\n",
        "**Color choices are**:<br>\n",
        "b = blue<br>\n",
        "g = green<br>\n",
        "r= red<br>\n",
        "c = cyan<br>\n",
        "m = magenta<br>\n",
        "y = yellow<br>\n",
        "k = black<br>\n",
        "w = white<br>\n",
        "grey = '0.##' -->  # =  0-1<br>\n",
        "**OR**<br>\n",
        "color='######' -->  # = 0-f numbers<br>\n",
        "<br>\n",
        "**Types of lines**<br>\n",
        "o --> point<br>\n",
        "'-' --> --------<br>\n",
        "'-.' --> -.-.-.-.<br>\n",
        "':' --> .........<br>\n",
        "'+' --> + + + + + <br>\n",
        "'x' --> x x x x x <br>"
      ]
    },
    {
      "cell_type": "code",
      "metadata": {
        "id": "VDuMP7Y0gggX",
        "colab_type": "code",
        "colab": {}
      },
      "source": [
        "#Changing the format of a line in a plot\n",
        "list1 = [22,33,44,55,66,77]\n",
        "list2 = [1, 4, 3.4, 15.6, 3, 98]\n",
        "list3 = [10,33,44,50,60,65]\n",
        "list4 = [10, 14, 23.4, 5.6, 30, 98]\n",
        "list5 = [1,2,31,44,50,60]\n",
        "list6 = [10,20,30,40,50,60]\n",
        "list7 = [12,22,32,42,55,63]\n",
        "list8 = [13,24,35,46,57,68]\n",
        "#plt.figure has to come before the first plt.plot statement\n",
        "plt.figure(figsize=(10,3))\n",
        "plt.plot(list1, list2, 'r-')\n",
        "plt.plot(list3, list4, 'b--')\n",
        "\n",
        "#'+' plots the points as a '+'\n",
        "plt.plot(list5, list6, 'g+')\n",
        "#the 'o' plots dots for each point\n",
        "plt.plot(list7, list8, 'mo')\n",
        "\n",
        "#add a title to the plot\n",
        "plt.title(\"Simple Plot\")\n",
        "plt.show()"
      ],
      "execution_count": 0,
      "outputs": []
    },
    {
      "cell_type": "markdown",
      "metadata": {
        "id": "jVluTEfmi8_9",
        "colab_type": "text"
      },
      "source": [
        "Links to Matplotlib colors and line sytles\n",
        "\n",
        "https://matplotlib.org/gallery/lines_bars_and_markers/line_styles_reference.html\n",
        "\n",
        "https://matplotlib.org/3.1.1/tutorials/colors/colors.html\n"
      ]
    },
    {
      "cell_type": "markdown",
      "metadata": {
        "id": "p1yTwmLbh1kB",
        "colab_type": "text"
      },
      "source": [
        "# **Assignment #5**\n",
        "1. Plot the following points: \n",
        "> list_x = [13,24,35,46,57,68]<br>\n",
        ">list_y = [12,22,32,42,55,63]<br>\n",
        "\n",
        "The plot should have: \n",
        "*   Dimensions 10, 4\n",
        "*   A title\n",
        "\n",
        "*   Labels for the x and y axis\n",
        "*   The line of the data points should be red\n",
        "\n",
        "\n",
        "*   The line should be of the form '--'\n",
        "\n",
        "\n",
        "\n",
        "\n"
      ]
    },
    {
      "cell_type": "code",
      "metadata": {
        "id": "HsdpULuuh5NL",
        "colab_type": "code",
        "colab": {}
      },
      "source": [
        "#Assignment 5\n",
        "x_cord = [13,24,35,46,57,68]\n",
        "y_cord = [12,22,32,42,55,63] \n",
        "\n",
        "plt.figure(figsize=(10,2))\n",
        "plt.plot(x_cord, y_cord, \"r--\")\n",
        "plt.title(\"My Graph\")\n",
        "plt.xlabel(\"Time\")\n",
        "plt.ylabel(\"Speed\")\n",
        "plt.show"
      ],
      "execution_count": 0,
      "outputs": []
    },
    {
      "cell_type": "markdown",
      "metadata": {
        "id": "2LLL2dVJj-P4",
        "colab_type": "text"
      },
      "source": [
        "## **Multiple Plots in one Figure**\n",
        "To add multiple plots in one figure, use the plt.subplot function. <br><br>\n",
        "plt.subplot(number-of-rows, number-of-columns, index)<br><br>\n",
        "Note: index begins with 1"
      ]
    },
    {
      "cell_type": "code",
      "metadata": {
        "id": "2v0qyAxIlF-b",
        "colab_type": "code",
        "colab": {}
      },
      "source": [
        "#Adding multiplots to one figure\n",
        "plt.subplot(1,2,1) #1 row, 2 columns, first plot\n",
        "plt.plot([3,4,5,9],[55,44,2,8],'r--')\n",
        "plt.title(\"The 1st Subplot\")\n",
        "\n",
        "#The second subplot\n",
        "plt.subplot(1,2,2) #1 row, 2 columns, second plot\n",
        "x = [1,2,3,4,5]\n",
        "y = [3,5,7, 9, 10]\n",
        "plt.plot(x,y,'g')\n",
        "plt.title(\"The 2st Subplot\")\n",
        "\n",
        "#this is how you manipulate axis\n",
        "axes = plt.gca()\n",
        "axes.set_xlim([0,20])\n",
        "axes.set_ylim([2,15])"
      ],
      "execution_count": 0,
      "outputs": []
    },
    {
      "cell_type": "markdown",
      "metadata": {
        "id": "5HeKyNs8mlM5",
        "colab_type": "text"
      },
      "source": [
        "# **Assignment #6**\n",
        "1. Create two sets of x,y coordinates. There should be 5 points in each set. \n",
        "2. Plot both lines in separate plots in the same figure. \n",
        "3. Make the first plot have a blue line and the second plot should have a red line. \n",
        "\n",
        "\n"
      ]
    },
    {
      "cell_type": "code",
      "metadata": {
        "id": "i-NlfYqBnFJ_",
        "colab_type": "code",
        "colab": {}
      },
      "source": [
        "\n",
        "x_cord = [0,1,2,3,4]\n",
        "y_cord1 = [2,4,6,8,10]\n",
        "y_cord2 = [3,9,18,24,30]\n",
        "\n",
        "\n",
        "plt.figure(figsize=(16,4))\n",
        "plt.subplot(1,2,1) #1 row, 2 columns; plot the first column\n",
        "plt.plot(x_cord, y_cord1, 'b-')\n",
        "plt.title(\"Blue One\")\n",
        "plt.xlabel(\"x's\")\n",
        "plt.ylabel(\"y's\")\n",
        "\n",
        "plt.subplot(1,2,2) #1 row, 2 columns; plot the first column\n",
        "plt.plot(x_cord, y_cord2, 'r-')\n",
        "plt.title(\"Red One\")\n",
        "plt.xlabel(\"x's\")\n",
        "plt.ylabel(\"y's\")\n",
        "plt.show"
      ],
      "execution_count": 0,
      "outputs": []
    },
    {
      "cell_type": "markdown",
      "metadata": {
        "id": "VX44yNbHnVVi",
        "colab_type": "text"
      },
      "source": [
        "**Plots in a single column**<br>\n",
        "You can change the subplot input parameters and make one plot above the other. \n"
      ]
    },
    {
      "cell_type": "code",
      "metadata": {
        "id": "NWxCAE3Vnm5g",
        "colab_type": "code",
        "colab": {}
      },
      "source": [
        "#Adding multiplots to one figure\n",
        "plt.subplot(2,1,1) #2 rows, 1 column, first plot\n",
        "plt.plot([3,4,5,9],[55,44,2,8],'r--')\n",
        "plt.title(\"The 1st Subplot\")\n",
        "\n",
        "#The second subplot\n",
        "plt.subplot(2,1,2) #2 rows, 1 column, second plot\n",
        "x = [1,2,3,4,5]\n",
        "y = [3,5,7, 9, 10]\n",
        "plt.plot(x,y,'g')"
      ],
      "execution_count": 0,
      "outputs": []
    },
    {
      "cell_type": "markdown",
      "metadata": {
        "id": "VYcc0QALo93L",
        "colab_type": "text"
      },
      "source": [
        "# \n",
        "Pyplot uses a MatPlotLib method called bar() to make bar graphs. <br>These bar graphs use catagorical data. \n",
        "<br>\n",
        "Format for the bar method is: <br>\n",
        ">bar(x-axis values, y-axis values, color='color-name')"
      ]
    },
    {
      "cell_type": "code",
      "metadata": {
        "id": "Ph7bWDkExyzp",
        "colab_type": "code",
        "colab": {}
      },
      "source": [
        "#Pyplot uses a MatPlotLib method called bar() to make bar graphs. \n",
        "#bar(x-axis values, y-axis values, color='color-name')\n",
        "\n",
        "students=['Sue','Tom','Bill','Ann']\n",
        "grades=[43,85,38,97]\n",
        "\n",
        "plt.bar(students, grades)"
      ],
      "execution_count": 0,
      "outputs": []
    },
    {
      "cell_type": "markdown",
      "metadata": {
        "id": "2iOd-llt97kX",
        "colab_type": "text"
      },
      "source": [
        "# **Assignment #7**\n",
        "1. Create a list of 5 classes. \n",
        "2. Create a list of enrollment for the classes. \n",
        "3. Create a bar chart to show enrollment per class. "
      ]
    },
    {
      "cell_type": "code",
      "metadata": {
        "id": "uca4fDKuTTOX",
        "colab_type": "code",
        "colab": {}
      },
      "source": [
        "classes = [\"math\", \"english\", \"physics\", \"science\", \"history\"]\n",
        "enrollment = [125, 75, 97, 75, 30]\n",
        "\n",
        "plt.title(\"2020 Enrollment by class\")\n",
        "plt.xlabel(\"Classes\")\n",
        "plt.ylabel(\"Enrollment\")\n",
        "class_list = plt.bar(classes, enrollment)\n",
        "\n",
        "i=0\n",
        "lowest_score=enrollment[len(classes)-1]\n",
        "lowest_index=len(classes)-1\n",
        "\n",
        "for i in range(len(classes)):\n",
        "  if lowest_score > enrollment[i]:\n",
        "    lowest_score = enrollment[i]\n",
        "    lowest_index=i\n",
        "\n",
        "class_list[lowest_index].set_color('r')\n",
        "\n",
        "#doesn't work for last element being too small\n"
      ],
      "execution_count": 0,
      "outputs": []
    },
    {
      "cell_type": "markdown",
      "metadata": {
        "id": "z7mxejGozvao",
        "colab_type": "text"
      },
      "source": [
        "# **Assignment #8**\n",
        "1. Read the csv file called chord-progressions.csv. It is in \n",
        ">/content/cloned-repo/data_files/chord-progressions.csv\n",
        "2. Create a bar chart using listing the progression quality and the 4th chord for 5 types of progression. \n"
      ]
    },
    {
      "cell_type": "code",
      "metadata": {
        "id": "Ah4EgmwHYz8F",
        "colab_type": "code",
        "colab": {}
      },
      "source": [
        "#from another classmate\n",
        "import csv\n",
        "print(\"done\")\n",
        "\n",
        "data = {}\n",
        "with open(\"data_files/chord-progressions.csv\") as csvfile:\n",
        "  csv_reader = csv.reader(csvfile, delimiter=\",\")\n",
        "\n",
        "  first_row = True\n",
        "  for row in csv_reader:\n",
        "    if not first_row:\n",
        "      if row[-1] in data:\n",
        "        data[row[-1].strip()] += int(row[3].strip())\n",
        "      else:\n",
        "        data[row[-1].strip()] = int(row[3].strip())\n",
        "    else:\n",
        "      first_row = False\n",
        "plt_keys = []\n",
        "plt_values = []\n",
        "for key, value in data.items():\n",
        "  plt_keys.append(key)\n",
        "  plt_values.append(value)\n",
        "  if len(plt_keys) == 5:\n",
        "    break;\n",
        "\n",
        "plt.figure(figsize=(12, 6))\n",
        "plt.bar(plt_keys, plt_values)\n",
        "plt.show() \n"
      ],
      "execution_count": 0,
      "outputs": []
    },
    {
      "cell_type": "markdown",
      "metadata": {
        "id": "NKojrxx4v0bG",
        "colab_type": "text"
      },
      "source": [
        "# **Assignment #9**\n",
        "Read the csv file called data_files/freshman.csv. <br>\n",
        "Create a plot of weight(Sep) vs BMI(Sep)"
      ]
    },
    {
      "cell_type": "code",
      "metadata": {
        "id": "48nh127pvjm3",
        "colab_type": "code",
        "colab": {}
      },
      "source": [
        "#Assignment #9\n",
        "\n"
      ],
      "execution_count": 0,
      "outputs": []
    },
    {
      "cell_type": "markdown",
      "metadata": {
        "id": "N8GjU6nASi5l",
        "colab_type": "text"
      },
      "source": [
        "# **Assignment #10**\n",
        "Read the csv file called: <br>\n",
        "c8-content/sitka_weather_2018_full.csv <br>\n",
        "<br>\n",
        "Plot the high temperatures for the year\n",
        "\n",
        "\n"
      ]
    },
    {
      "cell_type": "code",
      "metadata": {
        "id": "CP07v7joV1s0",
        "colab_type": "code",
        "colab": {}
      },
      "source": [
        "#Assignment #10"
      ],
      "execution_count": 0,
      "outputs": []
    },
    {
      "cell_type": "code",
      "metadata": {
        "id": "anPDDgtVZEcL",
        "colab_type": "code",
        "cellView": "form",
        "colab": {}
      },
      "source": [
        "#@title Hidden cell\n",
        "import csv\n",
        "from matplotlib import pyplot as plt\n",
        "\n",
        "filename = 'c8-content/sitka_weather_2018_full.csv'\n",
        "with open(filename) as f:\n",
        "    reader = csv.reader(f)\n",
        "    header_row = next(reader)\n",
        "    highs = []\n",
        "    for row in reader:\n",
        "        if row[8]=='':\n",
        "            continue    \n",
        "        high = int(row[8],10)\n",
        "        highs.append(high)  #appending high temperatures   \n",
        "    \n",
        "    #Plot Data\n",
        "    fig = plt.figure(dpi = 128, figsize = (10,6))\n",
        "    plt.plot(highs, c = 'red') #Line 1\n",
        "    #Format Plot\n",
        "    plt.title(\"Daily High Temperatures, 2018\", fontsize = 24)\n",
        "    plt.xlabel('',fontsize = 16)\n",
        "    plt.ylabel(\"Temperature (F)\", fontsize = 16)\n",
        "    plt.tick_params(axis = 'both', which = 'major' , labelsize = 16)\n",
        "    plt.show()"
      ],
      "execution_count": 0,
      "outputs": []
    },
    {
      "cell_type": "markdown",
      "metadata": {
        "id": "JpcDVR4FRhEZ",
        "colab_type": "text"
      },
      "source": [
        "# **Images and MatPlotLib**\n",
        "\n",
        "***Matplotlib only supports PNG images***<br>"
      ]
    },
    {
      "cell_type": "code",
      "metadata": {
        "id": "5CcuEBhBRkxh",
        "colab_type": "code",
        "colab": {}
      },
      "source": [
        "#This turns on inline plotting, where plot graphics will appear in your notebook\n",
        "%matplotlib inline\n",
        "import matplotlib.pyplot as plt\n",
        "import matplotlib.image as mpimg\n"
      ],
      "execution_count": 0,
      "outputs": []
    },
    {
      "cell_type": "markdown",
      "metadata": {
        "id": "y3xKfR8lTA4u",
        "colab_type": "text"
      },
      "source": [
        "The following image is a 24-bit RGB PNG image (8 bits for each of R, G, B). <br>\n",
        "Depending on where you get your data, the other kinds of image that you'll most likely encounter are RGBA images"
      ]
    },
    {
      "cell_type": "code",
      "metadata": {
        "id": "7CbHp_LkkMoF",
        "colab_type": "code",
        "colab": {}
      },
      "source": [
        "from IPython.display import Image\n",
        "Image(\"https://matplotlib.org/_images/stinkbug.png\" , width=640)"
      ],
      "execution_count": 0,
      "outputs": []
    },
    {
      "cell_type": "code",
      "metadata": {
        "id": "Hk-4Aw0ZSurz",
        "colab_type": "code",
        "colab": {}
      },
      "source": [
        "#The image is returned as an array\n",
        "img = mpimg.imread('https://matplotlib.org/_images/stinkbug.png')\n",
        "print(img)\n",
        "print(img.shape)\n",
        "#375 X 500 pixels (8 bits for rgb)"
      ],
      "execution_count": 0,
      "outputs": []
    },
    {
      "cell_type": "code",
      "metadata": {
        "id": "aNrpyKdUT3fG",
        "colab_type": "code",
        "colab": {}
      },
      "source": [
        "#Plotting the array\n",
        "imgplot = plt.imshow(img)"
      ],
      "execution_count": 0,
      "outputs": []
    },
    {
      "cell_type": "code",
      "metadata": {
        "id": "IMYRTkf9WpZB",
        "colab_type": "code",
        "colab": {}
      },
      "source": [
        "fig = plt.figure()\n",
        "a = fig.add_subplot(1, 2, 1)\n",
        "imgplot = plt.imshow(img)\n",
        "a.set_title('Before')\n",
        "plt.colorbar(ticks=[0.1, 0.3, 0.5, 0.7], orientation='horizontal')\n",
        "a = fig.add_subplot(1, 2, 2)\n",
        "imgplot = plt.imshow(img)\n",
        "imgplot.set_clim(0.0, 0.7)\n",
        "a.set_title('After')\n",
        "plt.colorbar(ticks=[0.1, 0.3, 0.5, 0.7], orientation='horizontal')"
      ],
      "execution_count": 0,
      "outputs": []
    }
  ]
}