{
  "nbformat": 4,
  "nbformat_minor": 0,
  "metadata": {
    "colab": {
      "name": "C2 Numpy.ipynb",
      "provenance": [],
      "private_outputs": true,
      "collapsed_sections": [],
      "include_colab_link": true
    },
    "kernelspec": {
      "name": "python3",
      "display_name": "Python 3"
    }
  },
  "cells": [
    {
      "cell_type": "markdown",
      "metadata": {
        "id": "view-in-github",
        "colab_type": "text"
      },
      "source": [
        "<a href=\"https://colab.research.google.com/github/jdhaecker/Training/blob/master/C2_Numpy.ipynb\" target=\"_parent\"><img src=\"https://colab.research.google.com/assets/colab-badge.svg\" alt=\"Open In Colab\"/></a>"
      ]
    },
    {
      "cell_type": "code",
      "metadata": {
        "id": "lfUJXDsIfJ0K",
        "colab_type": "code",
        "colab": {}
      },
      "source": [
        "# Clone the entire repo.\n",
        "!git clone -l -s https://github.com/cagBRT/Intro-to-Numpy.git cloned-repo\n",
        "%cd cloned-repo\n",
        "!ls"
      ],
      "execution_count": 0,
      "outputs": []
    },
    {
      "cell_type": "code",
      "metadata": {
        "id": "o5XAHjmDYXid",
        "colab_type": "code",
        "colab": {}
      },
      "source": [
        "import numpy as np"
      ],
      "execution_count": 0,
      "outputs": []
    },
    {
      "cell_type": "markdown",
      "metadata": {
        "id": "_r0mLEMzXpfh",
        "colab_type": "text"
      },
      "source": [
        "**Find index locations for a given condition**"
      ]
    },
    {
      "cell_type": "code",
      "metadata": {
        "id": "QXlnqwtbXlvH",
        "colab_type": "code",
        "colab": {}
      },
      "source": [
        "# Create an array\n",
        "import numpy as np\n",
        "arr_rand = np.array([8, 8, 3, 7, 7, 0, 4, 2, 5, 2])\n",
        "print(\"Array: \", arr_rand)\n",
        "\n",
        "# Positions where value > 5\n",
        "index_gt5 = np.where(arr_rand >= 5)\n",
        "print(\"Positions where value > 5: \", index_gt5)"
      ],
      "execution_count": 0,
      "outputs": []
    },
    {
      "cell_type": "markdown",
      "metadata": {
        "id": "2LiNl0QhYlGg",
        "colab_type": "text"
      },
      "source": [
        "**Creating an array of random numbers**<br>\n",
        "np.random.randint(upper limit of numbers, size of array)"
      ]
    },
    {
      "cell_type": "code",
      "metadata": {
        "id": "XKlchtlxYlYv",
        "colab_type": "code",
        "colab": {}
      },
      "source": [
        "#Create an array of random numbers between 0 - 300\n",
        "randArray = np.random.randint(300, size=10)\n",
        "print(randArray)"
      ],
      "execution_count": 0,
      "outputs": []
    },
    {
      "cell_type": "markdown",
      "metadata": {
        "id": "xV4E8lCVX1Mv",
        "colab_type": "text"
      },
      "source": [
        "# **Assignment #1**\n",
        "1. Create a Numpy array of 100 random numbers between 0 - 1000\n",
        "2. List the indices for all the numbers greater than 700\n"
      ]
    },
    {
      "cell_type": "code",
      "metadata": {
        "id": "Vm__WSlDYQl9",
        "colab_type": "code",
        "colab": {}
      },
      "source": [
        "#Assignment #1\n",
        "randArray = np.random.randint(1000, size=100)\n",
        "print(\"Here's the original array\")\n",
        "print(randArray)\n",
        "print(\"\")\n",
        "\n",
        "indices = np.where(randArray>700)\n",
        "print(\"Positions where value > 5: \", indices)"
      ],
      "execution_count": 0,
      "outputs": []
    },
    {
      "cell_type": "markdown",
      "metadata": {
        "id": "ffT2oft_ZcCe",
        "colab_type": "text"
      },
      "source": [
        "**Extracting values by index**<br>\n",
        "Extract values from an array using their index values.<br>\n",
        "array-name(index values)"
      ]
    },
    {
      "cell_type": "code",
      "metadata": {
        "id": "yFjoDE1TZ1dF",
        "colab_type": "code",
        "colab": {}
      },
      "source": [
        "#Create an array of random numbers between 0 - 300\n",
        "randArray = np.random.randint(300, size=10)\n",
        "print(\"Array: \" ,randArray)\n",
        "#Find all values greater than 200\n",
        "index_gt200 = np.where(randArray > 200)\n",
        "print(\"Values gt200: \",index_gt200)\n",
        "# Take values from the array and form a new array\n",
        "newRandArray = randArray.take(index_gt200)\n",
        "print(\"New Rand Array: \" ,newRandArray)\n",
        "#The original array is untouched\n",
        "print(\"Array: \", randArray)"
      ],
      "execution_count": 0,
      "outputs": []
    },
    {
      "cell_type": "markdown",
      "metadata": {
        "id": "C3UXZVlKb6me",
        "colab_type": "text"
      },
      "source": [
        "# **Assignment #2**\n",
        "1. Create an array of 40 random numbers, with values between 0 - 500\n",
        "2. Find all the values less than 250\n",
        "3. Create a new array of all the values less than 250. \n"
      ]
    },
    {
      "cell_type": "code",
      "metadata": {
        "id": "t55JLJuOayQs",
        "colab_type": "code",
        "colab": {}
      },
      "source": [
        "import numpy as np\n",
        "\n",
        "#Create an array of random numbers between 0 - 500\n",
        "randArray = np.random.randint(0,500, size=40)\n",
        "\n",
        "print(\"Array: \\n\", randArray)\n",
        "print(\"\\n\")\n",
        "\n",
        "#Find all values less than 250\n",
        "index = np.where(randArray < 250)\n",
        "#index.flatten()\n",
        "print(\"Indexes of Values less than 250: \\n\", index)\n",
        "print(\"\\n\")\n",
        "\n",
        "# Take values from the array and form a new array\n",
        "newRandArray = randArray.take(index)\n",
        "print(\"New Random Array of values less than 250: \\n\", newRandArray)\n",
        "print(\"\\n\")\n",
        "\n",
        "#The original array is untouched\n",
        "print(\"The orginal Array remains untouched: \\n\", randArray)\n"
      ],
      "execution_count": 0,
      "outputs": []
    },
    {
      "cell_type": "markdown",
      "metadata": {
        "id": "s8fLHdPfcTd5",
        "colab_type": "text"
      },
      "source": [
        "**Find the maximum value in an array using**:<br>\n",
        "np.argmax(array name)<br>\n",
        "**Find the min with**:<br>\n",
        "np.argmin(array name)"
      ]
    },
    {
      "cell_type": "code",
      "metadata": {
        "id": "t97WmGoNc8DM",
        "colab_type": "code",
        "colab": {}
      },
      "source": [
        "randArray = np.random.random(20)\n",
        "print(randArray)\n",
        "print(\"The maximum value is at index: \", np.argmax(randArray))\n",
        "print(\"The minimum value is at index: \", np.argmin(randArray))"
      ],
      "execution_count": 0,
      "outputs": []
    },
    {
      "cell_type": "markdown",
      "metadata": {
        "id": "CR4xdDAbdarZ",
        "colab_type": "text"
      },
      "source": [
        "# **Assignment #3**<br>\n",
        "1. Create an array of 40 random values \n",
        "2. Find the location of the minimum value\n",
        "3. Find the location of the maximum value\n"
      ]
    },
    {
      "cell_type": "code",
      "metadata": {
        "id": "GnSZfTJYMuNh",
        "colab_type": "code",
        "colab": {}
      },
      "source": [
        "randArray = np.random.random(20)\n",
        "print(randArray)\n",
        "print(\"\")\n",
        "\n",
        "print(\"The maximum value of\", round(randArray[np.argmax(randArray)],3), \"is at index: \", np.argmax(randArray))  #print value (rounded) and index\n",
        "print(\"The minimum value of\", round(randArray[np.argmin(randArray)],3), \"is at index: \", np.argmin(randArray))\n"
      ],
      "execution_count": 0,
      "outputs": []
    },
    {
      "cell_type": "markdown",
      "metadata": {
        "id": "j_k7N68xeP3O",
        "colab_type": "text"
      },
      "source": [
        "**Importing files with mixed data types**\n",
        "<br>Data types in a numpy array should all be the same. <br>\n",
        "When a file has a mix of data types, the non-conforming values are changed to 'nan'<br>\n"
      ]
    },
    {
      "cell_type": "code",
      "metadata": {
        "id": "StoSvJLTfuIi",
        "colab_type": "code",
        "colab": {}
      },
      "source": [
        "#Use the file carData.csv\n",
        "#List the contents of the file\n",
        "cat carData.csv"
      ],
      "execution_count": 0,
      "outputs": []
    },
    {
      "cell_type": "code",
      "metadata": {
        "id": "VMXseIbddokn",
        "colab_type": "code",
        "colab": {}
      },
      "source": [
        "# Turn off scientific notation\n",
        "np.set_printoptions(suppress=True)  \n",
        "\n",
        "# Import data from csv file url\n",
        "path = 'carData.csv'\n",
        "\n",
        "data = np.genfromtxt(path, delimiter=',', skip_header=1, dtype='float')\n",
        "data[:3]  # see first 3 rows\n",
        "\n",
        "#Notice the last value is the model name. \n",
        "#In the numpy array it becomes nan"
      ],
      "execution_count": 0,
      "outputs": []
    },
    {
      "cell_type": "markdown",
      "metadata": {
        "id": "HgazdBLCgtxB",
        "colab_type": "text"
      },
      "source": [
        "**Change the Nan value when importing a file**<br>\n",
        "When importing, the values can be changed value different than nan. Use the filling_values parameter. "
      ]
    },
    {
      "cell_type": "code",
      "metadata": {
        "id": "-Gx9b3xCd-AN",
        "colab_type": "code",
        "colab": {}
      },
      "source": [
        "data = np.genfromtxt(path, delimiter=',', skip_header=1, filling_values=-999, dtype='float')\n",
        "data[:3]  # see first 3 rows"
      ],
      "execution_count": 0,
      "outputs": []
    },
    {
      "cell_type": "markdown",
      "metadata": {
        "id": "4CqfNTZAhxMg",
        "colab_type": "text"
      },
      "source": [
        "**Keep text columns when importing files**<br>\n",
        "Keep the text column by declaring the dtype as object"
      ]
    },
    {
      "cell_type": "code",
      "metadata": {
        "id": "IIneycZth_wW",
        "colab_type": "code",
        "colab": {}
      },
      "source": [
        "# Import data from csv file url\n",
        "path = 'carData.csv'\n",
        "\n",
        "data = np.genfromtxt(path, delimiter=',', skip_header=1, dtype=object)\n",
        "data[:3]  # see first 3 rows\n"
      ],
      "execution_count": 0,
      "outputs": []
    },
    {
      "cell_type": "markdown",
      "metadata": {
        "id": "SItFSVmlipfq",
        "colab_type": "text"
      },
      "source": [
        "# **Assignment #4**<br>\n",
        "Read in the oscar_winners.csv file to a numpy array. <br>\n",
        "Keep the actor's name and the movie title as part of the new numpy array."
      ]
    },
    {
      "cell_type": "code",
      "metadata": {
        "id": "7q56u4X3P8o8",
        "colab_type": "code",
        "colab": {}
      },
      "source": [
        "!cat oscar_winners.csv"
      ],
      "execution_count": 0,
      "outputs": []
    },
    {
      "cell_type": "code",
      "metadata": {
        "id": "6M8fUIqB7cHp",
        "colab_type": "code",
        "colab": {}
      },
      "source": [
        "path = 'oscar_winners.csv'\n",
        "#data = np.genfromtxt(path, delimiter=',', skip_header=0, dtype=object)\n",
        "np.genfromtxt('oscar_winners.csv',delimiter=',',usecols=np.arange(0,5),skip_header=0, dtype=object)\n",
        "movie_data = np.genfromtxt('oscar_winners.csv',delimiter=',',usecols=np.arange(0,5),skip_header=0, dtype=object)\n",
        "#movies = np.genfromtxt(\"oscar_winners.csv\",delimiter=',',skip_header=1, dtype=[('Index','i1'),('Year','i2'), ('Age','i1'),('Name','S20'), ('Movie', 'S20')])\n",
        "print(movie_data)\n",
        "\n",
        "# challenge: pull out the text by stripping the \"b\" and put into a different array"
      ],
      "execution_count": 0,
      "outputs": []
    },
    {
      "cell_type": "markdown",
      "metadata": {
        "id": "PJ8s0S7960Xh",
        "colab_type": "text"
      },
      "source": [
        "# **Assignment #5**\n",
        "1. Create an 1000  element array of random values.\n",
        "2. Find the mean of the array\n",
        "3. Find the standard deviation\n",
        "4. Find the variance\n",
        "\n",
        "Hint* there are built-in functions for these. "
      ]
    },
    {
      "cell_type": "code",
      "metadata": {
        "id": "hj6LvAX_7cu5",
        "colab_type": "code",
        "colab": {}
      },
      "source": [
        "a = np.random.randint(100, size=1000)\n",
        "#print(a)\n",
        "print(\"Mean:\", np.mean(a))\n",
        "print(\"Stdev:\",np.std(a))\n",
        "print(\"Variance:\",np.var(a))"
      ],
      "execution_count": 0,
      "outputs": []
    },
    {
      "cell_type": "markdown",
      "metadata": {
        "id": "2kgh9a-k7z2N",
        "colab_type": "text"
      },
      "source": [
        "# **Assignment #6**<br>\n",
        "1. Create a 2x3 array of integers\n",
        "2. Find the cumulative sum of the elements over the rows for the three columns\n",
        "3. Find the cumulative sum over the columns for the two rows\n",
        "\n",
        "Hint* use cumsum<br>\n",
        ">array_name.cumsum(in_arr, axis = 1) "
      ]
    },
    {
      "cell_type": "code",
      "metadata": {
        "id": "igK0PZHV80rm",
        "colab_type": "code",
        "colab": {}
      },
      "source": [
        "array = np.random.randint(5,20, size=(2, 3))\n",
        "print(array)"
      ],
      "execution_count": 0,
      "outputs": []
    },
    {
      "cell_type": "code",
      "metadata": {
        "id": "4BvH69YzlPgk",
        "colab_type": "code",
        "colab": {}
      },
      "source": [
        "#T Chalmers\n",
        "intArray = np.random.randint(10,size=(2,3))\n",
        "print(intArray)\n",
        "\n",
        "print(\"\\n cumsum rows:\",np.cumsum(intArray,axis=1))\n",
        "print(\"\\n cumsum cols:\",np.cumsum(intArray,axis=0))"
      ],
      "execution_count": 0,
      "outputs": []
    },
    {
      "cell_type": "markdown",
      "metadata": {
        "id": "YhLQSx0I8zn6",
        "colab_type": "text"
      },
      "source": [
        "# **Assignment #7**\n",
        "1. Create a 5x5 array with random values ranging from 10 to 50.\n",
        "\n",
        "Hint* create a vector. Then reshape it as an array"
      ]
    },
    {
      "cell_type": "code",
      "metadata": {
        "id": "mhezPxtu9Mqj",
        "colab_type": "code",
        "colab": {}
      },
      "source": [
        "a = np.random.randint(10,50, size=(5,5))\n",
        "print(a)\n",
        "\n",
        "\n"
      ],
      "execution_count": 0,
      "outputs": []
    },
    {
      "cell_type": "code",
      "metadata": {
        "id": "FFDFvJoxoSfE",
        "colab_type": "code",
        "colab": {}
      },
      "source": [
        ""
      ],
      "execution_count": 0,
      "outputs": []
    },
    {
      "cell_type": "markdown",
      "metadata": {
        "id": "QKiDGeQY9Lzt",
        "colab_type": "text"
      },
      "source": [
        "# **Assignment #8**\n",
        "1. Create a 4x4 array with random values\n",
        "2. Add a row of zeros to the top and bottom of the array. \n",
        "3. Add a column of zers to the left and right side of the array\n",
        "\n",
        "Hint* use the pad functon\n",
        "(This is often used in convolution)"
      ]
    },
    {
      "cell_type": "code",
      "metadata": {
        "id": "T3R74J6doUxn",
        "colab_type": "code",
        "colab": {}
      },
      "source": [
        "#John\n",
        "randArray = np.random.randint(500, size=(4, 4))\n",
        "print(np.pad(randArray, [(1,1),(0,0)], mode='constant')) #pad only top and bottom\n",
        "#print(np.pad(randArray, [(0,0),(1,1)], mode='constant')) #pad only right and left\n",
        "#print(np.pad(randArray, [(1,0),(0,1)], mode='constant')) #pad only top and and left"
      ],
      "execution_count": 0,
      "outputs": []
    },
    {
      "cell_type": "code",
      "metadata": {
        "id": "WqyaotJ-94ec",
        "colab_type": "code",
        "colab": {}
      },
      "source": [
        ""
      ],
      "execution_count": 0,
      "outputs": []
    },
    {
      "cell_type": "code",
      "metadata": {
        "id": "JL_GC1jimH1J",
        "colab_type": "code",
        "colab": {}
      },
      "source": [
        "#Wesley Hunter\n",
        "a = np.random.random(4)\n",
        "\n",
        "a = a.reshape(2,2)\n",
        "\n",
        "b = np.pad(a, (1,1), mode = \"constant\", constant_values = 0)\n",
        "b = np.pad(a, 1, mode = \"constant\", constant_values = 0)\n",
        "\n",
        "print(a)\n",
        "print(\"\")\n",
        "print(b)"
      ],
      "execution_count": 0,
      "outputs": []
    },
    {
      "cell_type": "markdown",
      "metadata": {
        "id": "h95jMJkE-IYU",
        "colab_type": "text"
      },
      "source": [
        "# **Assignment #9**\n",
        "1. Find the unique values in the cylinder column in the file carData.csv\n",
        "\n",
        "Hint* unique is a built in function"
      ]
    },
    {
      "cell_type": "code",
      "metadata": {
        "id": "xYXuW5LJBcqk",
        "colab_type": "code",
        "colab": {}
      },
      "source": [
        "!cat carData.csv"
      ],
      "execution_count": 0,
      "outputs": []
    },
    {
      "cell_type": "code",
      "metadata": {
        "id": "5llylmVoqLmk",
        "colab_type": "code",
        "colab": {}
      },
      "source": [
        "# Wesley Hunter\n",
        "# Turn off scientific notation\n",
        "np.set_printoptions(suppress=True)  \n",
        "\n",
        "# Import data from csv file url\n",
        "path = 'carData.csv'\n",
        "\n",
        "data = np.genfromtxt(path, delimiter=',', skip_header=1, dtype='float') #get the data....use float to get it as floating point and don't care about text\n",
        "\n",
        "unq = np.unique(data[:,1])\n",
        "\n",
        "print(unq)"
      ],
      "execution_count": 0,
      "outputs": []
    },
    {
      "cell_type": "code",
      "metadata": {
        "id": "FbbmhhGlqi_V",
        "colab_type": "code",
        "colab": {}
      },
      "source": [
        "#T Chalmers\n",
        "cars = np.genfromtxt(\"carData.csv\", delimiter=',', skip_header=1, dtype='int') #get the data....use int because we don't care about text\n",
        "cylinders = np.take(cars,1,axis=1) #take out just the cyclinder data\n",
        "print(\"\\n unique qty of cylinders:\",np.unique(cylinders)) #print only unique"
      ],
      "execution_count": 0,
      "outputs": []
    },
    {
      "cell_type": "markdown",
      "metadata": {
        "id": "LVtUAZWpBmxs",
        "colab_type": "text"
      },
      "source": [
        "# **Assignment #10**\n",
        "Given these two arrays: \n",
        "\n",
        "[0, 10, 20, 40, 60, 80]\n",
        "[10, 30, 40, 50, 70]\n",
        "\n",
        "Find the unique values the first array that are not in the second array\n",
        "\n",
        "Hint* This is called setdifference, check for a built in function"
      ]
    },
    {
      "cell_type": "code",
      "metadata": {
        "id": "lhbtUyG1B_l-",
        "colab_type": "code",
        "colab": {}
      },
      "source": [
        ""
      ],
      "execution_count": 0,
      "outputs": []
    }
  ]
}