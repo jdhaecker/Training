{
  "nbformat": 4,
  "nbformat_minor": 0,
  "metadata": {
    "colab": {
      "name": "C6 2 Intro to Python.ipynb",
      "provenance": [],
      "private_outputs": true,
      "include_colab_link": true
    },
    "kernelspec": {
      "name": "python3",
      "display_name": "Python 3"
    }
  },
  "cells": [
    {
      "cell_type": "markdown",
      "metadata": {
        "id": "view-in-github",
        "colab_type": "text"
      },
      "source": [
        "<a href=\"https://colab.research.google.com/github/jdhaecker/Training/blob/master/C6_2_Intro_to_Python.ipynb\" target=\"_parent\"><img src=\"https://colab.research.google.com/assets/colab-badge.svg\" alt=\"Open In Colab\"/></a>"
      ]
    },
    {
      "cell_type": "markdown",
      "metadata": {
        "id": "t25oU9WDHR2g",
        "colab_type": "text"
      },
      "source": [
        "# **Lambda Functions**\n",
        "A lambda function is a small anonymous function.<br>\n",
        "\n",
        "A lambda function can take any number of arguments, but can only have one expression.<br>\n",
        "\n",
        "The syntax is: <br>\n",
        "\n",
        "lambda arguments : expression"
      ]
    },
    {
      "cell_type": "code",
      "metadata": {
        "id": "O3jyk4PYHMpb",
        "colab_type": "code",
        "colab": {}
      },
      "source": [
        "#Example of a lambda function\n",
        "x = lambda a : a * 5\n",
        "print(x(5))"
      ],
      "execution_count": 0,
      "outputs": []
    },
    {
      "cell_type": "markdown",
      "metadata": {
        "id": "TPYnqO5UJkKA",
        "colab_type": "text"
      },
      "source": [
        "# **Assignment #1**\n",
        "Create a lambda function that adds 2.5 to the argument"
      ]
    },
    {
      "cell_type": "code",
      "metadata": {
        "id": "HLcxqtocJ5g3",
        "colab_type": "code",
        "colab": {}
      },
      "source": [
        "\n",
        "x = lambda a : a+2.5\n",
        "print (x(5))"
      ],
      "execution_count": 0,
      "outputs": []
    },
    {
      "cell_type": "markdown",
      "metadata": {
        "id": "n_1sFDJiJ8l9",
        "colab_type": "text"
      },
      "source": [
        "**Lambda functions can take multiple arguments**"
      ]
    },
    {
      "cell_type": "code",
      "metadata": {
        "id": "QvTPGpXvKJIV",
        "colab_type": "code",
        "colab": {}
      },
      "source": [
        "#Example of a lambda function with multiple arguments\n",
        "x = lambda a,b,c : (a * b)/c\n",
        "print(x(1,2,3))"
      ],
      "execution_count": 0,
      "outputs": []
    },
    {
      "cell_type": "markdown",
      "metadata": {
        "id": "dsehTZ3gNO14",
        "colab_type": "text"
      },
      "source": [
        "# **Assignment #2**\n",
        "Create a lambda function that takes 4 arguments and add them together. "
      ]
    },
    {
      "cell_type": "code",
      "metadata": {
        "id": "Q1hMzibNNO_S",
        "colab_type": "code",
        "colab": {}
      },
      "source": [
        "#Assignment #2\n",
        "x = lambda a,b,c,d : a+b+c+d\n",
        "print(x(1,2,3,4))"
      ],
      "execution_count": 0,
      "outputs": []
    },
    {
      "cell_type": "markdown",
      "metadata": {
        "id": "PyqxfEPNKmlc",
        "colab_type": "text"
      },
      "source": [
        "**Lamdba functions can increase the versatility of your functions**<br>\n",
        "Step 1: Create a function that uses a lambda function"
      ]
    },
    {
      "cell_type": "code",
      "metadata": {
        "id": "fIp8t59wKu13",
        "colab_type": "code",
        "colab": {}
      },
      "source": [
        "#For example:\n",
        "#Create a function that uses a lambda function\n",
        "def myfunc(n):\n",
        "  return lambda a : a + n"
      ],
      "execution_count": 0,
      "outputs": []
    },
    {
      "cell_type": "markdown",
      "metadata": {
        "id": "w7zNdEaBLLB3",
        "colab_type": "text"
      },
      "source": [
        "Step 2: define the value of the argument in the lambda function"
      ]
    },
    {
      "cell_type": "code",
      "metadata": {
        "id": "M4qkzdLfLLK-",
        "colab_type": "code",
        "colab": {}
      },
      "source": [
        "#Add 4 to any value \n",
        "my_adder = myfunc(4)"
      ],
      "execution_count": 0,
      "outputs": []
    },
    {
      "cell_type": "markdown",
      "metadata": {
        "id": "1fBGfK5YLZVW",
        "colab_type": "text"
      },
      "source": [
        "Call the function with a function parameter "
      ]
    },
    {
      "cell_type": "code",
      "metadata": {
        "id": "g04HJjtHLZe6",
        "colab_type": "code",
        "colab": {}
      },
      "source": [
        "print(my_adder(33))"
      ],
      "execution_count": 0,
      "outputs": []
    },
    {
      "cell_type": "markdown",
      "metadata": {
        "id": "BNJVP1E0Lo9y",
        "colab_type": "text"
      },
      "source": [
        "# **Assignment #3**\n",
        "1. Create a function that uses a lambda function. The lambda function should subtract 2 from the lambda argument. "
      ]
    },
    {
      "cell_type": "code",
      "metadata": {
        "id": "ZtQXMphDM_yF",
        "colab_type": "code",
        "colab": {}
      },
      "source": [
        "#Assignment #3"
      ],
      "execution_count": 0,
      "outputs": []
    },
    {
      "cell_type": "markdown",
      "metadata": {
        "id": "jiwCLtAqNgQk",
        "colab_type": "text"
      },
      "source": [
        "**Changing the lambda function in the function** \n",
        "Change the argument to the lambda function and this will change the function. "
      ]
    },
    {
      "cell_type": "code",
      "metadata": {
        "id": "eLaY2JgmNlvG",
        "colab_type": "code",
        "colab": {}
      },
      "source": [
        "#Add 5 to any value \n",
        "my_adder = myfunc(5)"
      ],
      "execution_count": 0,
      "outputs": []
    },
    {
      "cell_type": "code",
      "metadata": {
        "id": "gNE5p6LFNuhT",
        "colab_type": "code",
        "colab": {}
      },
      "source": [
        "#Now the function will add 5 to any number\n",
        "print(my_adder(33))"
      ],
      "execution_count": 0,
      "outputs": []
    },
    {
      "cell_type": "markdown",
      "metadata": {
        "id": "EVjnPoT1N_iZ",
        "colab_type": "text"
      },
      "source": [
        "# **Assignment #4**\n",
        "1. Change your lambda function to subtract 4 from any number.\n",
        "2. Call your function and see the difference.\n"
      ]
    },
    {
      "cell_type": "code",
      "metadata": {
        "id": "IeqZks-4OSnK",
        "colab_type": "code",
        "colab": {}
      },
      "source": [
        "#Assignment #4"
      ],
      "execution_count": 0,
      "outputs": []
    },
    {
      "cell_type": "markdown",
      "metadata": {
        "id": "mAqEgYsqOgcf",
        "colab_type": "text"
      },
      "source": [
        "Use the same function definition to make multiple functions, in the same program"
      ]
    },
    {
      "cell_type": "code",
      "metadata": {
        "id": "szMELuIxOn-u",
        "colab_type": "code",
        "colab": {}
      },
      "source": [
        "def func_compute(n):\n",
        " return lambda x : x * n\n",
        "\n",
        "result = func_compute(2)\n",
        "print(\"Double the number of 15 =\", result(15))\n",
        "\n",
        "result = func_compute(3)\n",
        "print(\"Triple the number of 15 =\", result(15))\n",
        "\n",
        "result = func_compute(4)\n",
        "print(\"Quadruple the number of 15 =\", result(15))\n",
        "\n",
        "result = func_compute(5)\n",
        "print(\"Quintuple the number 15 =\", result(15))\n"
      ],
      "execution_count": 0,
      "outputs": []
    },
    {
      "cell_type": "markdown",
      "metadata": {
        "id": "DrhP6cIWPdPM",
        "colab_type": "text"
      },
      "source": [
        "# **Assignment #5**\n",
        "Use the same function definition to make 5 different functions, in the same program"
      ]
    },
    {
      "cell_type": "code",
      "metadata": {
        "id": "bckSBpdHPuXk",
        "colab_type": "code",
        "colab": {}
      },
      "source": [
        "#Assignment #5"
      ],
      "execution_count": 0,
      "outputs": []
    },
    {
      "cell_type": "markdown",
      "metadata": {
        "id": "VB_MZzbipUK1",
        "colab_type": "text"
      },
      "source": [
        "# **Filtering**\n",
        "Filter is a Python method filters the given sequence with the help of a function that tests each element in the sequence to be true or not."
      ]
    },
    {
      "cell_type": "code",
      "metadata": {
        "id": "-0oQ29KgpUUs",
        "colab_type": "code",
        "colab": {}
      },
      "source": [
        "# function that filters vowels \n",
        "def fun(variable): \n",
        "    letters = ['a', 'e', 'i', 'o', 'u'] \n",
        "    if (variable in letters): \n",
        "        return True\n",
        "    else: \n",
        "        return False"
      ],
      "execution_count": 0,
      "outputs": []
    },
    {
      "cell_type": "code",
      "metadata": {
        "id": "qyrUZT32zYFX",
        "colab_type": "code",
        "colab": {}
      },
      "source": [
        "# sequence \n",
        "sequence = ['g', 'e', 'e', 'j', 'k', 's', 'p', 'r']\n",
        " \n",
        "#The for loop through the list\n",
        "#If there is a vowel in sequence, add it to the list\n",
        "list1 = []\n",
        "for i in sequence:\n",
        "  if fun(i)==True:\n",
        "    list1.append(i)\n",
        "print(list1)"
      ],
      "execution_count": 0,
      "outputs": []
    },
    {
      "cell_type": "code",
      "metadata": {
        "id": "qgsGqhrHpkUm",
        "colab_type": "code",
        "colab": {}
      },
      "source": [
        "# using filter function to loop \n",
        "#through the list and if there is a vowel\n",
        "#in sequence, add it to the filter\n",
        "filtered = filter(fun, sequence) \n",
        "\n",
        "for s in filtered: \n",
        "    print(s) "
      ],
      "execution_count": 0,
      "outputs": []
    },
    {
      "cell_type": "markdown",
      "metadata": {
        "id": "u5uBnunO0Lbj",
        "colab_type": "text"
      },
      "source": [
        "**Filter is a data type**\n"
      ]
    },
    {
      "cell_type": "code",
      "metadata": {
        "id": "XPxxANhZ0gqO",
        "colab_type": "code",
        "colab": {}
      },
      "source": [
        "type(filtered)"
      ],
      "execution_count": 0,
      "outputs": []
    },
    {
      "cell_type": "markdown",
      "metadata": {
        "id": "2Mngfmbn0k0m",
        "colab_type": "text"
      },
      "source": [
        "# **Assignment #6**\n",
        "Use a Python filter to find find words in a list\n",
        "1. Create a function to determine if a word is contained in a list.\n",
        "2. Use a filter to create a collection of the words in the list.<br><br>\n",
        "\n",
        "The word_list:<br>\n",
        "['lion','giraffe','elephant','wildebeest','zebra','rhino','hippo', 'leopard','hyena']<br>\n",
        "\n",
        "The search words:<br>\n",
        "['cat','lion','zebra','snake','hippo','seal','whale']<br>\n",
        "\n",
        "3. The filter should contain: <br>\n",
        ">lion, zebra, hippo\n",
        "\n"
      ]
    },
    {
      "cell_type": "code",
      "metadata": {
        "id": "jN6G0X922Oyv",
        "colab_type": "code",
        "colab": {}
      },
      "source": [
        "#Assignment #6\n",
        "\n",
        "#Ian Markham\n",
        "animals = ['lion','giraffe','elephant','wildebeest','zebra','rhino','hippo', 'leopard','hyena']\n",
        "searchables = ['cat','lion','zebra','snake','hippo','seal','whale']\n",
        "for searchable in searchables:\n",
        "  if(searchable in animals):\n",
        "    print(\"Ian is awesome:\",searchable)\n",
        "\n",
        "#Shashank karkare\n",
        "def my_func(word):\n",
        "  animals = ['lion','giraffe','elephant','wildebeest','zebra','rhino','hippo', 'leopard','hyena']\n",
        "  if word in animals:\n",
        "    return True\n",
        "  else:\n",
        "    return False\n",
        "words = ['cat','lion','zebra','snake','hippo','seal','whale']\n",
        "\n",
        "filtered = filter(my_func, words)\n",
        "\n",
        "for w in filtered:\n",
        "  print(w)"
      ],
      "execution_count": 0,
      "outputs": []
    },
    {
      "cell_type": "markdown",
      "metadata": {
        "id": "I9Hs4ZvQ3nr2",
        "colab_type": "text"
      },
      "source": [
        "**Filters with Lambda functions**<br>\n",
        "Filters are often used with Lambda functions. "
      ]
    },
    {
      "cell_type": "code",
      "metadata": {
        "id": "ePX5COBE3zUB",
        "colab_type": "code",
        "colab": {}
      },
      "source": [
        "# a list containing both even and odd numbers.  \n",
        "seq = [0, 1, 2, 3, 5, 8, 13, 21, 44, 56, 89] \n",
        "  \n",
        "# The filter is for true statements\n",
        "#When x%2=1, this is considered a true statement\n",
        "result_odd = filter(lambda x: x % 2, seq) \n",
        "print(list(result_odd)) \n",
        "  \n",
        "# When the statement is true, the answer is filtered\n",
        "#into result_even\n",
        "result_even = filter(lambda x: x % 2 == 0, seq) \n",
        "print(list(result_even)) \n"
      ],
      "execution_count": 0,
      "outputs": []
    },
    {
      "cell_type": "markdown",
      "metadata": {
        "id": "wPRjP7iY-L8X",
        "colab_type": "text"
      },
      "source": [
        "# **Assignment #7**\n",
        "Given the following list, find all the numbers divisible by 17. <br><br>\n",
        "833,23,17,544,33,119,510,399,49,392,238,153,123,255,1023,493,590,42,600,646,442,19,63,799,323,289\n"
      ]
    },
    {
      "cell_type": "code",
      "metadata": {
        "id": "8eAIFq0B-61t",
        "colab_type": "code",
        "colab": {}
      },
      "source": [
        "#Assignment 7\n",
        "sequence = [833,23,17,544,33,119,510,399,49,392,238,153,123,255,1023,493,590,42,600,646,442,19,63,799,323,289]\n",
        "\n",
        "result_divby17 = filter(lambda x: x % 17 == 0, sequence)\n",
        "print(list(result_divby17))"
      ],
      "execution_count": 0,
      "outputs": []
    },
    {
      "cell_type": "markdown",
      "metadata": {
        "id": "CQgTe_TL_zYB",
        "colab_type": "text"
      },
      "source": [
        "# **Assignment #8**\n",
        "Given the list of words, find all the palindromes. <br>\n",
        "Anna, Only mad dogs and Englishmen, otto, book, Eva can I stab bats In A cave, top spot, cat call, Dave, open, The rain in Spain, step on no pets<br><br>\n",
        "\n",
        "Ignore spaces and capital letters. <br>\n",
        "Hint:<br>\n",
        "Google how to reverse a string in Python"
      ]
    },
    {
      "cell_type": "code",
      "metadata": {
        "id": "7kBmlD8VCNyO",
        "colab_type": "code",
        "colab": {}
      },
      "source": [
        "#Assignment 8"
      ],
      "execution_count": 0,
      "outputs": []
    }
  ]
}