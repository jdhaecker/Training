{
  "nbformat": 4,
  "nbformat_minor": 0,
  "metadata": {
    "colab": {
      "name": "C3 Intro To Python.ipynb",
      "provenance": [],
      "private_outputs": true,
      "collapsed_sections": [],
      "include_colab_link": true
    },
    "kernelspec": {
      "name": "python3",
      "display_name": "Python 3"
    }
  },
  "cells": [
    {
      "cell_type": "markdown",
      "metadata": {
        "id": "view-in-github",
        "colab_type": "text"
      },
      "source": [
        "<a href=\"https://colab.research.google.com/github/jdhaecker/Training/blob/master/C3_Intro_To_Python.ipynb\" target=\"_parent\"><img src=\"https://colab.research.google.com/assets/colab-badge.svg\" alt=\"Open In Colab\"/></a>"
      ]
    },
    {
      "cell_type": "code",
      "metadata": {
        "id": "yHKg9HA-Tzq8",
        "colab_type": "code",
        "colab": {}
      },
      "source": [
        "# Clone the entire repo.\n",
        "!git clone -l -s https://github.com/cagBRT/Intro-to-Programming-with-Python.git cloned-repo\n",
        "%cd cloned-repo\n",
        "!ls"
      ],
      "execution_count": 0,
      "outputs": []
    },
    {
      "cell_type": "code",
      "metadata": {
        "id": "f4n4z-QTT5Sl",
        "colab_type": "code",
        "colab": {}
      },
      "source": [
        "from IPython.display import Image\n",
        "def page(num):\n",
        "    return Image(\"c3-content/c3PythonProgramming\"+str(num)+ \".png\" , width=640)"
      ],
      "execution_count": 0,
      "outputs": []
    },
    {
      "cell_type": "markdown",
      "metadata": {
        "id": "GEFERGOX1w8Z",
        "colab_type": "text"
      },
      "source": [
        "# Data Collections\n",
        "There are times when you will want to store a series of data points as a single variable. <br>\n",
        "For example: <br>\n",
        "\n",
        "You have 3 students in one group and 2 students in another group. <br>\n",
        "Sometimes it would be nice to treat a group as a single variable. <br>\n",
        "You can use arrays to do this. <br>\n",
        "For example: <br>\n",
        "group1 = [\"Joe\",\"Susan\",\"Bob\"] <br>\n",
        "group2 = [\"Tommy\",\"Chandler\"]<br>\n",
        "\n",
        "<br>group1 is an array with 3 elements. <br>\n",
        "group2 is an array with 2 elements. \n",
        "\n",
        "<br>When you have a lot of data, arrays can make working with the data a lot easier. "
      ]
    },
    {
      "cell_type": "markdown",
      "metadata": {
        "id": "qHImY66tzzxB",
        "colab_type": "text"
      },
      "source": [
        "# Data Collections (Arrays)\n",
        "\n",
        "Python does not have arrays. <br>\n",
        "Python has lists - which can be used like arrays.<br>\n"
      ]
    },
    {
      "cell_type": "markdown",
      "metadata": {
        "id": "KdPzMt3KPV-O",
        "colab_type": "text"
      },
      "source": [
        "# Lists<br>\n",
        "Lists are a collection of variables that are ordered and changeable. <br>\n"
      ]
    },
    {
      "cell_type": "code",
      "metadata": {
        "id": "qbmcgPgYUB24",
        "colab_type": "code",
        "colab": {}
      },
      "source": [
        "page(1)"
      ],
      "execution_count": 0,
      "outputs": []
    },
    {
      "cell_type": "markdown",
      "metadata": {
        "id": "pY15MUFuRJpM",
        "colab_type": "text"
      },
      "source": [
        "To fully appreciate the power of lists, let's look at how to do a sorting task without lists.<br>\n",
        "Write code to sort the 5 variables from lowest number to highest number. "
      ]
    },
    {
      "cell_type": "code",
      "metadata": {
        "id": "zVo__yj-RinX",
        "colab_type": "code",
        "colab": {}
      },
      "source": [
        "#Create the variables\n",
        "score1 = 96\n",
        "score2 = 88\n",
        "score3 = 97\n",
        "score4 = 99\n",
        "score5 = 76"
      ],
      "execution_count": 0,
      "outputs": []
    },
    {
      "cell_type": "code",
      "metadata": {
        "id": "am48qGun6J6Y",
        "colab_type": "code",
        "colab": {}
      },
      "source": [
        "#Using if statements, write a program to sort the scores\n",
        "score1 = 96\n",
        "score2 = 88\n",
        "score3 = 97\n",
        "score4 = 99\n",
        "score5 = 76\n",
        "\n",
        "if score1>score2:\n",
        "  pos1=score1\n",
        "  pos2=score2"
      ],
      "execution_count": 0,
      "outputs": []
    },
    {
      "cell_type": "code",
      "metadata": {
        "id": "OG4IJIqQS1cR",
        "colab_type": "code",
        "cellView": "both",
        "colab": {}
      },
      "source": [
        "#@title \n",
        "#write code to put the scores in numerical order\n",
        "if score1 > score2:\n",
        "  temp = score1\n",
        "  score1 = score2\n",
        "  score2 = temp\n",
        "\n",
        "if score1 > score3:\n",
        "  temp = score1\n",
        "  score1 = score3\n",
        "  score3 = temp\n",
        "\n",
        "if score1 > score4:\n",
        "  temp = score1\n",
        "  score1 = score4\n",
        "  score4 = temp\n",
        "\n",
        "if score1 > score5:\n",
        "  temp = score1\n",
        "  score1 = score5\n",
        "  score5 = temp\n",
        "\n",
        "#---\n",
        "\n",
        "if score2 > score3:\n",
        "  temp = score2\n",
        "  score2 = score3\n",
        "  score3 = temp\n",
        "\n",
        "if score2 > score4:\n",
        "  temp = score2\n",
        "  score2 = score4\n",
        "  score4 = temp\n",
        "\n",
        "if score2 > score5:\n",
        "  temp = score2\n",
        "  score2 = score5\n",
        "  score5 = temp\n",
        "\n",
        "#---\n",
        "\n",
        "if score3 > score4:\n",
        "  temp = score3\n",
        "  score3 = score4\n",
        "  score4 = temp\n",
        "\n",
        "if score3 > score5:\n",
        "  temp = score3\n",
        "  score3 = score5\n",
        "  score5 = temp\n",
        "\n",
        "#---\n",
        "\n",
        "if score4 > score5:\n",
        "  temp = score4\n",
        "  score4 = score5\n",
        "  score5 = temp\n",
        "\n",
        "#---\n",
        "print(score1)\n",
        "print(score2)\n",
        "print(score3)\n",
        "print(score4)\n",
        "print(score5)"
      ],
      "execution_count": 0,
      "outputs": []
    },
    {
      "cell_type": "markdown",
      "metadata": {
        "id": "I9mJoC8phWo1",
        "colab_type": "text"
      },
      "source": [
        "Sorting the numbers takes a fair amount of coding. If another number is added to the list, the program would have to be modified quite a bit to accommodate the new variable. <br>\n",
        "<br>\n",
        "Let's use a Python List to put the variables in numerical order. "
      ]
    },
    {
      "cell_type": "markdown",
      "metadata": {
        "id": "qbmxt-sXUWiO",
        "colab_type": "text"
      },
      "source": [
        "# Create a Python List\n",
        "1. create the list using the form:<br>\n",
        "      list_name = [value, value, value, value,..., value, value]<br>\n",
        "      For example: cat_names = [\"Belle\",\"Callie\",\"Bootsie\",\"Spot\"]<br>\n",
        "\n",
        "2. Sort the list using the method sort()<br>\n",
        "      For example: cat_names.sort()"
      ]
    },
    {
      "cell_type": "code",
      "metadata": {
        "id": "KKNmg5sgh_Zi",
        "colab_type": "code",
        "colab": {}
      },
      "source": [
        "#Create a list\n",
        "score = [96,88,97,99,76]\n",
        "print(score)"
      ],
      "execution_count": 0,
      "outputs": []
    },
    {
      "cell_type": "markdown",
      "metadata": {
        "id": "E32m-37UizJw",
        "colab_type": "text"
      },
      "source": [
        "# **Assignment #1**\n",
        "\n",
        "1. Create a list called grades with the following values: \n",
        "2,43,76,98,10,33,25,37,44,33,100,1,90,23, 27, 11\n",
        "2. Print the list."
      ]
    },
    {
      "cell_type": "code",
      "metadata": {
        "id": "GyxccAnqmhR2",
        "colab_type": "code",
        "colab": {}
      },
      "source": [
        "#Create a list with the following values: \n",
        "#2,43,76,98,10,33,25,37,44,33,100,1,90,23, 27, 11\n",
        "#TODO\n",
        "\n",
        "grades = [2,43,76,98,10,33,25,37,44,33,100,1,90,23, 27, 11]\n",
        "print(grades)\n",
        "#the below function will sort the list (array) for you\n",
        "print(sorted(grades))\n",
        "print(grades)\n"
      ],
      "execution_count": 0,
      "outputs": []
    },
    {
      "cell_type": "markdown",
      "metadata": {
        "id": "5HtybzdvQKld",
        "colab_type": "text"
      },
      "source": [
        "# Choosing an element in a list\n",
        "To choose a single element in the list, use the form<br>\n",
        "List-name(index number)<br>\n",
        "For example: \n",
        "*   averages[0] ... this selects the **first** element in the list\n",
        "*   averages[4] . ... this selects the **fifth** element in the list\n",
        "\n",
        "\n",
        "\n",
        "\n"
      ]
    },
    {
      "cell_type": "code",
      "metadata": {
        "id": "azVTDnV-Qzt2",
        "colab_type": "code",
        "colab": {}
      },
      "source": [
        "#Create a list\n",
        "score = [96,88,97,99,76]\n",
        "print(\"the first element in score is \",score[0])\n",
        "print(\"the second element in score is \",score[1])\n",
        "print(\"the third element in score is \",score[2])\n",
        "print(\"the fourth element in score is \",score[3])\n",
        "print(\"the fifth element in score is \",score[4])"
      ],
      "execution_count": 0,
      "outputs": []
    },
    {
      "cell_type": "markdown",
      "metadata": {
        "id": "27GZ9HcCRQkz",
        "colab_type": "text"
      },
      "source": [
        "# **Assignment #2**\n",
        "\n",
        "1. Create a list called grades with the following values: \n",
        "2,43,76,98,10,33,25,37,44,33,100,1,90,23, 27, 11\n",
        "2. Print the list.\n",
        "3. Print the following elements of the grades:<br>\n",
        "first element, 4th element, 10th element, last element"
      ]
    },
    {
      "cell_type": "code",
      "metadata": {
        "id": "uxHaeIR2Ri-0",
        "colab_type": "code",
        "colab": {}
      },
      "source": [
        "#Assignment #2\n",
        "\n",
        "#1. Create a list called grades with the following values: \n",
        "#   2,43,76,98,10,33,25,37,44,33,100,1,90,23, 27, 11\n",
        "#2. Print the list.\n",
        "#3. Print the following elements of the grades:<br>\n",
        "#   first element, 4th element, 10th element, last element\n",
        "\n",
        "#TODO\n",
        "#initial creation of grade list and print\n",
        "grades = [2,43,76,98,10,33,25,37,44,33,100,1,90,23, 27, 11]\n",
        "print(grades)\n",
        "print(\"The first grade is: \", grades[0])\n",
        "print(\"The fourth grade is: \", grades[4-1])\n",
        "print(\"The tenth grade is: \", grades[10-1])\n",
        "\n",
        "#approach 1 to finding the last element\n",
        "print(\"The last grade is: \", grades[-1])\n",
        "#appraoch 2 to finding the last element\n",
        "print(\"The last grade is: \", grades[(len(grades)-1)])\n",
        "\n",
        "#sort the lists and print ascending and descending\n",
        "grades_rev = grades\n",
        "grades_rev.sort(reverse=True)\n",
        "print(grades_rev)\n",
        "grades_rev.sort(reverse=False)\n",
        "print(grades_rev)"
      ],
      "execution_count": 0,
      "outputs": []
    },
    {
      "cell_type": "markdown",
      "metadata": {
        "id": "fSZE4lQA50NM",
        "colab_type": "text"
      },
      "source": [
        "# Sorting Lists\n",
        "As we saw at the start of this lesson, sorting a series of variables is not a trivial task. In fact, computer science students spend quite a bit of time learning many different sort algorithms because it is such and important and compute intensive task. <br>\n",
        "<br>\n",
        "Using a Python List can make sorting a large number of variables very easy. Just use the built-in sort function. <br>\n",
        "<br>\n",
        "The form of the built-in sort function is: <br><br>\n",
        "list-name.sort()<br>\n",
        "For example: <br>\n",
        "score.sort()"
      ]
    },
    {
      "cell_type": "code",
      "metadata": {
        "id": "xG_Uuiuo53vg",
        "colab_type": "code",
        "colab": {}
      },
      "source": [
        "#Create a list\n",
        "score = [96,88,97,99,76]\n",
        "\n",
        "#sort the list into numerical order\n",
        "score.sort()\n",
        "print(score)"
      ],
      "execution_count": 0,
      "outputs": []
    },
    {
      "cell_type": "markdown",
      "metadata": {
        "id": "CHQvZT4TmpYg",
        "colab_type": "text"
      },
      "source": [
        "# **Assignment #3**\n",
        "1. Create a list called grades with values:<br>\n",
        "  23,54,87,56,99,87,32,9,29,76,75,45\n",
        "1. Sort the list from lowest to highest number\n",
        "2. Print the list"
      ]
    },
    {
      "cell_type": "code",
      "metadata": {
        "colab_type": "code",
        "id": "pDnuhr7_m4GY",
        "colab": {}
      },
      "source": [
        "#Assignment 2\n",
        "#Sort the list called grades\n",
        "#TODO\n",
        "#initial creation of grade list and print\n",
        "grades = [23,54,87,56,99,87,32,9,29,76,75,45]\n",
        "print(grades)\n",
        "\n",
        "#sort the lists and print ascending and descending\n",
        "grades_rev = grades\n",
        "grades_rev.sort()\n",
        "print(grades_rev)\n",
        "grades_rev.sort(reverse=True)\n",
        "print(grades_rev)"
      ],
      "execution_count": 0,
      "outputs": []
    },
    {
      "cell_type": "markdown",
      "metadata": {
        "id": "DHCasCEvnCsw",
        "colab_type": "text"
      },
      "source": [
        "Python lists have a number of built in methods. <br>\n",
        "There is no need to memorize the built in methods, because.... we have the internet!<br>\n",
        "Go to [this link](https://www.w3schools.com/python/python_ref_list.asp) to see the methods for lists. "
      ]
    },
    {
      "cell_type": "markdown",
      "metadata": {
        "id": "e5iwsTZ4rjwd",
        "colab_type": "text"
      },
      "source": [
        "# **Assignment #4**\n",
        "1. Create a list with 10 float values. \n",
        "2. Sort the list in ascending order. \n",
        "3. Sort the list in descending order. \n",
        "4. Print the list."
      ]
    },
    {
      "cell_type": "code",
      "metadata": {
        "id": "OpZvIRF5sL90",
        "colab_type": "code",
        "colab": {}
      },
      "source": [
        "#Create a list of floats\n",
        "#Sort in ascending order\n",
        "#Then sort in descending order\n",
        "#TODO\n",
        "floats = [2.2, 1.1, 4.4, 3.3, 6.6, 10.10, 7.7, 5.5, 8.8, 9.9]\n",
        "floats.sort()\n",
        "print(floats)\n",
        "floats.reverse()\n",
        "print(floats)\n",
        "\n",
        "#OR\n",
        "floats.sort()\n",
        "print(floats)\n",
        "floats.sort(reverse=True)\n",
        "print(floats)"
      ],
      "execution_count": 0,
      "outputs": []
    },
    {
      "cell_type": "markdown",
      "metadata": {
        "id": "pOX8BkM6sXm6",
        "colab_type": "text"
      },
      "source": [
        "# **Assignment #5**\n",
        "1. Create a list of 10 states names. \n",
        "2. Print the list.\n",
        "3. Delete the state name in the 5th position in the list. Remember lists start with position 0. \n",
        "4. Print the list.\n",
        "5. Add Hawaii to the end of the list. "
      ]
    },
    {
      "cell_type": "code",
      "metadata": {
        "id": "-fuz4CsQtEoK",
        "colab_type": "code",
        "colab": {}
      },
      "source": [
        "\n",
        "#1. Create a list of 10 states names. \n",
        "#2. Print the list.\n",
        "#3. Delete the state name in the 5th position in the list. Remember lists start with position 0. \n",
        "#4. Print the list.\n",
        "#5. Add Hawaii to the end of the list.\n",
        "#TODO \n",
        "states = [\"AR\", \"AL\", \"CT\", \"GA\", \"IL\", \"IA\", \"NE\", \"MT\", \"TX\", \"WI\"]\n",
        "print(states)\n",
        "\n",
        "print(\"Remove method #1\")\n",
        "states.remove(\"IL\")\n",
        "print(states)\n",
        "\n",
        "#OR\n",
        "states = [\"AR\", \"AL\", \"CT\", \"GA\", \"IL\", \"IA\", \"NE\", \"MT\", \"TX\", \"WI\"]\n",
        "print(\"Remove method #2\")\n",
        "states.remove(states[4])\n",
        "print (states)\n",
        "\n",
        "#OR\n",
        "states = [\"AR\", \"AL\", \"CT\", \"GA\", \"IL\", \"IA\", \"NE\", \"MT\", \"TX\", \"WI\"]\n",
        "print(\"Remove method #3\")\n",
        "del(states[4])\n",
        "print (states)\n",
        "\n",
        "states.append(\"FL\")\n",
        "print(states)"
      ],
      "execution_count": 0,
      "outputs": []
    },
    {
      "cell_type": "markdown",
      "metadata": {
        "id": "-_crEztc6qgM",
        "colab_type": "text"
      },
      "source": [
        "# **Assignment #6**\n",
        "1. Create a list of 10 floats. <br>\n",
        "Using the builtin functions at https://www.tutorialspoint.com/python/python_lists.htm perform the following tasks:\n",
        "2. Print the list\n",
        "3. Print the minimum number from the list\n",
        "4. Print the maximum number from the list\n",
        "5. Print the length of the list "
      ]
    },
    {
      "cell_type": "code",
      "metadata": {
        "id": "NLPlnq-wHp4H",
        "colab_type": "code",
        "colab": {}
      },
      "source": [
        "#Assignment #5\n",
        "#1. Create a list of 10 floats. <br>\n",
        "#Using the builtin functions at https://www.tutorialspoint.com/python/python_lists.htm perform the following tasks:\n",
        "#2. Print the list\n",
        "#3. Print the minimum number from the list\n",
        "#4. Print the maximum number from the list\n",
        "#5. Print the length of the list\n",
        "\n",
        "#TODO\n",
        "floats = [2.2, 1.1, 4.4, 3.3, 6.6, 10.10, 7.7, 5.5, 8.8, 9.9]\n",
        "print(floats)\n",
        "floats.sort()\n",
        "print(floats[0])\n",
        "print(floats[-1])\n",
        "print(len(floats))\n",
        "print(max(floats))\n",
        "print(min(floats))"
      ],
      "execution_count": 0,
      "outputs": []
    },
    {
      "cell_type": "markdown",
      "metadata": {
        "id": "I3jyHrr2W2R7",
        "colab_type": "text"
      },
      "source": [
        "# Quiz"
      ]
    },
    {
      "cell_type": "code",
      "metadata": {
        "id": "YaC9J8rGTWzW",
        "colab_type": "code",
        "colab": {}
      },
      "source": [
        "page(2)"
      ],
      "execution_count": 0,
      "outputs": []
    },
    {
      "cell_type": "code",
      "metadata": {
        "id": "MrrJKqAbUEfn",
        "colab_type": "code",
        "cellView": "form",
        "colab": {}
      },
      "source": [
        "#@title Q1: What is the output of the above code? \n",
        "variable_name = \"Tim\" #@param {type:\"string\"}\n",
        "variable_name = variable_name.lower()\n",
        "if variable_name == \"tim\":\n",
        "  print(\"correct!\")\n",
        "else:\n",
        "  print(\"Try again. Remember List indexes start with 0\")\n"
      ],
      "execution_count": 0,
      "outputs": []
    },
    {
      "cell_type": "code",
      "metadata": {
        "id": "cnSLMl2lWQJc",
        "colab_type": "code",
        "colab": {}
      },
      "source": [
        "page(3)"
      ],
      "execution_count": 0,
      "outputs": []
    },
    {
      "cell_type": "code",
      "metadata": {
        "id": "L6EuckYsWZtg",
        "colab_type": "code",
        "cellView": "form",
        "colab": {}
      },
      "source": [
        "#@title Q2: What is the outcome of the above code? \n",
        "\n",
        "pick_me = \"77 is above 50\"  #@param ['pick one','77 is above 50', '77 is above 75', '77 is above 100', '77 is too small to count']\n",
        "if pick_me == \"77 is above 50\":\n",
        "  print(\"correct!\")\n",
        "else:\n",
        "  print(\"Try again, remember the first true 'elif' statement is executed\" )\n"
      ],
      "execution_count": 0,
      "outputs": []
    },
    {
      "cell_type": "code",
      "metadata": {
        "id": "i560Bp3vaRRw",
        "colab_type": "code",
        "colab": {}
      },
      "source": [
        "page(4)"
      ],
      "execution_count": 0,
      "outputs": []
    },
    {
      "cell_type": "code",
      "metadata": {
        "id": "Zj5Eez0_aFu6",
        "colab_type": "code",
        "cellView": "form",
        "colab": {}
      },
      "source": [
        "#@title Q3: What is the output of the code?\n",
        "pick_me = \"77 is above 25\"  #@param ['77 is above 25', '77 is above 50', '77 is above 75', 'is to large to count']\n",
        "if pick_me == \"77 is above 25\": \n",
        "  print(\"correct!\")\n",
        "else:\n",
        "  print(\"Try again, remember the first true 'elif' statement is executed\" )"
      ],
      "execution_count": 0,
      "outputs": []
    },
    {
      "cell_type": "markdown",
      "metadata": {
        "id": "aduvcAS8bG_t",
        "colab_type": "text"
      },
      "source": [
        "# **Assignment #7**\n",
        "Create a program that performs the following task:\n",
        "1. Create a List called scores with the following values:\n",
        "   5,4,8,7,2,2,4,9,1,3,8,6,9,8\n",
        "2. Check the 1, 3, 5, 10 index values. If all 4 values are greater than 2 and less than 7, print \"PASS\"\n",
        "3. If only 3 of the values are greater than 2 and less than 7, print \"ALMOST PASS\"\n",
        "4. If only 2 of the values are greater than 2 and less than 7, print \"ALMOST FAIL\"\n",
        "5. If only 1 of the value is greater than 2 and less than 7, print \"FAIL\""
      ]
    },
    {
      "cell_type": "code",
      "metadata": {
        "id": "WhwYroMYbGWo",
        "colab_type": "code",
        "colab": {}
      },
      "source": [
        "#Assignment #6\n",
        "#Create a program that performs the following task:\n",
        "#1. Create a List called scores with the following values:\n",
        "#  5,4,8,7,2,2,4,9,1,3,8,6,9,8\n",
        "#2. Check the 1, 3, 5, 10 index values. If all 4 values are greater than 2 and less than 7, print \"PASS\"\n",
        "#3. If only 3 of the values are greater than 2 and less than 7, print \"ALMOST PASS\"\n",
        "#4. If only 2 of the values are greater than 2 and less than 7, print \"ALMOST FAIL\"\n",
        "#5. If only 1 of the value is greater than 2 and less than 7, print \"FAIL\"\n",
        "\n",
        "#TODO\n",
        "numbers = [5,4,8,7,2,2,4,9,1,3,8,6,9,8]\n",
        "print(numbers)\n",
        "count=0\n",
        "if numbers[1] > 2 and numbers[1] < 7:\n",
        "  count=count+1\n",
        "if numbers[3] > 2 and numbers[3] < 7:\n",
        "  count=count+1\n",
        "if numbers[5] > 2 and numbers[5] < 7:\n",
        "  count=count+1\n",
        "if numbers[10] > 2 and numbers[10] < 7:\n",
        "  count=count+1\n",
        "print(count)\n",
        "if count == 4:\n",
        "  print(\"PASS\")\n",
        "elif count == 3:\n",
        "  print(\"ALMOST PASS\")\n",
        "elif count == 2:\n",
        "  print(\"ALMOST FAIL\")\n",
        "elif count == 1:\n",
        "  print(\"FAIL\")\n",
        "else:\n",
        "  print(\"SUPER FAIL\")\n",
        "\n",
        "#ANOTHER ALTERNATIVE FROM SOMEONE IN CLASS (Lucas Hunziker)\n",
        "scores=[5,4,8,7,2,2,4,9,1,3,8,6,9,8]\n",
        "scores_sub = [scores[1],scores[3],scores[5],scores[10]]\n",
        "print(\"scores_of_interest\",scores_sub)\n",
        "x=sum(i>2 and i<7 for i in scores_sub)\n",
        "print(x)\n",
        "if x==4:\n",
        "  print(\"Pass\")\n",
        "elif x==3:\n",
        "  print(\"almost pass\")\n",
        "elif x==2:\n",
        "  print(\"Almost fail\")\n",
        "elif x==1:\n",
        "  print(\"Fail\")\n",
        "\n",
        "#ANOTHER ALTERNATIVE FROM SOMEONE IN CLASS (Hongyan)\n",
        "scores = [5,4,8,7,2,2,4,9,1,3,8,6,9,8]\n",
        "count = (scores[1] >2 and scores[1] <7) + (scores[3] >2 and scores[3] <7) + (scores[5] >2 and scores[5] <7) +(scores[10] >2 and scores[10] <7)\n",
        "print(count)\n",
        "if (count == 4):\n",
        "    print(\"PASS\")\n",
        "elif (count == 3):\n",
        "    print(\"ALMOST PASS\")\n",
        "elif (count == 2):\n",
        "    print(\"ALMOST FAIL\")\n",
        "else:\n",
        "    print(\"FAIL\")\n",
        "\n",
        "#ANOTHER ALTERNATIVE FROM SOMEONE IN CLASS (IAN MARKHAM) - need to troubleshoot as it doesn't quit work\n",
        "# Init\n",
        "scores = [5,4,8,7,2,2,4,9,1,3,8,6,9,8]\n",
        "score_subset=[]\n",
        "score_subset.append(scores[1])\n",
        "score_subset.append(scores[3])\n",
        "score_subset.append(scores[5])\n",
        "score_subset.append(scores[10])\n",
        "\n",
        "print(score_subset)\n",
        "gt_counter = 0\n",
        "\n",
        "# Check\n",
        "for score in score_subset:\n",
        "  if score > 2 and score < 7:\n",
        "    gt_counter+=1\n",
        "  \n",
        "# Ouput\n",
        "print(\"lt_counter:\",lt_counter)\n",
        "print(\"gt_counter:\",gt_counter)\n",
        "\n",
        "# Checks\n",
        "if(gt_counter == 4 and lt_counter == 4):\n",
        "  print(\"PASS\")\n",
        "elif(gt_counter == 3 and lt_counter == 3):\n",
        "  print(\"ALMOST PASS\")\n",
        "elif(gt_counter == 2 and lt_counter == 2):\n",
        "  print(\"ALMOST FAIL\")\n",
        "elif(gt_counter == 1 and lt_counter == 1):\n",
        "  print(\"FAIL\")"
      ],
      "execution_count": 0,
      "outputs": []
    },
    {
      "cell_type": "markdown",
      "metadata": {
        "id": "laiImYAAXjX3",
        "colab_type": "text"
      },
      "source": [
        "# List of Lists\n",
        "https://www.dataquest.io/blog/python-list-tutorial/\n",
        "\n",
        "Let's create several Lists and see what we can do with them.<br>\n",
        "\n"
      ]
    },
    {
      "cell_type": "code",
      "metadata": {
        "id": "zr3dnd5aXMiL",
        "colab_type": "code",
        "colab": {}
      },
      "source": [
        "#Movie title, weeks released, weekend gross, rotten tomatoes rating\n",
        "row_1 = ['Star Wars: Rise of Skywalker',3,34.5, 54]\n",
        "row_2 = ['Jumanji: The Next Level', 4, 26.2, 70 ]\n",
        "row_3 = ['Little Women', 3, 26.2, 95]\n",
        "row_4 = ['The Grudge', 1, 11.4, 16]\n",
        "\n",
        "#print the length of a row\n",
        "print(len(row_1))\n",
        "\n",
        "#print the names of the movies\n",
        "print(row_1[0])\n",
        "print(row_2[0])\n",
        "print(row_3[0])\n",
        "print(row_4[0])\n",
        "\n",
        "#print the average rotten tomatoes rating for the four movies\n",
        "average = (row_1[3] + row_2[3] + row_3[3] + row_4[3] )/4\n",
        "print(\"rotten tomatoes average = \", average)\n",
        "\n",
        "#Make a list of lists\n",
        "data_set = [row_1, row_2, row_3, row_4]\n",
        "\n",
        "#print the first row of our data set\n",
        "print(data_set)\n",
        "#notice the double row of brackets in the output\n",
        "#and the commas between the rows\n",
        "\n",
        "#print the rotten tomatoes rating for the third row in the dataset\n",
        "print(row_3[3], \"is the rotten tomatoes rating for \", row_3[0])"
      ],
      "execution_count": 0,
      "outputs": []
    },
    {
      "cell_type": "markdown",
      "metadata": {
        "id": "SnmkC0mQaQRK",
        "colab_type": "text"
      },
      "source": [
        "# **Assignment #8**\n",
        "Create a List of Lists (call it dataset) for the rows shown below. \n",
        "<br>\n",
        "T-Meter is the rotten tomatoes rating\n",
        "<br><br>\n",
        "Then print the average of the weekend gross for all the listed movies. "
      ]
    },
    {
      "cell_type": "code",
      "metadata": {
        "id": "xXwmWqP2bHmW",
        "colab_type": "code",
        "colab": {}
      },
      "source": [
        "page(5)"
      ],
      "execution_count": 0,
      "outputs": []
    },
    {
      "cell_type": "code",
      "metadata": {
        "id": "68JjjAlybW-2",
        "colab_type": "code",
        "colab": {}
      },
      "source": [
        "# **Assignment #8**\n",
        "#Create a List of Lists (call it dataset) for the rows shown above. \n",
        "#Then print the average of the weekend gross for all the listed movies.\n",
        "\n",
        "#TODO\n",
        "dataset=[]\n",
        "row=[]\n",
        "row1 = [\"Star Wars: The Rise of Sky Walker\", 0.54, 3, 34.5, 34.5]\n",
        "row2 = [\"Jumaji: The Next Level\", 0.70, 4, 26.2, 26.2]\n",
        "row3 = [\"Little Women\", 0.95, 3, 13.6, 13.6]\n",
        "row4 = [\"Frozen II\", 0.77, 7, 11.9, 11.9]\n",
        "row5 = [\"The Grudge\", 0.16, 1, 11.4, 11.4]\n",
        "row6 = [\"Spies in Disguise\", 0.75, 3, 10.4, 10.4]\n",
        "row7 = [\"Knives Out\", 0.97, 7, 8.9, 8.9]\n",
        "row8 = [\"Uncut Gems\", .92, 3, 7.6, 7.6]\n",
        "\n",
        "dataset = [row1, row2, row3, row4, row5]\n",
        "\n",
        "ave_wknd_gross = (row1[4] + row2[4] + row3[4] + row4[4] + row5[4])/(len(dataset))\n",
        "print(dataset)\n",
        "print(\"The average is: \", ave_wknd_gross)"
      ],
      "execution_count": 0,
      "outputs": []
    },
    {
      "cell_type": "markdown",
      "metadata": {
        "id": "AHBcEGqvoKzh",
        "colab_type": "text"
      },
      "source": [
        "Congrats! You finished another Python Module.\n",
        "Keep up the good work....start the next module\n",
        "\n",
        "C4 Intro to ML Programming with Python\n",
        "<br><br>\n",
        "Instructions to access the notebooks:<br> \n",
        "In a Chrome or Firefox Window type on the search bar: **Google CoLab**<br>\n",
        "\n",
        "On the orange menu bar, select the menu item: **GITHUB**<br>\n",
        "\n",
        "If the orange pop-up menu does not appear, <br>\n",
        "\n",
        "In the Notebook environment, select File>Open notebook <br>\n",
        "\n",
        "The orange pop-up menu should now appear.<br>\n",
        "\n",
        "Select:  GITHUB<br>\n",
        "\n",
        "On the search bar type in: **cagBRT**  This will bring up my gitHub repository. <br>\n",
        "\n",
        "On the drop down menu select: cagBRT/<br>**Intro-To-Programming-with-Python**<br>\n",
        "\n",
        "Then select: **Intro to C4 Intro to Python.ipynb**<br>"
      ]
    }
  ]
}