{
  "nbformat": 4,
  "nbformat_minor": 0,
  "metadata": {
    "colab": {
      "name": "fashion mnist.ipynb",
      "provenance": [],
      "private_outputs": true,
      "collapsed_sections": [],
      "include_colab_link": true
    },
    "kernelspec": {
      "name": "python3",
      "display_name": "Python 3"
    },
    "accelerator": "GPU"
  },
  "cells": [
    {
      "cell_type": "markdown",
      "metadata": {
        "id": "view-in-github",
        "colab_type": "text"
      },
      "source": [
        "<a href=\"https://colab.research.google.com/github/jdhaecker/Training/blob/master/fashion_mnist.ipynb\" target=\"_parent\"><img src=\"https://colab.research.google.com/assets/colab-badge.svg\" alt=\"Open In Colab\"/></a>"
      ]
    },
    {
      "cell_type": "markdown",
      "metadata": {
        "id": "hev4s-gpA4Eo",
        "colab_type": "text"
      },
      "source": [
        "# **Fashion-MNIST**\n",
        "\n",
        "60,000 training images of clothing<br>\n",
        "10,000 test images of clothing<br>\n",
        "The images are 28x28 pixels<br>\n",
        "There are 10 classes:<bt>\n",
        "> (\"top\", \"trouser\", \"pullover\", \"dress\", \"coat\",\"sandal\", \"shirt\", \"sneaker\", \"bag\", \"ankle boot\")\n"
      ]
    },
    {
      "cell_type": "markdown",
      "metadata": {
        "id": "gtG6OJL8Dltz",
        "colab_type": "text"
      },
      "source": [
        "# **Clone the repo**"
      ]
    },
    {
      "cell_type": "code",
      "metadata": {
        "id": "fWpejQ074CEd",
        "colab_type": "code",
        "colab": {}
      },
      "source": [
        "# Clone the entire repo.\n",
        "!git clone -l -s https://github.com/cagBRT/Machine-Learning.git cloned-repo\n",
        "%cd cloned-repo\n",
        "!ls"
      ],
      "execution_count": 0,
      "outputs": []
    },
    {
      "cell_type": "markdown",
      "metadata": {
        "id": "nfDPSOSR4yQw",
        "colab_type": "text"
      },
      "source": [
        "Fashion-MNIST is intended to serve as a direct drop-in replacement for the original MNIST dataset to benchmark machine learning algorithms, as it shares the same image size and the structure of training and testing splits.<br><br>\n"
      ]
    },
    {
      "cell_type": "code",
      "metadata": {
        "id": "bKuNwSUJ4ZXK",
        "colab_type": "code",
        "colab": {}
      },
      "source": [
        "from IPython.display import Image\n",
        "Image(\"fashion-mnist-sprite.png\")"
      ],
      "execution_count": 0,
      "outputs": []
    },
    {
      "cell_type": "markdown",
      "metadata": {
        "id": "iK3gZsPSFSCP",
        "colab_type": "text"
      },
      "source": [
        "# **Set the runtime to GPU**\n",
        "\n",
        "Runtime> Change Runtime Type > Python 3 > GPU"
      ]
    },
    {
      "cell_type": "markdown",
      "metadata": {
        "id": "1UjYSxjbDtPD",
        "colab_type": "text"
      },
      "source": [
        "# **Load the necessary libraries**"
      ]
    },
    {
      "cell_type": "code",
      "metadata": {
        "id": "aq-EPIuF_zgD",
        "colab_type": "code",
        "colab": {}
      },
      "source": [
        "from __future__ import absolute_import, division, print_function, unicode_literals\n",
        "\n",
        "# Install TensorFlow\n",
        "try:\n",
        "  # %tensorflow_version only exists in Colab.\n",
        "  %tensorflow_version 2.x\n",
        "except Exception:\n",
        "  pass\n",
        "\n",
        "import tensorflow as tf\n",
        "import pathlib\n",
        "\n",
        "import matplotlib.pyplot as plt\n",
        "import pandas as pd\n",
        "import seaborn as sns\n",
        "import numpy as np\n",
        "import cv2\n",
        "from imutils import build_montages\n",
        "\n",
        "import tensorflow.keras\n",
        "from tensorflow.keras.datasets import fashion_mnist\n",
        "from tensorflow.keras.models import Sequential\n",
        "from tensorflow.keras import backend as K\n",
        "from tensorflow.keras import optimizers\n",
        "from tensorflow.keras.utils import to_categorical\n",
        "from tensorflow import keras\n",
        "from tensorflow.keras import layers\n",
        "from tensorflow.keras.layers import Activation, Dense, Dropout, Flatten\n",
        "from tensorflow.keras.layers import Conv2D, MaxPooling2D\n",
        "#Adding Callback for early stopping\n",
        "from tensorflow.keras.callbacks import EarlyStopping\n",
        "\n",
        "print(tf.__version__)\n",
        "\n",
        "import os\n",
        "os.environ['TF_CPP_MIN_LOG_LEVEL']='2'\n",
        "\n",
        "\n"
      ],
      "execution_count": 0,
      "outputs": []
    },
    {
      "cell_type": "markdown",
      "metadata": {
        "id": "0N0lyiOv1Bhi",
        "colab_type": "text"
      },
      "source": [
        "# **Load the Fashion MNIST Data Set**"
      ]
    },
    {
      "cell_type": "code",
      "metadata": {
        "id": "HOc5X6LW_7CF",
        "colab_type": "code",
        "colab": {}
      },
      "source": [
        "#Loading Data\n",
        "(X_train,y_train),(X_test,y_test) = fashion_mnist.load_data()"
      ],
      "execution_count": 0,
      "outputs": []
    },
    {
      "cell_type": "code",
      "metadata": {
        "id": "2H_qeK2w1IQe",
        "colab_type": "code",
        "colab": {}
      },
      "source": [
        "print(X_train.size)\n",
        "print(y_train.size)\n",
        "print(X_test.size)\n",
        "print(y_test.size)"
      ],
      "execution_count": 0,
      "outputs": []
    },
    {
      "cell_type": "markdown",
      "metadata": {
        "id": "LL-JAq_75U6b",
        "colab_type": "text"
      },
      "source": [
        "The classes: <br>\n",
        "The ten fashion class labels include:<br>\n",
        "\n",
        "T-shirt/top<br>\n",
        "Trouser/pants<br>\n",
        "Pullover shirt<br>\n",
        "Dress<br>\n",
        "Coat<br>\n",
        "Sandal<br>\n",
        "Shirt<br>\n",
        "Sneaker<br>\n",
        "Bag<br>\n",
        "Ankle boot<br>\n"
      ]
    },
    {
      "cell_type": "code",
      "metadata": {
        "id": "jWppSSwC5u1o",
        "colab_type": "code",
        "colab": {}
      },
      "source": [
        "labelNames = [\"top\", \"trouser\", \"pullover\", \"dress\", \"coat\",\n",
        "\t\"sandal\", \"shirt\", \"sneaker\", \"bag\", \"ankle boot\"]"
      ],
      "execution_count": 0,
      "outputs": []
    },
    {
      "cell_type": "markdown",
      "metadata": {
        "id": "wX_O5rnHD7D3",
        "colab_type": "text"
      },
      "source": [
        "# **Examine the data**"
      ]
    },
    {
      "cell_type": "code",
      "metadata": {
        "id": "ahWnCubb257X",
        "colab_type": "code",
        "colab": {}
      },
      "source": [
        "import matplotlib.pyplot as plt\n",
        "%matplotlib inline  \n",
        "plt.imshow(X_train[1000], cmap='Greys')"
      ],
      "execution_count": 0,
      "outputs": []
    },
    {
      "cell_type": "code",
      "metadata": {
        "id": "pZ6Wtrkz3P2t",
        "colab_type": "code",
        "colab": {}
      },
      "source": [
        "plt.imshow(X_test[530], cmap='Greys')"
      ],
      "execution_count": 0,
      "outputs": []
    },
    {
      "cell_type": "markdown",
      "metadata": {
        "id": "evWi5a8uD_YP",
        "colab_type": "text"
      },
      "source": [
        "# **Define some of the hyperparameters**"
      ]
    },
    {
      "cell_type": "code",
      "metadata": {
        "id": "3FGhOs7NAAcC",
        "colab_type": "code",
        "colab": {}
      },
      "source": [
        "#defining Parameters\n",
        "num_classes = 10\n",
        "batch_size = 2000\n",
        "epoch = 50\n",
        "img_rows, img_cols = 28,28"
      ],
      "execution_count": 0,
      "outputs": []
    },
    {
      "cell_type": "markdown",
      "metadata": {
        "id": "BkAnT5E0EG4A",
        "colab_type": "text"
      },
      "source": [
        "# **Reshape the images for the model**"
      ]
    },
    {
      "cell_type": "code",
      "metadata": {
        "id": "-JFftXz7AD9Y",
        "colab_type": "code",
        "colab": {}
      },
      "source": [
        "#Deal with format issues between different backends. Some put the no. of channels in the image before the width and height.\n",
        "if K.image_data_format() == 'channels_first':\n",
        "    X_train=X_train.reshape(X_train.shape[0],1,img_rows,img_cols)\n",
        "    X_test =X_test.reshape(X_test.shape[0],1,img_rows,img_cols)\n",
        "    input_shape=(1,img_rows,img_cols)\n",
        "else:\n",
        "    X_train=X_train.reshape(X_train.shape[0],img_rows,img_cols,1)\n",
        "    X_test =X_test.reshape(X_test.shape[0],img_rows,img_cols,1)\n",
        "    input_shape=(img_rows,img_cols,1)"
      ],
      "execution_count": 0,
      "outputs": []
    },
    {
      "cell_type": "markdown",
      "metadata": {
        "id": "bi1aRBivEMBE",
        "colab_type": "text"
      },
      "source": [
        "# **Normalize the data**"
      ]
    },
    {
      "cell_type": "code",
      "metadata": {
        "id": "-kT-ecK-AHUl",
        "colab_type": "code",
        "colab": {}
      },
      "source": [
        "#Convert and  scale the test and training data. Bring the scale from 0-255 to 0-1.\n",
        "X_train = X_train.astype('float32')\n",
        "X_test = X_test.astype('float32')\n",
        "X_train /= 255\n",
        "X_test /= 255"
      ],
      "execution_count": 0,
      "outputs": []
    },
    {
      "cell_type": "markdown",
      "metadata": {
        "id": "VorNyr6dEPrD",
        "colab_type": "text"
      },
      "source": [
        "# **Convert data from categorical to numerical**"
      ]
    },
    {
      "cell_type": "code",
      "metadata": {
        "id": "YC9o-UqNAKUr",
        "colab_type": "code",
        "colab": {}
      },
      "source": [
        "#Convert class vectors to binary class matrices using One-hot encoding\n",
        "y_train = keras.utils.to_categorical(y_train,num_classes=num_classes)\n",
        "y_test = keras.utils.to_categorical(y_test,num_classes=num_classes)"
      ],
      "execution_count": 0,
      "outputs": []
    },
    {
      "cell_type": "markdown",
      "metadata": {
        "id": "gkcXUMn-EXSw",
        "colab_type": "text"
      },
      "source": [
        "Define the model<br>\n",
        "kernel sizes, activation functions, pool size, dropout rate, layer size"
      ]
    },
    {
      "cell_type": "code",
      "metadata": {
        "id": "z75f0zKpANV6",
        "colab_type": "code",
        "colab": {}
      },
      "source": [
        "#Define the model\n",
        "model = Sequential()\n",
        "model.add(Conv2D(32,kernel_size=(3,3),activation=tf.nn.relu,input_shape=input_shape))\n",
        "model.add(Conv2D(32,kernel_size=(3,3),activation=tf.nn.relu))\n",
        "model.add(MaxPooling2D(pool_size=(5,5)))  \n",
        "#Should more layers be added here?\n",
        "model.add(Flatten())\n",
        "model.add(Dense(32,activation=tf.nn.relu))\n",
        "model.add(Dropout(0.2))\n",
        "model.add(Dense(num_classes,activation='softmax'))\n",
        "\n",
        "model.summary()"
      ],
      "execution_count": 0,
      "outputs": []
    },
    {
      "cell_type": "markdown",
      "metadata": {
        "id": "-wi-vU64EpWL",
        "colab_type": "text"
      },
      "source": [
        "# **Set up early stopping, if necessary**"
      ]
    },
    {
      "cell_type": "code",
      "metadata": {
        "id": "TV7l3XSTAQ9o",
        "colab_type": "code",
        "colab": {}
      },
      "source": [
        "my_callback=[EarlyStopping(monitor='val_acc',patience=5,mode=max)]\n",
        "\n",
        "#define compile to minimize categorical loss\n",
        "model.compile(\n",
        "    loss='categorical_crossentropy', \n",
        "    optimizer='adam', \n",
        "    metrics=['accuracy']\n",
        ")"
      ],
      "execution_count": 0,
      "outputs": []
    },
    {
      "cell_type": "markdown",
      "metadata": {
        "id": "Vl4eZYosEuNe",
        "colab_type": "text"
      },
      "source": [
        "# **Train the model**"
      ]
    },
    {
      "cell_type": "code",
      "metadata": {
        "id": "9LVXFyXoAUeN",
        "colab_type": "code",
        "colab": {}
      },
      "source": [
        "#Train the model and test/validate the mode with the test data after each cycle(epoch) through the training data\n",
        "#Return history of loss and accuracy for each epoch\n",
        "hist= model.fit(X_train,y_train,\n",
        "               batch_size=batch_size,\n",
        "               epochs=epoch,verbose=1,callbacks=my_callback,              \n",
        "               validation_data=(X_test,y_test))"
      ],
      "execution_count": 0,
      "outputs": []
    },
    {
      "cell_type": "markdown",
      "metadata": {
        "id": "-MZpWKcDEy5A",
        "colab_type": "text"
      },
      "source": [
        "# **Plot the performance**"
      ]
    },
    {
      "cell_type": "code",
      "metadata": {
        "id": "gf1ZljFiAmKi",
        "colab_type": "code",
        "colab": {}
      },
      "source": [
        "#score = model.evaluate(X_test,y_test,verbose=0)\n",
        "#print('Test loss: ', score[0])\n",
        "#print('Test accuracy', score[1])\n",
        "\n",
        "#hist.history.keys()\n",
        "\n",
        "epoch_list = list(range(1,len(hist.history['accuracy'])+1))  #Values for x axis[1,2,3,4...# of epochs]\n",
        "plt.plot(epoch_list, hist.history['accuracy'],epoch_list,hist.history['val_accuracy'])\n",
        "plt.legend(('Training accuracy','Validation Accuracy'))\n",
        "plt.show()\n"
      ],
      "execution_count": 0,
      "outputs": []
    },
    {
      "cell_type": "markdown",
      "metadata": {
        "id": "6AtuNGoJE3iB",
        "colab_type": "text"
      },
      "source": [
        "# **Create a montage of the images and labels**"
      ]
    },
    {
      "cell_type": "code",
      "metadata": {
        "id": "LTC9VTPr8ZHv",
        "colab_type": "code",
        "colab": {}
      },
      "source": [
        "from google.colab.patches import cv2_imshow\n",
        "# initialize our list of output images\n",
        "images = []\n",
        "# randomly select a few testing fashion items\n",
        "for i in np.random.choice(np.arange(0, len(y_test)), size=(16,)):\n",
        "\t# classify the clothing\n",
        "\tprobs = model.predict(X_test[np.newaxis, i])\n",
        "\tprediction = probs.argmax(axis=1)\n",
        "\tlabel = labelNames[prediction[0]]\n",
        " \n",
        "\t# extract the image from the testData if using \"channels_first\"\n",
        "\t# ordering\n",
        "\tif K.image_data_format() == \"channels_first\":\n",
        "\t\timage = (X_test[i][0] * 255).astype(\"uint8\")\n",
        " \n",
        "\t# otherwise we are using \"channels_last\" ordering\n",
        "\telse:\n",
        "\t\timage = (X_test[i] * 255).astype(\"uint8\")\n",
        "  \t# initialize the text label color as green (correct)\n",
        "\tcolor = (0, 255, 0)\n",
        "\t# otherwise, the class label prediction is incorrect\n",
        "\tif prediction[0] != np.argmax(y_test[i]):\n",
        "\t\tcolor = (0, 0, 255)\n",
        " \n",
        "\t# merge the channels into one image and resize the image from\n",
        "\t# 28x28 to 96x96 so we can better see it and then draw the\n",
        "\t# predicted label on the image\n",
        "\timage = cv2.merge([image] * 3)\n",
        "\timage = cv2.resize(image, (96, 96), interpolation=cv2.INTER_LINEAR)\n",
        "\tcv2.putText(image, label, (5, 20), cv2.FONT_HERSHEY_SIMPLEX, 0.75,color, 2)\n",
        "\t# add the image to our list of output images\n",
        "\timages.append(image)\n",
        "# construct the montage for the images\n",
        "montage = build_montages(images, (96, 96), (4, 4))[0]\n",
        "# show the output montage\n",
        "cv2_imshow(montage)\n",
        "cv2.waitKey(0)"
      ],
      "execution_count": 0,
      "outputs": []
    },
    {
      "cell_type": "code",
      "metadata": {
        "id": "OaDOYWsBCcVr",
        "colab_type": "code",
        "cellView": "form",
        "colab": {}
      },
      "source": [
        "#@title \n",
        "#defining Parameters\n",
        "num_classes = 10\n",
        "batch_size = 128\n",
        "epoch = 8\n",
        "img_rows, img_cols = 28,28"
      ],
      "execution_count": 0,
      "outputs": []
    },
    {
      "cell_type": "code",
      "metadata": {
        "id": "pQjUN7mkBPpI",
        "colab_type": "code",
        "cellView": "form",
        "colab": {}
      },
      "source": [
        "#@title \n",
        "#Define the model\n",
        "model = Sequential()\n",
        "model.add(Conv2D(32,kernel_size=(3,3),activation='relu',input_shape=input_shape))\n",
        "model.add(Conv2D(64,kernel_size=(3,3),activation='relu'))\n",
        "model.add(MaxPooling2D(pool_size=(2,2)))  \n",
        "model.add(Conv2D(64,kernel_size=(3,3),activation='relu'))\n",
        "model.add(Conv2D(64,kernel_size=(3,3),activation='relu'))\n",
        "model.add(MaxPooling2D(pool_size=(2,2)))\n",
        "model.add(Flatten())\n",
        "model.add(Dense(128,activation='relu'))\n",
        "model.add(Dropout(0.5))\n",
        "model.add(Dense(num_classes,activation='softmax'))"
      ],
      "execution_count": 0,
      "outputs": []
    },
    {
      "cell_type": "code",
      "metadata": {
        "id": "xkENY6HtC8yd",
        "colab_type": "code",
        "cellView": "form",
        "colab": {}
      },
      "source": [
        "#@title \n",
        "https://www.kaggle.com/overload10/keras-conv2d-sample-using-fashion-mnist"
      ],
      "execution_count": 0,
      "outputs": []
    }
  ]
}