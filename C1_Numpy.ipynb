{
  "nbformat": 4,
  "nbformat_minor": 0,
  "metadata": {
    "colab": {
      "name": "C1 Numpy.ipynb",
      "provenance": [],
      "private_outputs": true,
      "collapsed_sections": [],
      "include_colab_link": true
    },
    "kernelspec": {
      "name": "python3",
      "display_name": "Python 3"
    }
  },
  "cells": [
    {
      "cell_type": "markdown",
      "metadata": {
        "id": "view-in-github",
        "colab_type": "text"
      },
      "source": [
        "<a href=\"https://colab.research.google.com/github/jdhaecker/Training/blob/master/C1_Numpy.ipynb\" target=\"_parent\"><img src=\"https://colab.research.google.com/assets/colab-badge.svg\" alt=\"Open In Colab\"/></a>"
      ]
    },
    {
      "cell_type": "markdown",
      "metadata": {
        "id": "BSJ9iodRDBy3",
        "colab_type": "text"
      },
      "source": [
        "https://numpy.org/devdocs/reference/routines.array-manipulation.html\n"
      ]
    },
    {
      "cell_type": "code",
      "metadata": {
        "id": "TjSiDTp8OPDh",
        "colab_type": "code",
        "colab": {}
      },
      "source": [
        "# Clone the entire repo.\n",
        "!git clone -l -s https://github.com/cagBRT/Intro-to-Numpy.git cloned-repo\n",
        "%cd cloned-repo\n",
        "!ls"
      ],
      "execution_count": 0,
      "outputs": []
    },
    {
      "cell_type": "code",
      "metadata": {
        "id": "mNAuoEKXObDq",
        "colab_type": "code",
        "colab": {}
      },
      "source": [
        "from IPython.display import Image\n",
        "def page(num):\n",
        "    return Image(\"c8-content/c8PythonProgramming\"+str(num)+ \".png\" , width=640)"
      ],
      "execution_count": 0,
      "outputs": []
    },
    {
      "cell_type": "markdown",
      "metadata": {
        "id": "Ea0lLVQgPEni",
        "colab_type": "text"
      },
      "source": [
        "# **Numpy Arrays**\n",
        "Recall Python does not have arrays. <br>\n",
        "Yet, arrays are really convenient and powerful. <br>\n",
        "To use arrays in Python, import Numpy.<br>\n",
        "\n",
        "Numpy is the core library for scientific computing in Python. It provides a high-performance multidimensional array object, and tools for working with these arrays. <br><br>\n",
        "The elements of a NumPy array, or simply an array, are usually numbers, but can also be boolians, strings, or other objects. *When the elements are numbers, they must all be of the same type. For example, they might be all integers or all floating point numbers.*<br><br>\n",
        "The NumPy arrays takes significantly less amount of memory as compared to python lists."
      ]
    },
    {
      "cell_type": "markdown",
      "metadata": {
        "id": "co8iDTDq9ht2",
        "colab_type": "text"
      },
      "source": [
        "# **Import Numpy**"
      ]
    },
    {
      "cell_type": "code",
      "metadata": {
        "id": "LMN5o9tAAg2m",
        "colab_type": "code",
        "colab": {}
      },
      "source": [
        "import numpy as np"
      ],
      "execution_count": 0,
      "outputs": []
    },
    {
      "cell_type": "markdown",
      "metadata": {
        "id": "LWPa_w1u90K1",
        "colab_type": "text"
      },
      "source": [
        "# **Create an Array**"
      ]
    },
    {
      "cell_type": "code",
      "metadata": {
        "id": "JleIKOu1PH1O",
        "colab_type": "code",
        "colab": {}
      },
      "source": [
        "#Create an array of 2 row and 3 columns\n",
        "a = np.array([[1, 2, 3],[2,4,6]])   \n",
        "print(type(a))           \n",
        "print(a.shape)            \n"
      ],
      "execution_count": 0,
      "outputs": []
    },
    {
      "cell_type": "code",
      "metadata": {
        "id": "_dmnrJh04boi",
        "colab_type": "code",
        "colab": {}
      },
      "source": [
        "a = np.array(\n",
        "  [\n",
        "    [1, 2, 3], # <-- I'm a row\n",
        "    [2, 4, 6] # <-- I'm a row\n",
        "  ]\n",
        ")\n",
        "print(a)"
      ],
      "execution_count": 0,
      "outputs": []
    },
    {
      "cell_type": "markdown",
      "metadata": {
        "id": "Wp3xqJzxAobK",
        "colab_type": "text"
      },
      "source": [
        "**Print an array**"
      ]
    },
    {
      "cell_type": "code",
      "metadata": {
        "id": "cjOy4Us09r_3",
        "colab_type": "code",
        "colab": {}
      },
      "source": [
        "print(a)  "
      ],
      "execution_count": 0,
      "outputs": []
    },
    {
      "cell_type": "markdown",
      "metadata": {
        "id": "rAYt4lilAsJU",
        "colab_type": "text"
      },
      "source": [
        "**Change a value in an array**<br>\n",
        "There are two ways to access a value in a Numpy array<br>\n",
        ">array_name[row number, column number]<br>\n",
        ">array_name[row number][colu,mn number]"
      ]
    },
    {
      "cell_type": "code",
      "metadata": {
        "id": "7qnDiYNNABcQ",
        "colab_type": "code",
        "colab": {}
      },
      "source": [
        "#Change the value at location (0,0)\n",
        "a[0][0] = 5                  \n",
        "print(a)     \n",
        "print(\"\")\n",
        "#Change the value at location (1,1)\n",
        "a[1][1] = 44\n",
        "print(a)"
      ],
      "execution_count": 0,
      "outputs": []
    },
    {
      "cell_type": "markdown",
      "metadata": {
        "id": "BrYYEDl3BQLj",
        "colab_type": "text"
      },
      "source": [
        "# **Assignment #1**\n",
        "1. Create a 4x4 Numpy array<br>\n",
        "2. Print the values at (0,0)(1,1)(2,2)(3,3)\n"
      ]
    },
    {
      "cell_type": "code",
      "metadata": {
        "id": "KEH4AQOpAMNi",
        "colab_type": "code",
        "colab": {}
      },
      "source": [
        "#Assignment #1\n",
        "#Create an array of 2 row and 3 columns\n",
        "a = np.array([[1, 2, 3,4],[5,6,7,8], [9,10,11,12], [13,14,15,16]])   \n",
        "print(type(a))           \n",
        "print(a.shape) \n",
        "print(a)\n",
        "print(a[0][0])\n",
        "print(a[1][1])\n"
      ],
      "execution_count": 0,
      "outputs": []
    },
    {
      "cell_type": "markdown",
      "metadata": {
        "id": "8YYL6KLICGxr",
        "colab_type": "text"
      },
      "source": [
        "# **Create Filled Arrays**\n",
        "Numpy allows you to create arrays filled with zeros, ones, a specific number, an identity matrix, and an array filled with random numbers."
      ]
    },
    {
      "cell_type": "markdown",
      "metadata": {
        "id": "fr723zJPCiA4",
        "colab_type": "text"
      },
      "source": [
        "**An array of all zeros**<br>\n",
        "np.zeros((number of rows, number of columns))"
      ]
    },
    {
      "cell_type": "code",
      "metadata": {
        "id": "MWMJWj6SPYHz",
        "colab_type": "code",
        "colab": {}
      },
      "source": [
        "a = np.zeros((7,9))   \n",
        "print(a)              "
      ],
      "execution_count": 0,
      "outputs": []
    },
    {
      "cell_type": "markdown",
      "metadata": {
        "id": "cyXOmqZSCzbg",
        "colab_type": "text"
      },
      "source": [
        "**An array of all ones**<br>\n",
        "np.ones((number of rows, number of columns))"
      ]
    },
    {
      "cell_type": "code",
      "metadata": {
        "id": "I8yckXesCtPo",
        "colab_type": "code",
        "colab": {}
      },
      "source": [
        "b = np.ones((5,4))    \n",
        "print(b)              \n"
      ],
      "execution_count": 0,
      "outputs": []
    },
    {
      "cell_type": "markdown",
      "metadata": {
        "id": "1pDidx27C9Hj",
        "colab_type": "text"
      },
      "source": [
        "Arrays of: <br>\n",
        ">A specific number<br>\n",
        ">>np.full((no. of rows, no of col), number for filling)<br>\n",
        "<br>\n",
        "\n",
        ">An identity matrix<br>\n",
        ">>np.eye(matrix dimension)<br>\n",
        "<br>\n",
        "\n",
        ">An index filled with random numbers\n",
        ">>np.random.random((no. of rows, no of col))\n"
      ]
    },
    {
      "cell_type": "markdown",
      "metadata": {
        "id": "zwJ1qDFyECnU",
        "colab_type": "text"
      },
      "source": [
        "# **Assignment #2**\n",
        "Create and print the following arrays<br>\n",
        "1. A 12x10 array filled with the number 45.333<br>\n",
        "2. A 25x25 identity matrix<br>\n",
        "3. A 12x30 array filled with random numbers"
      ]
    },
    {
      "cell_type": "code",
      "metadata": {
        "id": "Ai8a7LZ1C9on",
        "colab_type": "code",
        "colab": {}
      },
      "source": [
        "a=np.full((12, 10), 45.333)\n",
        "b=np.eye(25,25)\n",
        "c=np.random.random((4,4))\n",
        "print(a)\n",
        "print(\"\")\n",
        "print(b)\n",
        "print(\"\")\n",
        "print(c)\n"
      ],
      "execution_count": 0,
      "outputs": []
    },
    {
      "cell_type": "markdown",
      "metadata": {
        "id": "oYqvYl6zEm9x",
        "colab_type": "text"
      },
      "source": [
        "# **Slice an Array**\n",
        "Numpy arrays can be sliced into smaller arrays of different sizes. "
      ]
    },
    {
      "cell_type": "code",
      "metadata": {
        "id": "eVA3DXHCPz3l",
        "colab_type": "code",
        "colab": {}
      },
      "source": [
        "#Slicing an array\n",
        "\n",
        "#Create an array of the following size and values\n",
        "# [[ 1  2  3  4]\n",
        "#  [ 5  6  7  8]\n",
        "#  [ 9 10 11 12]\n",
        "#  [13 14 15 16]]\n",
        "a = np.array([[1,2,3,4], [5,6,7,8], [9,10,11,12], [13,14,15,16]])\n",
        "print(a)\n"
      ],
      "execution_count": 0,
      "outputs": []
    },
    {
      "cell_type": "markdown",
      "metadata": {
        "id": "tRzQqZaOGN9h",
        "colab_type": "text"
      },
      "source": [
        "**Slice the array**<br>\n",
        "Slice an array using: \n",
        "new_array = original_array[first row:last row, first col, last col]"
      ]
    },
    {
      "cell_type": "code",
      "metadata": {
        "id": "7iWWIe-RF3Du",
        "colab_type": "code",
        "colab": {}
      },
      "source": [
        "#Create a new array from the center four values\n",
        "#[[6   7]\n",
        "# [10 11]]\n",
        "\n",
        "b = a[1:3, 1:3]\n",
        "print(b)\n"
      ],
      "execution_count": 0,
      "outputs": []
    },
    {
      "cell_type": "code",
      "metadata": {
        "id": "kRspW_RT6kLz",
        "colab_type": "code",
        "colab": {}
      },
      "source": [
        "#Jesse's additions to example above\n",
        "#Slicing an array\n",
        "\n",
        "#Create an array of the following size and values\n",
        "# [[ 1  2  3  4]\n",
        "#  [ 5  6  7  8]\n",
        "#  [ 9 10 11 12]\n",
        "#  [13 14 15 16]]\n",
        "a = np.array([[1,2,3,4], [5,6,7,8], [9,10,11,12], [13,14,15,16]])\n",
        "print(a)\n",
        "print(\"\\n\")\n",
        "\n",
        "\n",
        "#Create a new array from the center four values\n",
        "#[[6   7]\n",
        "# [10 11]]\n",
        "\n",
        "b = a[1:3, 1:3]\n",
        "print(b)\n",
        "print(\"\\n\")\n",
        "\n",
        "#Try some different stuff\n",
        "c=a[0:2, 0:2]\n",
        "print(c)\n",
        "print(\"\\n\")\n",
        "\n",
        "#Try some different stuff\n",
        "d=a[2:4, 2:4]\n",
        "print(d)\n",
        "print(\"\\n\")\n"
      ],
      "execution_count": 0,
      "outputs": []
    },
    {
      "cell_type": "markdown",
      "metadata": {
        "id": "dV--1z87G45k",
        "colab_type": "text"
      },
      "source": [
        "**Sliced arrays are changed when the new array or the original array are changed**"
      ]
    },
    {
      "cell_type": "code",
      "metadata": {
        "id": "by7vJEH2G9q5",
        "colab_type": "code",
        "colab": {}
      },
      "source": [
        "print(a)\n",
        "print(\"\")\n",
        "\n",
        "#Change a value in the new array\n",
        "b[0,0] = -22\n",
        "\n",
        "#Notice -- the value in b was changed. \n",
        "#And the value in a was also changed\n",
        "print(a)"
      ],
      "execution_count": 0,
      "outputs": []
    },
    {
      "cell_type": "code",
      "metadata": {
        "id": "WgyV-mnuHxSL",
        "colab_type": "code",
        "colab": {}
      },
      "source": [
        "print(b)\n",
        "print(\"\")\n",
        "\n",
        "#Change a value in the new array\n",
        "a[1,1] = -8888\n",
        "\n",
        "#Notice -- the value in a was changed. \n",
        "#And the value in b was also changed\n",
        "print(b)"
      ],
      "execution_count": 0,
      "outputs": []
    },
    {
      "cell_type": "markdown",
      "metadata": {
        "id": "-EA4-TPpOqrB",
        "colab_type": "text"
      },
      "source": [
        "# **Assignment #3**\n",
        "1. Create the following array: \n",
        ">[2,6,9,12]<br>\n",
        ">[5,1,1,8]<br>\n",
        ">[7,7,5,9]<br>\n",
        ">[8,9,5,2]<br>\n",
        "\n",
        "2.Slice the array into two (non-overlapping) 4x2 arrays<br>\n",
        "3.Change 5 values in the original array. <br>\n",
        "4.Print the two new arrays, check that the values have changed. <br>\n"
      ]
    },
    {
      "cell_type": "code",
      "metadata": {
        "id": "exrSemIVGup-",
        "colab_type": "code",
        "colab": {}
      },
      "source": [
        "#Assignment #3\n",
        "\n",
        "a = np.array(\n",
        "    [\n",
        "     [2,6,9,12], \n",
        "     [5,1,1,8], \n",
        "     [7,7,5,9], \n",
        "     [8,9,5,2]\n",
        "    ]\n",
        "  )\n",
        "print(a)\n",
        "print(\"\\n\")\n",
        "\n",
        "b1=a[0:4,0:2]\n",
        "print(b1)\n",
        "print(\"\\n\")\n",
        "\n",
        "b2=a[0:4,2:4]\n",
        "print(b2)\n",
        "print(\"\\n\")\n",
        "\n",
        "a[0,0]=100\n",
        "a[1,1]=101\n",
        "a[2,2]=102\n",
        "a[3,3]=103\n",
        "\n",
        "print(a)\n",
        "print(\"\\n\")\n",
        "print(b1)\n",
        "print(\"\\n\")\n",
        "print(b2)"
      ],
      "execution_count": 0,
      "outputs": []
    },
    {
      "cell_type": "markdown",
      "metadata": {
        "id": "MFoq3lv4er8g",
        "colab_type": "text"
      },
      "source": [
        "# **Reshaping Arrays**\n",
        "\n",
        "Numpy has a built in function that allows the user to reshape arrays. <br>\n",
        ">array-name.reshape(number of rows, number of col)<br>\n",
        "<br>\n",
        "The new shape has to have the same number of elements as the old shape. \n",
        "<br>\n",
        "For example:<br>\n",
        "If the array has a shape of 3x4 (12 elements) it can be reshaped to:<br>\n",
        ">12x1<br>\n",
        ">1x12<br>\n",
        ">2x6<br>\n",
        ">6x2<br>\n",
        ">4x3<br>"
      ]
    },
    {
      "cell_type": "code",
      "metadata": {
        "id": "NIIcZjM-fCxj",
        "colab_type": "code",
        "colab": {}
      },
      "source": [
        "#Reshape an array\n",
        "#Step 1: create an array\n",
        "#Use arange to create an array of evenly\n",
        "#spaced integers from 0 - 23\n",
        "a = np.arange(24)\n",
        "print(a)\n",
        "#The shape of this array is a vector\n",
        "print(a.shape)\n",
        "#Step 2: change the shape of array a\n",
        "a.reshape(8,3)"
      ],
      "execution_count": 0,
      "outputs": []
    },
    {
      "cell_type": "markdown",
      "metadata": {
        "id": "Rnv8gvmGgUa-",
        "colab_type": "text"
      },
      "source": [
        "# **Assignment #4**\n",
        "1. Create an array that has 32 elements. \n",
        "2. Reshape it into: \n",
        "> an array 8x4<br>\n",
        ">an array 2x16<br>\n"
      ]
    },
    {
      "cell_type": "code",
      "metadata": {
        "id": "SHVpRqyQgqFt",
        "colab_type": "code",
        "colab": {}
      },
      "source": [
        "#Assignment #4\n",
        "#Reshape an array\n",
        "#Step 1: create an array\n",
        "#Use arange to create an array of evenly\n",
        "#spaced integers from 0 - 23\n",
        "a = np.arange(32)\n",
        "print(a)\n",
        "print(\"\\n)\")\n",
        "#The shape of this array is a vector\n",
        "print(a.shape)\n",
        "print(\"\\n)\")\n",
        "#Step 2: change the shape of array a\n",
        "a.reshape(8,4) #note this is note a permanent change, so when you print a, it will look the shape\n",
        "print(a)\n",
        "print(\"\\n\")\n",
        "\n",
        "#instead, assign the reshape to a new array variable and print\n",
        "b=a.reshape(8,4)\n",
        "c=a.reshape(2,16)\n",
        "print(b)\n",
        "print(\"\\n)\")\n",
        "\n",
        "print(c)\n",
        "print(\"\\n\")\n"
      ],
      "execution_count": 0,
      "outputs": []
    },
    {
      "cell_type": "markdown",
      "metadata": {
        "id": "Edbt4uPAgw_6",
        "colab_type": "text"
      },
      "source": [
        "**Reshape an array into three or more dimensions**\n",
        "Numpy arrays can also be reshaped into multiple dimensions. \n",
        "Use the form:<br>\n",
        ">array-name.reshape(dimension 1, no. of rows, no. of cols)<br>\n",
        "\n",
        "The criteria about the number of elements must still be obeyed. \n"
      ]
    },
    {
      "cell_type": "markdown",
      "metadata": {
        "id": "vJYDLK47isUJ",
        "colab_type": "text"
      },
      "source": [
        "# **Assignment #5**\n",
        "1. Create an array of 72 elements\n",
        "2. Reshape the array into 12x3x2 "
      ]
    },
    {
      "cell_type": "code",
      "metadata": {
        "id": "uOGcwV-vhhUZ",
        "colab_type": "code",
        "colab": {}
      },
      "source": [
        "#Assignment #5\n",
        "a=np.arange(72)\n",
        "print(a)\n",
        "print(\"\\n\")\n",
        "b=a.reshape(6,3,4)\n",
        "print(b)"
      ],
      "execution_count": 0,
      "outputs": []
    },
    {
      "cell_type": "markdown",
      "metadata": {
        "id": "EputPeeZ8YrZ",
        "colab_type": "text"
      },
      "source": [
        "# **Creating an Array from Data in a File**\n",
        "Numpy allows the user to create arrays from the contents of a file. \n"
      ]
    },
    {
      "cell_type": "markdown",
      "metadata": {
        "id": "hiMM8pI2HC_w",
        "colab_type": "text"
      },
      "source": [
        "Step 1: Check the access and pathname for the file to be read"
      ]
    },
    {
      "cell_type": "code",
      "metadata": {
        "id": "hoiB-muKD-pO",
        "colab_type": "code",
        "colab": {}
      },
      "source": [
        "!cat /content/cloned-repo/chordProgressions.csv\n"
      ],
      "execution_count": 0,
      "outputs": []
    },
    {
      "cell_type": "markdown",
      "metadata": {
        "id": "qEQPH1wVHN0o",
        "colab_type": "text"
      },
      "source": [
        "# **Import genfromtxt**\n",
        "Use genfromtxt to generate the array from the text file. \n",
        "<br>\n",
        "When reading in data from files, you need to specify the data type. Usually Numpy arrays are used for numbers. <br>\n",
        "<br>\n",
        "For the chord-progressions.csv file, there is integer data and string data. <br>\n",
        "To read it into a Numpy array, you must specify the datatype for each column. <br>\n",
        "i1 = integer (the number indicates the size in bytes)<br>\n",
        "S20 = string (the number indicates the numbers of characters to size the array)<br>\n",
        "skip_header will ignore the header row <br> "
      ]
    },
    {
      "cell_type": "code",
      "metadata": {
        "id": "nl6E78Xb9OtV",
        "colab_type": "code",
        "colab": {}
      },
      "source": [
        "from numpy import genfromtxt\n",
        "chords = genfromtxt(\"/content/cloned-repo/chordProgressions.csv\",  \n",
        "                    delimiter=',',skip_header=1, dtype=[('1st chord','i1'),('2nd chord','i1') , ('3rd chord','i1'),\n",
        "                                          ('4th chord','i1'), ('Progression Quality', 'S20')])"
      ],
      "execution_count": 0,
      "outputs": []
    },
    {
      "cell_type": "code",
      "metadata": {
        "id": "IdxSlpewHdWP",
        "colab_type": "code",
        "colab": {}
      },
      "source": [
        "print(chords)"
      ],
      "execution_count": 0,
      "outputs": []
    },
    {
      "cell_type": "code",
      "metadata": {
        "id": "_-zAKKcmIq5E",
        "colab_type": "code",
        "colab": {}
      },
      "source": [
        "print(chords.shape)\n",
        "cReshape = chords.reshape(28,1)\n",
        "print(cReshape)\n",
        "\n",
        "#Jesse Addition\n",
        "a = np.array(chords)\n",
        "print(chords[1][4])\n"
      ],
      "execution_count": 0,
      "outputs": []
    },
    {
      "cell_type": "markdown",
      "metadata": {
        "id": "0ASN-roijOBN",
        "colab_type": "text"
      },
      "source": [
        "# **Assignment #6**\n",
        "1. Read the file /content/cloned-repo/airtravel.csv\n",
        "2. Ignore the header row\n",
        "3. Create a Numpy array with the data\n",
        "4. Convert the months to numbers (JAN = 1,FEB=2, ...Dec=12)\n",
        "\n",
        "Hint:<br><br>\n",
        "Make sure you understand what value is stored in the array|<br>\n",
        "print(\"airtravel[0][0] = \",airtravel[0][0])\n",
        "\n",
        "\n",
        "[numpy.genfromtxt](https://docs.scipy.org/doc/numpy/reference/generated/numpy.genfromtxt.html)\n"
      ]
    },
    {
      "cell_type": "code",
      "metadata": {
        "id": "L9yysq11-gtB",
        "colab_type": "code",
        "colab": {}
      },
      "source": [
        "import csv\n",
        "import numpy as np\n",
        "from numpy import genfromtxt\n",
        "airtravel = genfromtxt(\"/content/cloned-repo/airtravel.csv\",  \n",
        "                    delimiter=',',skip_header=1, dtype=[('Month','S5'),('1958','i2') , ('1959','i2'),\n",
        "                                          ('1960','i2')])\n",
        "a = np.array(airtravel)\n",
        "\n",
        "print(a)\n",
        "b=a.reshape(1,12) \n",
        "print(\"\\n\")\n",
        "print(b)\n",
        "print(\"\\n\") \n",
        "\n",
        "for i in range(11):\n",
        "  a[i][0]=i+1\n",
        "\n",
        "print(a)\n",
        "print(\"\\n\")\n",
        "print(a[0][0])\n"
      ],
      "execution_count": 0,
      "outputs": []
    },
    {
      "cell_type": "code",
      "metadata": {
        "id": "sFEx8DFvHYIw",
        "colab_type": "code",
        "colab": {}
      },
      "source": [
        "#code from Karkare Shashank\n",
        "monthToNum = {b'\"JAN\"': 1, b'\"FEB\"': 2, b'\"MAR\"': 3, b'\"APR\"': 4, b'\"MAY\"': 5, b'\"JUN\"': 6, b'\"JUL\"': 7, b'\"AUG\"':8, b'\"SEP\"': 9, b'\"OCT\"': 10, b'\"NOV\"': 11, b'\"DEC\"': 12}\n",
        "\n",
        "def GetMonthToNum(s):\n",
        "  # print(s)\n",
        "  return monthToNum.get(s, 0)\n",
        "\n",
        "data = genfromtxt(\"airtravel.csv\", delimiter=',', skip_header=1, dtype=[(\"Month\", \"i\"), (\"1958\", \"i\"), (\"1959\", \"i\"), (\"1960\", \"i\")], \n",
        "                  converters={0:GetMonthToNum})  #note the \"converters parameter that allows you to convert data as it is imported\"\n",
        "\n",
        "print(data)"
      ],
      "execution_count": 0,
      "outputs": []
    },
    {
      "cell_type": "code",
      "metadata": {
        "id": "HYbauvG2HrFi",
        "colab_type": "code",
        "colab": {}
      },
      "source": [
        "#code from T Chalmers\n",
        "from numpy import genfromtxt\n",
        "travel = genfromtxt(\"/content/cloned-repo/airtravel.csv\",  \n",
        "                    delimiter=',',skip_header=1, dtype=[('Month','S4'),('1958','i') , ('1959','i'),\n",
        "                                          ('1960','i')])\n",
        "\n",
        "print(travel.reshape(12,1))\n",
        "print(\"\\n\")\n",
        "\n",
        "travel[\"Month\"] = np.arange(1,13)\n",
        "\n",
        "print(travel.reshape(12,1))"
      ],
      "execution_count": 0,
      "outputs": []
    },
    {
      "cell_type": "markdown",
      "metadata": {
        "id": "QxVNqaYREv7g",
        "colab_type": "text"
      },
      "source": [
        "# **Airthmetic Operations**\n",
        "Numpy can perform arithmetic operations on arrays very easily. \n",
        "The form for artihmetic operations is: <br>\n",
        ">np.operation(array1, array2)<br>\n",
        "\n",
        "The available operations are: <br>\n",
        ">add<br>\n",
        ">subtract<br>\n",
        ">multiply<br>\n",
        ">divide<br>\n"
      ]
    },
    {
      "cell_type": "code",
      "metadata": {
        "id": "SEzDC1rXGWJF",
        "colab_type": "code",
        "colab": {}
      },
      "source": [
        "#Arithmetic Operations\n",
        "array1 = np.arange(9).reshape(3,3)\n",
        "print(\"Array1 = \\n\", array1)\n",
        "\n",
        "array2 = np.arange(4,13).reshape(3,3)\n",
        "print(\"Array2 = \\n\", array2)"
      ],
      "execution_count": 0,
      "outputs": []
    },
    {
      "cell_type": "code",
      "metadata": {
        "id": "h0J_E2lxG5ij",
        "colab_type": "code",
        "colab": {}
      },
      "source": [
        "sum = np.add(array1, array2)\n",
        "print(sum)"
      ],
      "execution_count": 0,
      "outputs": []
    },
    {
      "cell_type": "markdown",
      "metadata": {
        "id": "RgIkzmE4HDxk",
        "colab_type": "text"
      },
      "source": [
        "# **Assignment 7**\n",
        "1. Create two 5x5 arrays\n",
        "2. Multiply them, \n",
        "3. Subract one from the other\n",
        "4. Divide one into the other. \n"
      ]
    },
    {
      "cell_type": "code",
      "metadata": {
        "id": "T6xkCiQgHYuK",
        "colab_type": "code",
        "colab": {}
      },
      "source": [
        "#Assignment #7\n",
        "#Arithmetic Operations\n",
        "array1 = np.arange(25,50).reshape(5,5)\n",
        "print(\"Array1 = \\n\", array1)\n",
        "\n",
        "array2 = np.eye(5)\n",
        "print(\"Array2 = \\n\", array2)\n",
        "print(\"\")\n",
        "print(np.multiply(array1, array2))\n"
      ],
      "execution_count": 0,
      "outputs": []
    },
    {
      "cell_type": "markdown",
      "metadata": {
        "id": "j9oXtUe3IWWl",
        "colab_type": "text"
      },
      "source": [
        "**Dot Product**<br>\n",
        ">a · b = ax × bx + ay × by<br>\n",
        "\n",
        "For more than two dimensions....<br>\n",
        ">a · b = ax × bx + ay × by + az × bz<br>"
      ]
    },
    {
      "cell_type": "code",
      "metadata": {
        "id": "jFTEFoicIWmR",
        "colab_type": "code",
        "colab": {}
      },
      "source": [
        "v = np.array([9,10])\n",
        "w = np.array([11, 12])\n",
        "\n",
        "# Inner product of vectors; both produce 219\n",
        "print(v.dot(w))\n",
        "print(np.dot(v, w))"
      ],
      "execution_count": 0,
      "outputs": []
    },
    {
      "cell_type": "markdown",
      "metadata": {
        "id": "add4G-VOKnwW",
        "colab_type": "text"
      },
      "source": [
        "If you are interested in learning more about linear algebra functions, check out this link<br>\n",
        "https://docs.scipy.org/doc/numpy/reference/routines.linalg.html\n"
      ]
    },
    {
      "cell_type": "markdown",
      "metadata": {
        "id": "5YLxJ0EzJ-aQ",
        "colab_type": "text"
      },
      "source": [
        "Find the dot product of:<br>\n",
        "[22,33,44] [11,22,33]"
      ]
    },
    {
      "cell_type": "code",
      "metadata": {
        "id": "sWdQxUkUJ4P8",
        "colab_type": "code",
        "colab": {}
      },
      "source": [
        "a = np.array([22,33,44])\n",
        "b = np.array([11,22,33])\n",
        "print(np.dot(a,b))\n",
        "print(a.dot(b))"
      ],
      "execution_count": 0,
      "outputs": []
    },
    {
      "cell_type": "markdown",
      "metadata": {
        "id": "fvvNxyK1HrXl",
        "colab_type": "text"
      },
      "source": [
        "# **Sorting Arrays**\n",
        "\n",
        "Numpy has a built-in sort function. <br>\n",
        "It has the form: \n",
        ">np.sort(array name)\n"
      ]
    },
    {
      "cell_type": "code",
      "metadata": {
        "id": "8Qaj2IpVIZpy",
        "colab_type": "code",
        "colab": {}
      },
      "source": [
        "#Sorting arrays\n",
        "array1 = np.array([[6,3,1,2], [9,11,6,5], [6,4,7,0]])\n",
        "print(array1)"
      ],
      "execution_count": 0,
      "outputs": []
    },
    {
      "cell_type": "code",
      "metadata": {
        "id": "r28_Q9bqI2zs",
        "colab_type": "code",
        "colab": {}
      },
      "source": [
        "#Sort the columns\n",
        "array_sorted = np.sort(array1, axis=0)\n",
        "print(array_sorted)"
      ],
      "execution_count": 0,
      "outputs": []
    },
    {
      "cell_type": "code",
      "metadata": {
        "id": "K7uNgjpKJvV6",
        "colab_type": "code",
        "colab": {}
      },
      "source": [
        "#Sort the rows\n",
        "array_sorted = np.sort(array1, axis=1)\n",
        "print(array_sorted)"
      ],
      "execution_count": 0,
      "outputs": []
    },
    {
      "cell_type": "markdown",
      "metadata": {
        "id": "I96A8sTEJ1sT",
        "colab_type": "text"
      },
      "source": [
        "# **Assignment #8**\n",
        "1. Create an array with the following values: <br>\n",
        ">[4,8,1,0,99]\n",
        ">[1,22,0,76,43]\n",
        ">[7,7,90,54,3]\n",
        "\n",
        "2. Sort it along the x axis\n",
        "3. Sort it along the y axis\n"
      ]
    },
    {
      "cell_type": "code",
      "metadata": {
        "id": "FvCMekCtKU-U",
        "colab_type": "code",
        "colab": {}
      },
      "source": [
        "#Assignment 8\n",
        "array1=np.array([[4,8,1,0,99], [1,22,0,76,43], [7,7,90,54,3]])\n",
        "print(array1)\n",
        "print(\"\")\n",
        "array_sorted = np.sort(array1, axis=1)\n",
        "print(array_sorted)\n",
        "print(\"\")\n",
        "\n",
        "array_sorted = np.sort(array1, axis=0)\n",
        "print(array_sorted)\n",
        "print(\"\")\n"
      ],
      "execution_count": 0,
      "outputs": []
    },
    {
      "cell_type": "markdown",
      "metadata": {
        "id": "IZOIPtXnKbd2",
        "colab_type": "text"
      },
      "source": [
        "\n",
        "**Text in Numy Arrays**\n",
        "Numpy arrays can also sort text \n"
      ]
    },
    {
      "cell_type": "code",
      "metadata": {
        "id": "Gs4d6EI3KpyW",
        "colab_type": "code",
        "colab": {}
      },
      "source": [
        "array1 = np.array([['w','c'], ['z','f']])\n",
        "print(array1)\n",
        "print(np.sort(array1,axis=1))"
      ],
      "execution_count": 0,
      "outputs": []
    },
    {
      "cell_type": "markdown",
      "metadata": {
        "id": "50XyWat3LXGe",
        "colab_type": "text"
      },
      "source": [
        "# **Assignment #9**\n",
        "1. Create an array with the following values: \n",
        ">['dog','fish','cat']<br>\n",
        "['zebra', 'mouse', 'ox']<br>\n",
        "\n",
        "2. Sort on the x-axis \n",
        "3. Sort on the y-axis\n"
      ]
    },
    {
      "cell_type": "code",
      "metadata": {
        "id": "ZlreKmuL9yob",
        "colab_type": "code",
        "colab": {}
      },
      "source": [
        "array1 = np.array([['dog','fish','ox'], ['zebra', 'mouse', 'cat']])\n",
        "print(array1)\n",
        "print(\"\")\n",
        "\n",
        "array_sorted = np.sort(array1, axis=1)\n",
        "print(array_sorted)\n",
        "print(\"\")\n",
        "\n",
        "array_sorted = np.sort(array1, axis=0)\n",
        "print(array_sorted)\n",
        "print(\"\")\n"
      ],
      "execution_count": 0,
      "outputs": []
    },
    {
      "cell_type": "markdown",
      "metadata": {
        "id": "rVMMGeBhL7Ud",
        "colab_type": "text"
      },
      "source": [
        "**Sort an array based on a parameter**<br>\n",
        "A Numpy array can be created with parameter names and types identified. <br>\n",
        "Then the array can be sorted based on the parameter name. <br>\n",
        "<br>\n",
        "Step 1: Create an array with parameter names and types \n",
        "Step 2: Sort the array with the form:<br>\n",
        ">np.sort(array name, order = 'parameter name')\n"
      ]
    },
    {
      "cell_type": "code",
      "metadata": {
        "id": "eUjBs9ENK_oc",
        "colab_type": "code",
        "colab": {}
      },
      "source": [
        "#Sorting arrays by parameter name\n",
        "#Step 1: create the array with parameter names and types\n",
        "dt = np.dtype([('name', 'S10'), ('zipcode', int)])\n",
        "array1 = np.array([('Joe', 95120), ('Mark', 95122), ('Sue', 90210)], dtype=dt)\n",
        "print(array1)\n",
        "\n",
        "#The b in the output is for bytestrings"
      ],
      "execution_count": 0,
      "outputs": []
    },
    {
      "cell_type": "code",
      "metadata": {
        "id": "MVR0VYMKOJpG",
        "colab_type": "code",
        "colab": {}
      },
      "source": [
        "#Step 2: Sort the array by zipcode\n",
        "print(np.sort(array1, order='zipcode'))\n",
        "print(np.sort(array1, order='name'))"
      ],
      "execution_count": 0,
      "outputs": []
    },
    {
      "cell_type": "markdown",
      "metadata": {
        "id": "WzOP5wKhOyt-",
        "colab_type": "text"
      },
      "source": [
        "# **Assignment #10**\n",
        "1. Create an array of 10 students with the following information\n",
        ">Student name, student ID, student major, student GPA<br>\n",
        "For example: <br>\n",
        "> >'Bill', 453221, 'CompSci', 2.3\n",
        "\n",
        "2. Sort the array by each of the features (name, ID, major, GPA)\n"
      ]
    },
    {
      "cell_type": "code",
      "metadata": {
        "id": "rMKBG_IIOq8H",
        "colab_type": "code",
        "colab": {}
      },
      "source": [
        "#Sorting arrays by parameter name\n",
        "#Step 1: create the array with parameter names and types\n",
        "dt = np.dtype([('Student Name', 'S20'), ('Student ID', int), ('Major', 'S20'), ('GPA', 'S3')])\n",
        "array1 = np.array(\n",
        "    [('Joe', 95120, 'Math', 3.5),\n",
        "     ('Mark', 95122, 'English', 3.7), \n",
        "     ('Sue', 90210, 'Physics', 2.9),\n",
        "     ('Abby', 90215, 'Education', 4.0),\n",
        "     ('Rachael', 90310, 'Finance', 4.0)\n",
        "     ], dtype=dt)\n",
        "\n",
        "\n",
        "print(array1.reshape(5,1))\n",
        "print('')\n",
        "\n",
        "print(np.sort(array1, order='Student Name').reshape(5,1))\n",
        "print(\"\")\n",
        "\n",
        "print(np.sort(array1, order='Student ID').reshape(5,1))\n",
        "print(\"\")\n",
        "\n",
        "print(np.sort(array1, order='Major').reshape(5,1))\n",
        "print(\"\")\n",
        "\n",
        "print(np.sort(array1, order='GPA').reshape(5,1))\n",
        "\n",
        "#The b in the output is for bytestrings"
      ],
      "execution_count": 0,
      "outputs": []
    },
    {
      "cell_type": "markdown",
      "metadata": {
        "id": "w6WvZRfFtj6p",
        "colab_type": "text"
      },
      "source": [
        "# **Numpy and MatPlotLib**\n",
        "\n",
        "You can use Matplotlib with Numpy arrays. "
      ]
    },
    {
      "cell_type": "code",
      "metadata": {
        "id": "f8X5KMHltiAr",
        "colab_type": "code",
        "colab": {}
      },
      "source": [
        "import matplotlib.pyplot as plt\n",
        "\n",
        "# evenly sampled time at 200ms intervals\n",
        "t = np.arange(0., 5., 0.2)\n",
        "\n",
        "# red dashes, blue squares and green triangles\n",
        "plt.plot(t, t, 'r--', t, t**2, 'bs', t, t**3, 'g^')\n",
        "plt.show()"
      ],
      "execution_count": 0,
      "outputs": []
    },
    {
      "cell_type": "markdown",
      "metadata": {
        "id": "M8AMmaFAQXO2",
        "colab_type": "text"
      },
      "source": [
        "# **Assignment #11**\n",
        "1. Create an array with the following values: <br>\n",
        ">[22,87,5,43,56,73,55,54,11,20,51,5,79,31,27]\n",
        "2. Plot the array using a blue line\n",
        "3. Plot the square of the array using red squares\n",
        "4. Plot the cube of the array using green dashes"
      ]
    },
    {
      "cell_type": "code",
      "metadata": {
        "id": "Mcp0_6CNYgsZ",
        "colab_type": "code",
        "colab": {}
      },
      "source": [
        ""
      ],
      "execution_count": 0,
      "outputs": []
    },
    {
      "cell_type": "markdown",
      "metadata": {
        "id": "yCgSDskqZi_p",
        "colab_type": "text"
      },
      "source": [
        "**Matplotlib can be used to make scatterplots**<br>\n",
        "Use this link to research [numpy.random.randint](https://docs.scipy.org/doc/numpy-1.15.1/reference/generated/numpy.random.randint.html)"
      ]
    },
    {
      "cell_type": "code",
      "metadata": {
        "id": "rhXS0MgQtqPZ",
        "colab_type": "code",
        "colab": {}
      },
      "source": [
        "#Create arrays and add them to a scatter plot\n",
        "#Random number generators are used in this example\n",
        "data = {'a': np.arange(50),\n",
        "        'c': np.random.randint(0, 50, 50),\n",
        "        'd': np.random.randn(50)}\n",
        "# start of Jesse changes\n",
        "print(data['a'])\n",
        "print(\"\")\n",
        "print(data['c'])\n",
        "print(\"\")\n",
        "print(data['d'])\n",
        "print(\"\")\n",
        "print(\"end of initial arrays\")\n",
        "print(\"\")\n",
        "#end of Jesse Changes\n",
        "\n",
        "data['b'] = data['a'] + 10 * np.random.randn(50)\n",
        "data['d'] = np.abs(data['d']) * 100\n",
        "\n",
        "#start of Jesse add's\n",
        "print(data['b'])\n",
        "print(data['d'])\n",
        "print(\"\")\n",
        "#end of Jesse Changes\n",
        "plt.scatter('a', 'b', c='c', s='d', data=data)\n",
        "plt.xlabel('entry a')\n",
        "plt.ylabel('entry b')\n",
        "plt.show()"
      ],
      "execution_count": 0,
      "outputs": []
    },
    {
      "cell_type": "markdown",
      "metadata": {
        "id": "UVLJW2zDaB_a",
        "colab_type": "text"
      },
      "source": [
        "# **Assignment #12**\n",
        "1. Create four Numpy arrays \n",
        "2. Add them to a scatterplot"
      ]
    },
    {
      "cell_type": "markdown",
      "metadata": {
        "id": "ajpa8lpfa2na",
        "colab_type": "text"
      },
      "source": [
        "# **Additional Examples using Matplotlib**\n",
        "**Optional**<br>\n",
        "This section is optional. \n",
        "Enjoy creating different plots and experimenting with Matplotlib"
      ]
    },
    {
      "cell_type": "code",
      "metadata": {
        "id": "olnMJzi8t2wI",
        "colab_type": "code",
        "colab": {}
      },
      "source": [
        "def f(t):\n",
        "    return np.exp(-t) * np.cos(2*np.pi*t)\n",
        "\n",
        "t1 = np.arange(0.0, 5.0, 0.1)\n",
        "t2 = np.arange(0.0, 5.0, 0.02)\n",
        "\n",
        "plt.figure()\n",
        "plt.subplot(211)\n",
        "plt.plot(t1, f(t1), 'bo', t2, f(t2), 'k')\n",
        "\n",
        "plt.subplot(212)\n",
        "plt.plot(t2, np.cos(2*np.pi*t2), 'r--')\n",
        "plt.show()"
      ],
      "execution_count": 0,
      "outputs": []
    },
    {
      "cell_type": "code",
      "metadata": {
        "id": "B1KICEpZ9PAZ",
        "colab_type": "code",
        "colab": {}
      },
      "source": [
        "#https://matplotlib.org/gallery/lines_bars_and_markers/bar_stacked.html#sphx-glr-gallery-lines-bars-and-markers-bar-stacked-pynumpytut\n",
        "\n",
        "N = 5\n",
        "menMeans = (20, 35, 30, 35, 27)\n",
        "womenMeans = (25, 32, 34, 20, 25)\n",
        "menStd = (2, 3, 4, 1, 2)\n",
        "womenStd = (3, 5, 2, 3, 3)\n",
        "ind = np.arange(N)    # the x locations for the groups\n",
        "width = 0.35       # the width of the bars: can also be len(x) sequence\n",
        "\n",
        "p1 = plt.bar(ind, menMeans, width, yerr=menStd)\n",
        "p2 = plt.bar(ind, womenMeans, width,\n",
        "             bottom=menMeans, yerr=womenStd)\n",
        "\n",
        "plt.ylabel('Scores')\n",
        "plt.title('Scores by group and gender')\n",
        "plt.xticks(ind, ('G1', 'G2', 'G3', 'G4', 'G5'))\n",
        "plt.yticks(np.arange(0, 81, 10))\n",
        "plt.legend((p1[0], p2[0]), ('Men', 'Women'))\n",
        "\n",
        "plt.show()"
      ],
      "execution_count": 0,
      "outputs": []
    },
    {
      "cell_type": "code",
      "metadata": {
        "id": "qXkJnqb_8uTF",
        "colab_type": "code",
        "colab": {}
      },
      "source": [
        "#https://matplotlib.org/gallery/pie_and_polar_charts/polar_bar.html#sphx-glr-gallery-pie-and-polar-charts-polar-bar-py\n",
        "\n",
        "# Fixing random state for reproducibility\n",
        "np.random.seed(19680801)\n",
        "\n",
        "# Compute pie slices\n",
        "N = 20\n",
        "theta = np.linspace(0.0, 2 * np.pi, N, endpoint=False)\n",
        "radii = 10 * np.random.rand(N)\n",
        "width = np.pi / 4 * np.random.rand(N)\n",
        "colors = plt.cm.viridis(radii / 10.)\n",
        "\n",
        "ax = plt.subplot(111, projection='polar')\n",
        "ax.bar(theta, radii, width=width, bottom=0.0, color=colors, alpha=0.5)\n",
        "\n",
        "plt.show()"
      ],
      "execution_count": 0,
      "outputs": []
    }
  ]
}