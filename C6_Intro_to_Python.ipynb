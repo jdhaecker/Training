{
  "nbformat": 4,
  "nbformat_minor": 0,
  "metadata": {
    "colab": {
      "name": "C6 Intro to Python.ipynb",
      "provenance": [],
      "private_outputs": true,
      "collapsed_sections": [],
      "include_colab_link": true
    },
    "kernelspec": {
      "name": "python3",
      "display_name": "Python 3"
    }
  },
  "cells": [
    {
      "cell_type": "markdown",
      "metadata": {
        "id": "view-in-github",
        "colab_type": "text"
      },
      "source": [
        "<a href=\"https://colab.research.google.com/github/jdhaecker/Training/blob/master/C6_Intro_to_Python.ipynb\" target=\"_parent\"><img src=\"https://colab.research.google.com/assets/colab-badge.svg\" alt=\"Open In Colab\"/></a>"
      ]
    },
    {
      "cell_type": "code",
      "metadata": {
        "id": "GZ91CgKbAeXq",
        "colab_type": "code",
        "colab": {}
      },
      "source": [
        "# Clone the entire repo.\n",
        "!git clone -l -s https://github.com/cagBRT/Intro-to-Programming-with-Python.git cloned-repo\n",
        "%cd cloned-repo\n",
        "!ls"
      ],
      "execution_count": 0,
      "outputs": []
    },
    {
      "cell_type": "code",
      "metadata": {
        "id": "25-twnkSAiLT",
        "colab_type": "code",
        "colab": {}
      },
      "source": [
        "from IPython.display import Image\n",
        "def page(num):\n",
        "    return Image(\"c6-content/c6PythonProgramming\"+str(num)+ \".png\" , width=640)"
      ],
      "execution_count": 0,
      "outputs": []
    },
    {
      "cell_type": "markdown",
      "metadata": {
        "id": "ybjZc5f10yl3",
        "colab_type": "text"
      },
      "source": [
        "# **Functions**\n",
        "A function is a block of code that is only executed when you call it. <br>\n",
        "The advantage of functions is, you can call them over and over and use them in multiple programs. *italicized text*"
      ]
    },
    {
      "cell_type": "code",
      "metadata": {
        "id": "8fJhi2-O0vqY",
        "colab_type": "code",
        "colab": {}
      },
      "source": [
        "page(1)"
      ],
      "execution_count": 0,
      "outputs": []
    },
    {
      "cell_type": "code",
      "metadata": {
        "id": "u2Is_pcSAwMn",
        "colab_type": "code",
        "colab": {}
      },
      "source": [
        "page(2)"
      ],
      "execution_count": 0,
      "outputs": []
    },
    {
      "cell_type": "markdown",
      "metadata": {
        "id": "fyVQeyFaAyn-",
        "colab_type": "text"
      },
      "source": [
        "# **Creating a Function**\n",
        "Create a function using the following format: \n",
        ">def function-name():\n",
        "> > function code"
      ]
    },
    {
      "cell_type": "code",
      "metadata": {
        "id": "u1YlwGImBFXP",
        "colab_type": "code",
        "colab": {}
      },
      "source": [
        "#Create a simple function that \n",
        "#prints a statement when called\n",
        "\n",
        "def print_function():\n",
        "  print(\"The function says hello\")"
      ],
      "execution_count": 0,
      "outputs": []
    },
    {
      "cell_type": "markdown",
      "metadata": {
        "id": "Oj_x-_VBBTu5",
        "colab_type": "text"
      },
      "source": [
        "# **Calling a Function**\n",
        "Call a function with its name. "
      ]
    },
    {
      "cell_type": "code",
      "metadata": {
        "id": "QMO6AtU0BeM2",
        "colab_type": "code",
        "colab": {}
      },
      "source": [
        "print(\"hi from the main program\")\n",
        "print_function()\n",
        "print_function()\n",
        "print(\"bye from the main function\")"
      ],
      "execution_count": 0,
      "outputs": []
    },
    {
      "cell_type": "markdown",
      "metadata": {
        "id": "nxHSnIQFBtor",
        "colab_type": "text"
      },
      "source": [
        "# **Assignment #1**\n",
        "1. Create a function that prints: \n",
        ">\"Welcome to the world of functions!\"\n",
        "2. Call the function in a program\n",
        "\n"
      ]
    },
    {
      "cell_type": "code",
      "metadata": {
        "id": "Axb9lJ8vB4c2",
        "colab_type": "code",
        "colab": {}
      },
      "source": [
        "#Assignment #1"
      ],
      "execution_count": 0,
      "outputs": []
    },
    {
      "cell_type": "markdown",
      "metadata": {
        "id": "QEZT0q_qB7pO",
        "colab_type": "text"
      },
      "source": [
        "# **Function Parameters**\n",
        "Sometimes you want to send information to the function. You do this through function parameters. \n",
        "\n",
        ">def function-name(function parameters, go, here):\n",
        "> > function code"
      ]
    },
    {
      "cell_type": "code",
      "metadata": {
        "id": "lykhxC00B4id",
        "colab_type": "code",
        "colab": {}
      },
      "source": [
        "#Example of function parameters\n",
        "def print_name(name):\n",
        "  print(\"My name is \", name)"
      ],
      "execution_count": 0,
      "outputs": []
    },
    {
      "cell_type": "markdown",
      "metadata": {
        "id": "F6E_jQBlCvvV",
        "colab_type": "text"
      },
      "source": [
        "Calling functions with parameters"
      ]
    },
    {
      "cell_type": "code",
      "metadata": {
        "id": "TSvg6HoXCu_Q",
        "colab_type": "code",
        "colab": {}
      },
      "source": [
        "#A function with a string parameter\n",
        "print(\"Hello from the main program\")\n",
        "print_name(\"John Deere\")\n",
        "print_name(\"Catherine\")"
      ],
      "execution_count": 0,
      "outputs": []
    },
    {
      "cell_type": "code",
      "metadata": {
        "id": "NDUYmKnaDxLn",
        "colab_type": "code",
        "colab": {}
      },
      "source": [
        "#A function with two string parameters\n",
        "def print_name(name, address):\n",
        "  print(\"My name is \", name)\n",
        "  print(\"I live at: \", address)"
      ],
      "execution_count": 0,
      "outputs": []
    },
    {
      "cell_type": "code",
      "metadata": {
        "id": "X4WanXuQD7bJ",
        "colab_type": "code",
        "colab": {}
      },
      "source": [
        "print_name(\"Catherine\", \"Borgwood Court, San Jose, CA\")"
      ],
      "execution_count": 0,
      "outputs": []
    },
    {
      "cell_type": "markdown",
      "metadata": {
        "id": "7Fb5uxzDESYS",
        "colab_type": "text"
      },
      "source": [
        "# **Assignment #2**\n",
        "1. Create a function called 'Personal Info'\n",
        "2. It should have three input parameters: name, eye color, hair color\n",
        "3. The function should print:<br>\n",
        ">\"NAME: \" input parameter name<br>\n",
        ">EYE COLOR: input parameter eye color<br>\n",
        ">HAIR COLOR: input parameter hair color<br>\n",
        "4. Call the function several times with different values <br>\n"
      ]
    },
    {
      "cell_type": "code",
      "metadata": {
        "id": "1SUINUYDFZfh",
        "colab_type": "code",
        "colab": {}
      },
      "source": [
        "#Assignment #2\n",
        "# Ian Markham\n",
        "def personal_info(name, eye_color, hair_color):\n",
        "  print(\"Name:\",name,\"\\nEye Color:\",eye_color,\"\\nHair Color:\",hair_color)\n",
        "personal_info('Ian','Transparent','Bald')\n",
        "\n",
        "# Tatal Elammas\n",
        "NAME=input(\"enteryour name :  \")\n",
        "EYE_COLOR= input(\"parameter eye color :  \")\n",
        "HAIR_COLOR= input(\"parameter hair color :  \")\n",
        "\n",
        "def welcome(NAME,EYE_COLOR, HAIR_COLOR):\n",
        "  print(\"welcome\" , NAME, \"who had a \", EYE_COLOR , \"and \" , HAIR_COLOR , \"hair color\")"
      ],
      "execution_count": 0,
      "outputs": []
    },
    {
      "cell_type": "markdown",
      "metadata": {
        "id": "fYagmoWjYMeB",
        "colab_type": "text"
      },
      "source": [
        "# **Debugging Functions**\n",
        "Debugging functions should be done seperately from debugging main programs. <br>\n",
        "Debug the function and clean up any errors before calling it in your program. <br>\n"
      ]
    },
    {
      "cell_type": "code",
      "metadata": {
        "id": "kG1aYTWeYogq",
        "colab_type": "code",
        "colab": {}
      },
      "source": [
        "#Debug functions before calling them in your main program. \n",
        "#function\n",
        "def print_function(dog_name, owner_name, owner_phone, owner_address):\n",
        "  #the '\\t' adds a tab to the output\n",
        "  print(\"Dog:\", dog_name)\n",
        "  print(\"\\t\",owner_name)\n",
        "  print(\"\\t\",owner_phone)\n",
        "  print(\"\\t\",owner_address)\n",
        "\n",
        "#call the function and correct errors\n",
        "print_function(\"Rover\", \"Bob Smith\", \"408-662-9898\", \"San Jose, CA\")\n",
        "print_function(\"Kodak\", \"Jesse Haecker\", \"641-781-8454\", \"Ankeny, IA\")"
      ],
      "execution_count": 0,
      "outputs": []
    },
    {
      "cell_type": "markdown",
      "metadata": {
        "id": "M0Bbwi7za1p8",
        "colab_type": "text"
      },
      "source": [
        "# **Assignment #3**\n",
        "1. Write a function that accepts 4 input parameters. \n",
        "<br>\n",
        "2. Then prints the 4 parameters. \n",
        "3. Call the function to test it. "
      ]
    },
    {
      "cell_type": "code",
      "metadata": {
        "id": "DjRk0kmcbPgg",
        "colab_type": "code",
        "colab": {}
      },
      "source": [
        "#Assignment #3\n",
        "def easy_function(height, weight, eye_color, hair_color):\n",
        "  print(\"Height: \", height)\n",
        "  print(\"Weight: \", weight)\n",
        "  print(\"Eye Color: \", eye_color)\n",
        "  print(\"Hair Color: \", hair_color)\n",
        "\n",
        "easy_function(\"5'-10\", \"190#\", \"Blue\", \"Brown\")\n"
      ],
      "execution_count": 0,
      "outputs": []
    },
    {
      "cell_type": "markdown",
      "metadata": {
        "id": "IrwtPM3ZcQZn",
        "colab_type": "text"
      },
      "source": [
        "**Lists as an input parameter**<br>\n",
        "You can also use a list as an input parameter. "
      ]
    },
    {
      "cell_type": "code",
      "metadata": {
        "id": "JeSe-3sxcc3T",
        "colab_type": "code",
        "colab": {}
      },
      "source": [
        "def print_list(input_list):\n",
        "  length = len(input_list) \n",
        "  print(\"There are \", length, \"items in the list\")\n",
        "  for x in input_list:\n",
        "    print (x)\n",
        "\n",
        "number_list = [1,2,3,4,5]\n",
        "print_list(number_list)"
      ],
      "execution_count": 0,
      "outputs": []
    },
    {
      "cell_type": "markdown",
      "metadata": {
        "id": "jTix_KulGOmK",
        "colab_type": "text"
      },
      "source": [
        "# **Assignment #4**\n",
        "\n",
        "1. Ask a user for the names of their favorite animals. \n",
        "2. Users enter 'q' when they are done. \n",
        "3. Write a function that prints the last name entered by the user"
      ]
    },
    {
      "cell_type": "code",
      "metadata": {
        "id": "m6kpI0F7JvHQ",
        "colab_type": "code",
        "colab": {}
      },
      "source": [
        "#Assignment #4\n",
        "#Define the function\n",
        "# From T. Chalmers\n",
        "def print_last_animal(your_list):\n",
        "  print(your_list[-1])\n",
        "\n",
        "animals = []\n",
        "\n",
        "while True:\n",
        "  animal = input(\"Name an animal:\")\n",
        "  if animal == \"q\":\n",
        "    break\n",
        "    \n",
        "  else:\n",
        "    animals.append(animal)\n",
        "\n",
        "print_last_animal(animals)\n",
        "\n",
        "#From Mohamed Hamza\n",
        "def x (listx):\n",
        "  print(listx[len(listx)-1])\n",
        "l = []\n",
        "r = input(\"Enter Names: \")\n",
        "while r != 'q':\n",
        "  l.append(r)\n",
        "  r = input(\"Enter Names: \")\n",
        "\n",
        "x (l)"
      ],
      "execution_count": 0,
      "outputs": []
    },
    {
      "cell_type": "code",
      "metadata": {
        "id": "p2h0IuV5IqQv",
        "colab_type": "code",
        "colab": {}
      },
      "source": [
        "#Assignment #4\n"
      ],
      "execution_count": 0,
      "outputs": []
    },
    {
      "cell_type": "markdown",
      "metadata": {
        "id": "VE6rLRI-YJ3x",
        "colab_type": "text"
      },
      "source": [
        "# **Functions that return parameters**\n",
        "Sometimes you may want the function to do a task and return a value. <br>\n",
        "Use return to send a parameter value back to the main program. "
      ]
    },
    {
      "cell_type": "code",
      "metadata": {
        "id": "Y_tGUErueQJw",
        "colab_type": "code",
        "colab": {}
      },
      "source": [
        "#Example of a function that returns a value\n",
        "\n",
        "def sum(a, b):\n",
        "  addition = a + b\n",
        "  return addition\n",
        "\n",
        "#Check the function\n",
        "\n",
        "total = sum(6, 5)\n",
        "#total is now equal to the return \n",
        "#value from the function\n",
        "print(total)\n",
        "#or using one line:\n",
        "print(sum(4,2))"
      ],
      "execution_count": 0,
      "outputs": []
    },
    {
      "cell_type": "code",
      "metadata": {
        "id": "s5T4i4O1evr5",
        "colab_type": "code",
        "colab": {}
      },
      "source": [
        "#Example of the above function written differently\n",
        "def sum(a, b):\n",
        "  return a + b\n",
        "\n",
        "#Check the function\n",
        "\n",
        "total = sum(6, 5)\n",
        "#total is now equal to the return \n",
        "#value from the function\n",
        "print(total)\n",
        "#or \n",
        "print(sum(66,2))"
      ],
      "execution_count": 0,
      "outputs": []
    },
    {
      "cell_type": "markdown",
      "metadata": {
        "id": "7yUTjHlkesg7",
        "colab_type": "text"
      },
      "source": [
        "# **Assignment #5**\n",
        "1. Write functions that perform the following tasks (one function per task) Return the answer to the main program: \n",
        "> Sum of two numbers<br>\n",
        "> Difference of two numbers<br>\n",
        "> Multiply two numbers<br>\n",
        ">Divide two numbers<br>\n",
        "2. Test that the functions work\n",
        "3. Write a Caculator program\n",
        "> Ask the user to enter '+' '-' '*' '/' \n",
        ">then ask for two numbers\n",
        "4. print the answer\n"
      ]
    },
    {
      "cell_type": "code",
      "metadata": {
        "id": "9ITLyZIukevs",
        "colab_type": "code",
        "colab": {}
      },
      "source": [
        "#Assignment #5\n",
        "#from student in class\n",
        "def sum(a,b):\n",
        "  return (a + b)\n",
        "def diff(a,b):\n",
        "  return (a - b)\n",
        "def mul(a,b):\n",
        "  return (a * b)\n",
        "def div(a,b):\n",
        "  return (a / b)\n",
        "\n",
        "operation = input('Enter the operation you want to perform: ')\n",
        "a = int(input(\"Enter first operand: \"))\n",
        "b = int(input(\"Enter Second operand: \"))\n",
        "\n",
        "if operation == '+':\n",
        "  print(\"result =\",sum(a,b))\n",
        "elif operation == '-':\n",
        "  print(\"result =\",diff(a,b))\n",
        "elif operation == '*':\n",
        "  print(\"result =\",mul(a,b))\n",
        "elif operation == '/':\n",
        "  print(\"result =\",div(a,b))\n",
        "else:\n",
        "  print(\"invalid operation!!\")"
      ],
      "execution_count": 0,
      "outputs": []
    },
    {
      "cell_type": "markdown",
      "metadata": {
        "id": "S0mZk-ZpmSH3",
        "colab_type": "text"
      },
      "source": [
        "# **Debug Exercise**\n",
        "\n"
      ]
    },
    {
      "cell_type": "code",
      "metadata": {
        "id": "G3-uQTLWm3Xu",
        "colab_type": "code",
        "colab": {}
      },
      "source": [
        "#Debug Exercise\n",
        "def square(number)\n",
        "  return number * number\n",
        "\n",
        "def cube(number):\n",
        "  return number * number * number\n",
        "\n",
        "def slope_of_line(y2, y1, x2, x1):\n",
        "  return (y2-y1) (x2-x1)\n",
        "\n",
        "def quad(a, b, c x):\n",
        "  return a*x*x + b*x + c\n",
        "\n",
        "print(squares(4))\n",
        "print(cubes(3))\n",
        "print(slopeof_line(4,1,3,2))\n",
        "print(Quad(3,5,7,4))"
      ],
      "execution_count": 0,
      "outputs": []
    },
    {
      "cell_type": "code",
      "metadata": {
        "id": "X1SM0iHEpytT",
        "colab_type": "code",
        "colab": {}
      },
      "source": [
        "#Debug Exercise\n",
        "#Calculator Program\n",
        "\n",
        "#square 43\n",
        "#cube 8\n",
        "#find the slope of point1 = (8.7, 4.3) point2 = (9.2, -5)\n",
        "#find the quad y = 34x^2 + 9x + 95.32 \n",
        "\n",
        "print(\"the square of 43 is \", square(4,3))\n",
        "print(\"the cube of 8 is \", cube(8)\n",
        "print(\"the slope of point1 = (8.7, 4.3) point2 = (9.2, -5) is \", slope_of_line(8,7, 9.2, 4.3, -5))\n",
        "print(\"y = 34x^2 + 9x + 95.32 = ,quad(34,9,95.3,2,4))\n"
      ],
      "execution_count": 0,
      "outputs": []
    },
    {
      "cell_type": "markdown",
      "metadata": {
        "id": "8G-D9zG3s0KR",
        "colab_type": "text"
      },
      "source": [
        "# **Assignment #6**\n",
        "Write a function that returns the maximum of three input parameters.\n",
        "\n",
        "https://www.w3resource.com/python-exercises/python-functions-exercise-8.php\n"
      ]
    },
    {
      "cell_type": "code",
      "metadata": {
        "id": "UOz_DbT45aeI",
        "colab_type": "code",
        "colab": {}
      },
      "source": [
        "#Assignment #6\n",
        "#shyam sundar malani\n",
        "def getMaxOfInput():\n",
        "  first = input(\"first Value \")\n",
        "  second = input(\"second Value \")\n",
        "  third = input(\"third Value \")\n",
        "  return max([int(first), int(second), int(third)])\n",
        "\n",
        "getMaxOfInput()\n",
        "\n",
        "#chad magee\n",
        "def max(a,b,c):\n",
        "  maxValue = max(a,b,c)\n",
        "  return maxValue\n",
        "\n",
        "#anabhra soni\n",
        "def maxVal(a,b,c):\n",
        "  if(type(a)!= int or type(b)!=int or type(c)!=int):\n",
        "    list = [a,b,c]\n",
        "    print(max(list))\n",
        "\n",
        "maxVal(2,5,8)"
      ],
      "execution_count": 0,
      "outputs": []
    },
    {
      "cell_type": "markdown",
      "metadata": {
        "id": "b3daaq7A5nCX",
        "colab_type": "text"
      },
      "source": [
        "# **Assignment #7**\n",
        "Write a function that reverses a string. \n",
        "<br>For example: \n",
        ">Input string = \"HelloToEveryone2020\"\n",
        ">return string = \"0202enoyrevEoTolleH\"\n"
      ]
    },
    {
      "cell_type": "code",
      "metadata": {
        "id": "yIV1wmJR6M3H",
        "colab_type": "code",
        "colab": {}
      },
      "source": [
        ""
      ],
      "execution_count": 0,
      "outputs": []
    },
    {
      "cell_type": "markdown",
      "metadata": {
        "id": "QirXP7OC6lE5",
        "colab_type": "text"
      },
      "source": [
        "# **Assignment #8**\n",
        "Create a function that: \n",
        "1. Accepts an input string of any length\n",
        "2. Counts the number of uppercase letters\n",
        "3. Counts the number of lowercase letters\n",
        "4. Prints the totals of uppercase and lowercase"
      ]
    },
    {
      "cell_type": "code",
      "metadata": {
        "id": "auiFp2be62SL",
        "colab_type": "code",
        "colab": {}
      },
      "source": [
        ""
      ],
      "execution_count": 0,
      "outputs": []
    },
    {
      "cell_type": "markdown",
      "metadata": {
        "id": "ZOQ8ynqg7ESE",
        "colab_type": "text"
      },
      "source": [
        "# **Assignment #9**\n",
        "Write a function that accepts a list that has duplicate values in it.<br>\n",
        "Then returns the list without duplicates. <br>\n",
        "For example: \n",
        ">input list = [4,4,3,5,6,7,6,3]\n",
        ">returned list = [4,3,5,6,7]\n",
        "\n"
      ]
    },
    {
      "cell_type": "markdown",
      "metadata": {
        "id": "amnn2vLV8I2U",
        "colab_type": "text"
      },
      "source": [
        ""
      ]
    },
    {
      "cell_type": "markdown",
      "metadata": {
        "id": "fj5UW9Rk8I7V",
        "colab_type": "text"
      },
      "source": [
        "# **Assignment #10**\n",
        "Write a function that: \n",
        "1. Accepts a list of numbers\n",
        "2. Puts the even numbers in a new list\n",
        "3. Put the odd number in a new list\n",
        "4. Prints both lists"
      ]
    },
    {
      "cell_type": "code",
      "metadata": {
        "id": "tc3svLW883jN",
        "colab_type": "code",
        "colab": {}
      },
      "source": [
        ""
      ],
      "execution_count": 0,
      "outputs": []
    }
  ]
}