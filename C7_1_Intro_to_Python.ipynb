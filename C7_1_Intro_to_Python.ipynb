{
  "nbformat": 4,
  "nbformat_minor": 0,
  "metadata": {
    "colab": {
      "name": "C7_1 Intro to Python.ipynb",
      "provenance": [],
      "private_outputs": true,
      "collapsed_sections": [],
      "include_colab_link": true
    },
    "kernelspec": {
      "name": "python3",
      "display_name": "Python 3"
    }
  },
  "cells": [
    {
      "cell_type": "markdown",
      "metadata": {
        "id": "view-in-github",
        "colab_type": "text"
      },
      "source": [
        "<a href=\"https://colab.research.google.com/github/jdhaecker/Training/blob/master/C7_1_Intro_to_Python.ipynb\" target=\"_parent\"><img src=\"https://colab.research.google.com/assets/colab-badge.svg\" alt=\"Open In Colab\"/></a>"
      ]
    },
    {
      "cell_type": "code",
      "metadata": {
        "id": "gL7Fj-3aOmBE",
        "colab_type": "code",
        "colab": {}
      },
      "source": [
        "# Clone the entire repo.\n",
        "!git clone -l -s https://github.com/cagBRT/Intro-to-Programming-with-Python.git cloned-repo\n",
        "%cd cloned-repo\n",
        "!ls\n",
        "#https://www.guru99.com/reading-and-writing-files-in-python.html"
      ],
      "execution_count": 0,
      "outputs": []
    },
    {
      "cell_type": "code",
      "metadata": {
        "id": "1YzzXiITO3HX",
        "colab_type": "code",
        "colab": {}
      },
      "source": [
        "from IPython.display import Image\n",
        "def page(num):\n",
        "    return Image(\"c7-content/c7PythonProgramming\"+str(num)+ \".png\" , width=640)"
      ],
      "execution_count": 0,
      "outputs": []
    },
    {
      "cell_type": "markdown",
      "metadata": {
        "id": "UScJNYhlOsn8",
        "colab_type": "text"
      },
      "source": [
        "# **Interacting with Text Files**\n",
        "\n",
        "You can create, append, and read text files with code in Python. "
      ]
    },
    {
      "cell_type": "markdown",
      "metadata": {
        "id": "onI1wt1OPY9m",
        "colab_type": "text"
      },
      "source": [
        "# **Creating a text file** <br>\n",
        " **Step 1**: Open the file<br>\n",
        ">Open the file with its name and the permission.<br> \n",
        "For example: <br>\n",
        ">f = open(\"filename.txt\", \"w+\")\n",
        "\n",
        "Permission options are: <br>\n",
        ">w = write<br>\n",
        ">w+ = write and read<br>\n",
        ">r = read<br>\n",
        ">a = append (add to the end of the file)<br>"
      ]
    },
    {
      "cell_type": "code",
      "metadata": {
        "id": "vRqpgo47PW8U",
        "colab_type": "code",
        "colab": {}
      },
      "source": [
        "#Open the file with its name and the permission. \n",
        "f = open(\"textfile.txt\", \"w+\")"
      ],
      "execution_count": 0,
      "outputs": []
    },
    {
      "cell_type": "markdown",
      "metadata": {
        "id": "YMWED_nVRKHk",
        "colab_type": "text"
      },
      "source": [
        "**Step 2**: Add content to the file"
      ]
    },
    {
      "cell_type": "code",
      "metadata": {
        "id": "9mQ_gDTBRxvu",
        "colab_type": "code",
        "colab": {}
      },
      "source": [
        "#You can write a line or character at a time\n",
        "#Notice the '\\n' - this is a \"newline\" character\n",
        "#Put it in if you would like a newline for the next write\n",
        "f.write(\"This is the first line for the file\\n\")\n",
        "f.write(\"This is the second line for the file\\n\")\n",
        "f.write(\"a\")"
      ],
      "execution_count": 0,
      "outputs": []
    },
    {
      "cell_type": "code",
      "metadata": {
        "id": "OsvdxkQ3SJfU",
        "colab_type": "code",
        "colab": {}
      },
      "source": [
        "#Or you can use a loop to write to the file\n",
        "for i in range(3,20):\n",
        "  f.write(\"This is line %d\\n\" %i)"
      ],
      "execution_count": 0,
      "outputs": []
    },
    {
      "cell_type": "markdown",
      "metadata": {
        "id": "sB4KhSMSUkr8",
        "colab_type": "text"
      },
      "source": [
        "**Step 3: Close the file**"
      ]
    },
    {
      "cell_type": "code",
      "metadata": {
        "id": "SGDQy0AcUocx",
        "colab_type": "code",
        "colab": {}
      },
      "source": [
        "f.close()"
      ],
      "execution_count": 0,
      "outputs": []
    },
    {
      "cell_type": "code",
      "metadata": {
        "id": "litkvyHPUq9A",
        "colab_type": "code",
        "colab": {}
      },
      "source": [
        "!cat textfile.txt"
      ],
      "execution_count": 0,
      "outputs": []
    },
    {
      "cell_type": "markdown",
      "metadata": {
        "id": "gtML1ZbsVPd4",
        "colab_type": "text"
      },
      "source": [
        "# **Append Data to a Text File**\n",
        "You can append text to the end of a file. \n",
        "<br>\n",
        "a+ = open the file if it exists, create it if it doesn't exist. \n"
      ]
    },
    {
      "cell_type": "markdown",
      "metadata": {
        "id": "4-O5gHGAWD1M",
        "colab_type": "text"
      },
      "source": [
        "**Step 1**: Open or create the file"
      ]
    },
    {
      "cell_type": "code",
      "metadata": {
        "id": "LVbBtK-CVzLP",
        "colab_type": "code",
        "colab": {}
      },
      "source": [
        "#Open the file if it exists\n",
        "#Create the file if it does not exist\n",
        "f = open(\"textfile.txt\", \"a+\")"
      ],
      "execution_count": 0,
      "outputs": []
    },
    {
      "cell_type": "markdown",
      "metadata": {
        "id": "eC397-T3YcDn",
        "colab_type": "text"
      },
      "source": [
        "**Step 2**: Write data. This will be added to the end of the file"
      ]
    },
    {
      "cell_type": "code",
      "metadata": {
        "id": "V5FFzthUYh3y",
        "colab_type": "code",
        "colab": {}
      },
      "source": [
        "for i in range(20,25):\n",
        "  f.write(\"added line %d\\n\" %i)"
      ],
      "execution_count": 0,
      "outputs": []
    },
    {
      "cell_type": "markdown",
      "metadata": {
        "id": "NGP8YCF1ZFJJ",
        "colab_type": "text"
      },
      "source": [
        "**Step 3**: Close the file"
      ]
    },
    {
      "cell_type": "code",
      "metadata": {
        "id": "_dj2K2YnZN8_",
        "colab_type": "code",
        "colab": {}
      },
      "source": [
        "f.close()"
      ],
      "execution_count": 0,
      "outputs": []
    },
    {
      "cell_type": "code",
      "metadata": {
        "id": "qyr5s4OmYyzy",
        "colab_type": "code",
        "colab": {}
      },
      "source": [
        "!cat textfile.txt"
      ],
      "execution_count": 0,
      "outputs": []
    },
    {
      "cell_type": "markdown",
      "metadata": {
        "id": "Lj9JOty2ZfLJ",
        "colab_type": "text"
      },
      "source": [
        "# **Reading a Text File**\n",
        "You can open a file to read it. "
      ]
    },
    {
      "cell_type": "markdown",
      "metadata": {
        "id": "pXMu7n4waAmV",
        "colab_type": "text"
      },
      "source": [
        "**Step 1**: Open the file in read mode"
      ]
    },
    {
      "cell_type": "code",
      "metadata": {
        "id": "higyz_AjaFGk",
        "colab_type": "code",
        "colab": {}
      },
      "source": [
        "f=open(\"textfile.txt\", \"r\")"
      ],
      "execution_count": 0,
      "outputs": []
    },
    {
      "cell_type": "markdown",
      "metadata": {
        "id": "PRkGRztFaJ9E",
        "colab_type": "text"
      },
      "source": [
        "**Step 2**: Read the file and store it in a variable"
      ]
    },
    {
      "cell_type": "code",
      "metadata": {
        "id": "lRBzOm6laSha",
        "colab_type": "code",
        "colab": {}
      },
      "source": [
        "file_content = f.read()"
      ],
      "execution_count": 0,
      "outputs": []
    },
    {
      "cell_type": "markdown",
      "metadata": {
        "id": "mvg-1Z4FaZXq",
        "colab_type": "text"
      },
      "source": [
        "**Step 3**: Close the file"
      ]
    },
    {
      "cell_type": "code",
      "metadata": {
        "id": "YjMMGtQBac2-",
        "colab_type": "code",
        "colab": {}
      },
      "source": [
        "f.close()"
      ],
      "execution_count": 0,
      "outputs": []
    },
    {
      "cell_type": "markdown",
      "metadata": {
        "id": "jXkHCF52aodR",
        "colab_type": "text"
      },
      "source": [
        "Look at the contents. You can do this before or after the file is closed. "
      ]
    },
    {
      "cell_type": "code",
      "metadata": {
        "id": "pItsxV5zanyk",
        "colab_type": "code",
        "colab": {}
      },
      "source": [
        "print(file_content)"
      ],
      "execution_count": 0,
      "outputs": []
    },
    {
      "cell_type": "markdown",
      "metadata": {
        "id": "F-65Po3GbKES",
        "colab_type": "text"
      },
      "source": [
        "# **Reading a text file line-by-line**\n",
        "Sometimes the file is too big to open and read as a variable. <br>\n",
        "In that case, you can read the file one line at a time. <br>\n"
      ]
    },
    {
      "cell_type": "code",
      "metadata": {
        "id": "dQQUWl4bbiJ8",
        "colab_type": "code",
        "colab": {}
      },
      "source": [
        "#Step 1: open the file\n",
        "f = open(\"textfile.txt\", \"r\")\n",
        "\n",
        "#Step 2: read the file line by line\n",
        "f1 = f.readlines()\n",
        "for x in f1: \n",
        "  print(x)\n",
        "\n",
        "\n",
        "#Step 3: close the file\n",
        "f.close()"
      ],
      "execution_count": 0,
      "outputs": []
    },
    {
      "cell_type": "markdown",
      "metadata": {
        "id": "wwyZS9xnciym",
        "colab_type": "text"
      },
      "source": [
        "# **Assignment #1**\n",
        "1. Create a file called \"jabberwocky.txt\"\n",
        "2. Add the following lines of data to the file\n",
        ">’Twas brillig, and the slithy toves\n",
        "      Did gyre and gimble in the wabe:<br>\n",
        "All mimsy were the borogoves,\n",
        "      And the mome raths outgrabe.\n",
        "\n",
        ">>“Beware the Jabberwock, my son!\n",
        "      The jaws that bite, the claws that catch!<br>\n",
        "Beware the Jubjub bird, and shun\n",
        "      The frumious Bandersnatch!”\n",
        "\n",
        ">>He took his vorpal sword in hand;\n",
        "      Long time the manxome foe he sought—<br>\n",
        "So rested he by the Tumtum tree\n",
        "      And stood awhile in thought.\n",
        "\n",
        "<br><br>\n",
        "3. Make sure you close the file. "
      ]
    },
    {
      "cell_type": "code",
      "metadata": {
        "id": "6nnk7zqpdRlF",
        "colab_type": "code",
        "colab": {}
      },
      "source": [
        "#Assignment #1\n",
        "#Step 1:create the file\n",
        "f = open(\"jabberwocky.txt\", \"w\")\n",
        "f.write(\"Twas brillig, and the slithy toves Did gyre and gimble in the wabe.\\n\")\n",
        "f.write(\"All mimsy were the borogoves, And the mome raths outgrabe.\\n\")\n",
        "f.write(\"Beware the Jabberwock, my son! The jaws that bite, the claws that catch!\\n\")\n",
        "f.write(\"Beware the Jubjub bird, and shun The frumious Bandersnatch!\\n\")\n",
        "f.write(\"He took his vorpal sword in hand; Long time the manxome foe he sought— \\n\")\n",
        "f.write(\"So rested he by the Tumtum tree And stood awhile in thought.\")\n",
        "\n",
        "f.close()\n",
        "\n",
        "!cat jabberwocky.txt"
      ],
      "execution_count": 0,
      "outputs": []
    },
    {
      "cell_type": "markdown",
      "metadata": {
        "id": "1MjfV_EkdhES",
        "colab_type": "text"
      },
      "source": [
        "# **Assignment #2**\n",
        "\n",
        "1. Open the file called \"jabberwocky.txt\"\n",
        "2. Add the following to the end of the file. <br>\n",
        "\n",
        "> And, as in uffish thought he stood,\n",
        "      The Jabberwock, with eyes of flame,<br>\n",
        "Came whiffling through the tulgey wood,\n",
        "      And burbled as it came!\n",
        "\n",
        ">One, two! One, two! And through and through\n",
        "      The vorpal blade went snicker-snack!<br>\n",
        "He left it dead, and with its head\n",
        "      He went galumphing back.\n"
      ]
    },
    {
      "cell_type": "code",
      "metadata": {
        "id": "TernGr4oe9jI",
        "colab_type": "code",
        "colab": {}
      },
      "source": [
        "#Assignment #2\n",
        "f = open(\"jabberwocky.txt\", \"a\")\n",
        "\n",
        "f.write('''\n",
        "And, as in uffish thought he stood, The Jabberwock, with eyes of flame,\n",
        "Came whiffling through the tulgey wood, And burbled as it came!\n",
        "\n",
        "One, two! One, two! And through and through The vorpal blade went snicker-snack!\n",
        "He left it dead, and with its head He went galumphing back.\n",
        "''')\n",
        "\n",
        "f.close()\n",
        "\n",
        "!cat jabberwocky.txt"
      ],
      "execution_count": 0,
      "outputs": []
    },
    {
      "cell_type": "markdown",
      "metadata": {
        "id": "6k3Boj_WfAb0",
        "colab_type": "text"
      },
      "source": [
        "# **Assignment #3**\n",
        "1. Open the file: jabberwocky.txt\n",
        "2. Count the number of characters in the file. "
      ]
    },
    {
      "cell_type": "code",
      "metadata": {
        "id": "dCHT4g4Cfh3O",
        "colab_type": "code",
        "colab": {}
      },
      "source": [
        "#Assignment #3\n",
        "f=open(\"jabberwocky.txt\", \"r+\")\n",
        "count = 0\n",
        "for line in f:\n",
        "  count+=len(line)\n",
        "print(count)\n",
        "\n",
        "#approach #1: Talal Elammas\n",
        "f = open(\"jabberwocky.txt\", \"r+\")\n",
        "count = 0\n",
        "for line in f:\n",
        "  count=(len(line.strip()))+count\n",
        "print(count)\n",
        "\n",
        "#Ian Markham\n",
        "with open('jabberwocky.txt') as my_file:\n",
        "    lines = my_file.readlines()\n",
        "count=0\n",
        "for line in lines:\n",
        "  count+=len(line.strip())\n",
        "print(count)\n",
        "\n",
        "f.close"
      ],
      "execution_count": 0,
      "outputs": []
    },
    {
      "cell_type": "markdown",
      "metadata": {
        "id": "-wCqBCf4mfSH",
        "colab_type": "text"
      },
      "source": [
        "# **Degub Exercise**"
      ]
    },
    {
      "cell_type": "code",
      "metadata": {
        "id": "i-zu4wrKmhjv",
        "colab_type": "code",
        "colab": {}
      },
      "source": [
        "f= open(\"guru99.txt\",\"w+\")\n",
        "f=open(\"guru99.txt\",\"a+\")\n",
        "for i in range(10)\n",
        "  f.write(\"This is line %d\\r\\n\" % (i+1))\n",
        "f.close()   \n",
        "#Open the file and read the contents\n",
        "f=open(\"guru99.txt\")\n",
        "if f.mode = 'r': \n",
        "  contents = read()\n",
        "  print contents\n",
        "#or, readlines reads the individual line into a list\n",
        "else: \n",
        "  fl = f.readlines()\n",
        "  for x in f:\n",
        "    print (x)"
      ],
      "execution_count": 0,
      "outputs": []
    }
  ]
}