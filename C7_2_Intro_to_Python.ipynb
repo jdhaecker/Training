{
  "nbformat": 4,
  "nbformat_minor": 0,
  "metadata": {
    "colab": {
      "name": "C7_2 Intro to Python.ipynb",
      "provenance": [],
      "private_outputs": true,
      "collapsed_sections": [],
      "include_colab_link": true
    },
    "kernelspec": {
      "name": "python3",
      "display_name": "Python 3"
    },
    "accelerator": "GPU"
  },
  "cells": [
    {
      "cell_type": "markdown",
      "metadata": {
        "id": "view-in-github",
        "colab_type": "text"
      },
      "source": [
        "<a href=\"https://colab.research.google.com/github/jdhaecker/Training/blob/master/C7_2_Intro_to_Python.ipynb\" target=\"_parent\"><img src=\"https://colab.research.google.com/assets/colab-badge.svg\" alt=\"Open In Colab\"/></a>"
      ]
    },
    {
      "cell_type": "markdown",
      "metadata": {
        "id": "TM5zaZimbs77",
        "colab_type": "text"
      },
      "source": [
        "https://people.sc.fsu.edu/~jburkardt/data/csv/csv.html"
      ]
    },
    {
      "cell_type": "code",
      "metadata": {
        "id": "YxtF92RT1CyW",
        "colab_type": "code",
        "colab": {}
      },
      "source": [
        "# Clone the entire repo.\n",
        "!git clone -l -s https://github.com/cagBRT/Intro-to-Programming-with-Python.git cloned-repo\n",
        "%cd cloned-repo\n",
        "!ls\n",
        "#https://realpython.com/python-csv/"
      ],
      "execution_count": 0,
      "outputs": []
    },
    {
      "cell_type": "code",
      "metadata": {
        "id": "aEOOgj8S9GSm",
        "colab_type": "code",
        "colab": {}
      },
      "source": [
        "from IPython.display import Image\n",
        "def page(num):\n",
        "    return Image(\"c7-content/c7PythonProgramming\"+str(num)+ \".png\" , width=640)"
      ],
      "execution_count": 0,
      "outputs": []
    },
    {
      "cell_type": "markdown",
      "metadata": {
        "id": "JG4_Kb0a1GGa",
        "colab_type": "text"
      },
      "source": [
        "# **Interacting with Files**"
      ]
    },
    {
      "cell_type": "markdown",
      "metadata": {
        "id": "55S0rYXN-KTF",
        "colab_type": "text"
      },
      "source": [
        "# **Reading CSV Files**\n",
        "\n",
        "https://people.sc.fsu.edu/~jburkardt/data/csv/csv.html\n",
        "\n",
        "A CSV file (Comma Separated Values file) is a type of plain text file that uses specific structuring to arrange tabular data. Because it’s a plain text file, it can contain only actual text data—in other words, printable ASCII or Unicode characters.<br><br>\n",
        "\n",
        "CSV = Comma Separated Values<br>\n",
        "For example: <br>\n",
        ">John,Doe,120 jefferson st.,Riverside, NJ, 08075<br>\n",
        "\n",
        "This is an example of a line from a CSV file. <br>\n",
        "The each value is separated by a comma. \n",
        "This file has 6 values on each row. "
      ]
    },
    {
      "cell_type": "markdown",
      "metadata": {
        "id": "oJLBHoE-_DWf",
        "colab_type": "text"
      },
      "source": [
        "**Python Imports**<br>\n",
        "Python has many libraries that are can help you code. <br>\n",
        "Libraries are collections of functions related to a single topic. <br>\n",
        "For example:\n",
        "> Python's csv library has functions for reading CSV files. "
      ]
    },
    {
      "cell_type": "markdown",
      "metadata": {
        "id": "50FgcTXj_bcR",
        "colab_type": "text"
      },
      "source": [
        "To use a library you need to import it. "
      ]
    },
    {
      "cell_type": "code",
      "metadata": {
        "id": "6TpfsrQX_BPG",
        "colab_type": "code",
        "colab": {}
      },
      "source": [
        "import csv\n",
        "print(\"done\")"
      ],
      "execution_count": 0,
      "outputs": []
    },
    {
      "cell_type": "markdown",
      "metadata": {
        "id": "K5M8fyKl_zYQ",
        "colab_type": "text"
      },
      "source": [
        "Now you can use the csv library to interact with csv files.<br>\n",
        "[csv library](https://docs.python.org/3/library/csv.html) "
      ]
    },
    {
      "cell_type": "markdown",
      "metadata": {
        "id": "8NU_zxuwAeci",
        "colab_type": "text"
      },
      "source": [
        "Step 1: get a csv file<br>\n",
        "You loaded a csv file called grades.csv into the Google drive. <br>\n",
        "Click on the link to look at the file: \n",
        "[grades](https://people.sc.fsu.edu/~jburkardt/data/csv/grades.csv)"
      ]
    },
    {
      "cell_type": "markdown",
      "metadata": {
        "id": "VSKOgIALzNdL",
        "colab_type": "text"
      },
      "source": [
        "**Listing Drive Contents**<br>\n",
        "There are two ways to see the contents of the drive:\n",
        "1. Expand the sidebar menu on the left > Select **Files**\n",
        "2. Use OS commands<br>\n",
        "To use operating system commands, preface the command with an '!'\n",
        "\n"
      ]
    },
    {
      "cell_type": "code",
      "metadata": {
        "id": "mqFI_iu4Jnys",
        "colab_type": "code",
        "colab": {}
      },
      "source": [
        "#To list the contents of the \n",
        "#current working directory\n",
        "!ls"
      ],
      "execution_count": 0,
      "outputs": []
    },
    {
      "cell_type": "code",
      "metadata": {
        "id": "OOdit1011cjR",
        "colab_type": "code",
        "colab": {}
      },
      "source": [
        "#To list the contents of \n",
        "#a specific directory\n",
        "!ls c7-content"
      ],
      "execution_count": 0,
      "outputs": []
    },
    {
      "cell_type": "code",
      "metadata": {
        "id": "ooMi25qyvIXa",
        "colab_type": "code",
        "colab": {}
      },
      "source": [
        "#Print the path of the current directory\n",
        "!pwd"
      ],
      "execution_count": 0,
      "outputs": []
    },
    {
      "cell_type": "markdown",
      "metadata": {
        "id": "d2TlR1cGhag6",
        "colab_type": "text"
      },
      "source": [
        "# **Assignment #1**\n",
        "1. List the contents of the directory called \"data_files\""
      ]
    },
    {
      "cell_type": "code",
      "metadata": {
        "id": "kFYPf943hj06",
        "colab_type": "code",
        "colab": {}
      },
      "source": [
        "!ls data_files"
      ],
      "execution_count": 0,
      "outputs": []
    },
    {
      "cell_type": "markdown",
      "metadata": {
        "id": "ifxvb_Zr2ch8",
        "colab_type": "text"
      },
      "source": [
        "**Examining the data**<br>\n",
        "You use the following code to look at the file. "
      ]
    },
    {
      "cell_type": "code",
      "metadata": {
        "id": "ACtGXJLkvO4K",
        "colab_type": "code",
        "colab": {}
      },
      "source": [
        "import csv \n",
        "with open('/content/cloned-repo/c7-content/grades.csv') as csvfile:\n",
        "  file_reader = csv.reader(csvfile, delimiter=',', quotechar='|')\n",
        "  for row in file_reader:\n",
        "    print(', '.join(row))\n",
        "\n",
        "csvfile.close"
      ],
      "execution_count": 0,
      "outputs": []
    },
    {
      "cell_type": "markdown",
      "metadata": {
        "id": "2k-gLKnDjsUy",
        "colab_type": "text"
      },
      "source": [
        "# **Quiz**"
      ]
    },
    {
      "cell_type": "code",
      "metadata": {
        "id": "5epwO7IZjuRe",
        "colab_type": "code",
        "cellView": "form",
        "colab": {}
      },
      "source": [
        "#@title Which of the following cities are not in cities.csv? \n",
        "variable_name = \"Los Angeles, CA\" #@param [\"Santa Ana, CA\",\"Victoria, TX\", \"Los Angeles, CA\", \"Reading, PA\"]\n",
        "if(variable_name == \"Los Angeles, CA\"):\n",
        "  print(\"Correct!\")\n",
        "else: \n",
        "  print(\"Try again\")"
      ],
      "execution_count": 0,
      "outputs": []
    },
    {
      "cell_type": "code",
      "metadata": {
        "id": "bPjuNb4K5Kg_",
        "colab_type": "code",
        "colab": {}
      },
      "source": [
        "!ls\n",
        "!ls datafiles\n",
        "!pwd\n",
        "import csv \n",
        "with open('/content/cloned-repo/data_files/cities.csv') as csvfile:\n",
        "  file_reader = csv.reader(csvfile, delimiter=',', quotechar='|')\n",
        "  for row in file_reader:\n",
        "    print(', '.join(row))\n",
        "\n",
        "\n",
        "csvfile.close"
      ],
      "execution_count": 0,
      "outputs": []
    },
    {
      "cell_type": "markdown",
      "metadata": {
        "id": "jY7ZGyl7l-4y",
        "colab_type": "text"
      },
      "source": [
        "# **Read the file as a List.** "
      ]
    },
    {
      "cell_type": "code",
      "metadata": {
        "id": "VBBTU6R42-jN",
        "colab_type": "code",
        "colab": {}
      },
      "source": [
        "import csv \n",
        "\n",
        "with open('/content/cloned-repo/c7-content/grades.csv') as csvfile:\n",
        "  file_reader = csv.reader(csvfile, delimiter=',', quotechar='|')\n",
        "  for row in file_reader:\n",
        "    print(', '.join(row))\n",
        "  grades_list = list(file_reader)\n",
        "  print(\"done\")"
      ],
      "execution_count": 0,
      "outputs": []
    },
    {
      "cell_type": "markdown",
      "metadata": {
        "id": "wsxXHcak9zLT",
        "colab_type": "text"
      },
      "source": [
        "The CSV file is now a Python List. <br>\n",
        "You can access data using list commands. "
      ]
    },
    {
      "cell_type": "code",
      "metadata": {
        "id": "3r3Et8-99pPh",
        "colab_type": "code",
        "colab": {}
      },
      "source": [
        "print(grades_list[0])"
      ],
      "execution_count": 0,
      "outputs": []
    },
    {
      "cell_type": "code",
      "metadata": {
        "id": "yqTHWmjq-GId",
        "colab_type": "code",
        "colab": {}
      },
      "source": [
        "print(grades_list[1])"
      ],
      "execution_count": 0,
      "outputs": []
    },
    {
      "cell_type": "markdown",
      "metadata": {
        "id": "VySmw2Yu-NVx",
        "colab_type": "text"
      },
      "source": [
        "# **Assignment #1**\n",
        "Write a program that calculates the average grade for Test1. "
      ]
    },
    {
      "cell_type": "code",
      "metadata": {
        "id": "lGF6PNub-Jrr",
        "colab_type": "code",
        "colab": {}
      },
      "source": [
        "#Assignment #1\n",
        "#this problem was way harder due to the source data missing a comma\n",
        "#you could fix the comman or write code to do this.\n",
        "#Catherine then submitted this code\n",
        "\n",
        "import csv \n",
        "\n",
        "with open('/content/cloned-repo/c7-content/grades.csv') as csvfile:\n",
        "  file_reader = csv.reader(csvfile, delimiter=',', quotechar='|')\n",
        "  grades_list = list(file_reader)\n",
        "\n",
        "total = 0\n",
        "for i in range(1,len(grades_list)):\n",
        "  #print(grades_list[i][3])\n",
        "  split = grades_list[i][3].split()\n",
        "  if(len(split) > 1):\n",
        "    grades_list[i][3] = split[0]\n",
        "  total = float(grades_list[i][3])+ total\n",
        "print(total/len(grades_list)-1)"
      ],
      "execution_count": 0,
      "outputs": []
    },
    {
      "cell_type": "markdown",
      "metadata": {
        "id": "p1mTg8vZ-d_1",
        "colab_type": "text"
      },
      "source": [
        "# **Assignment #2**\n",
        "1. Read the CSV file called **freshman_lbs.csv**. It is in the same directory as grades.csv\n",
        "2. Load the file into a list. \n",
        "3. Caluclate: <br>\n",
        "the average weight of female freshmen, in Sept and the average weight in April. <br>\n",
        "4. Calculate the average weight gain/loss for freshmen. "
      ]
    },
    {
      "cell_type": "code",
      "metadata": {
        "id": "DBHxXlgyWybk",
        "colab_type": "code",
        "colab": {}
      },
      "source": [
        "\n",
        "import csv \n",
        "\n",
        "with open('/content/cloned-repo/c7-content/freshman_lbs.csv') as csvfile:\n",
        "  file_reader = csv.reader(csvfile, delimiter=',', quotechar='|')\n",
        "  for row in file_reader:\n",
        "    print(', '.join(row))\n",
        "\n",
        "  freshman_lbs = list(file_reader)\n",
        "  print(\"done\")\n",
        "  print(freshman_lbs)\n",
        "\n",
        "  "
      ],
      "execution_count": 0,
      "outputs": []
    },
    {
      "cell_type": "markdown",
      "metadata": {
        "id": "ryxfq7fF9r8s",
        "colab_type": "text"
      },
      "source": [
        "**Ian Markham's attempt at solving the problem**"
      ]
    },
    {
      "cell_type": "code",
      "metadata": {
        "id": "XJl5W-_d9leH",
        "colab_type": "code",
        "colab": {}
      },
      "source": [
        "#Ian Markum's code\n",
        "import csv\n",
        "\n",
        "#open the file and assign to a list\n",
        "with open('/content/cloned-repo/c7-content/freshman_lbs.csv') as csvfile:\n",
        "  file_reader = csv.reader(csvfile, delimiter=',', quotechar='|')\n",
        "  womens = list(file_reader)\n",
        "\n",
        "#initialize variables\n",
        "weight_sept=0\n",
        "weight_april=0\n",
        "counter=0\n",
        "\n",
        "\n",
        "for women in womens:   #create a loop that goes through each line of the list with the range being the number of lines in womens\n",
        "  if(women[0].upper() == '\"F\"'): #for each line of the file, grab only the females (item \"0\").  .upper() makes the ascii character upper case\n",
        "    weight_sept+=int(women[1])   #grab the september weight and add to total weight (index 1)\n",
        "    weight_april+=int(women[2])  #grab the april weight and add to total weight (index 2)\n",
        "    counter+=1\n",
        "\n",
        "print(\"Avg Sept:  \",round(weight_sept/counter,2))\n",
        "print(\"Avg April: \",round(weight_april/counter,2))\n",
        "print(\"Difference:\",round(weight_sept/counter - weight_april/counter,2))\n",
        "\n"
      ],
      "execution_count": 0,
      "outputs": []
    },
    {
      "cell_type": "markdown",
      "metadata": {
        "id": "mzMYN3zsF2dp",
        "colab_type": "text"
      },
      "source": [
        "**Read the column names and count the number of lines processed**\n"
      ]
    },
    {
      "cell_type": "code",
      "metadata": {
        "id": "m_EFzxGbWR_2",
        "colab_type": "code",
        "colab": {}
      },
      "source": [
        "with open('/content/cloned-repo/c7-content/addresses.csv') as csv_file:\n",
        "    csv_reader = csv.reader(csv_file, delimiter=',')\n",
        "    line_count = 0\n",
        "    for row in csv_reader:\n",
        "        if line_count == 0:\n",
        "            print(f'Column names are {\", \".join(row)}')\n",
        "            line_count += 1\n",
        "        else:\n",
        "            print(f'\\t{row[0]}  {row[1]}  {row[2]} {row[3]} {row[4]} {row[5]}')\n",
        "            line_count += 1\n",
        "    print(f'Processed {line_count} lines.')"
      ],
      "execution_count": 0,
      "outputs": []
    },
    {
      "cell_type": "markdown",
      "metadata": {
        "id": "ABXEki5OiYaL",
        "colab_type": "text"
      },
      "source": [
        "# **Quiz**\n",
        "How many cities are listed in cities.csv?"
      ]
    },
    {
      "cell_type": "code",
      "metadata": {
        "id": "4X3EDC3gikf_",
        "colab_type": "code",
        "cellView": "form",
        "colab": {}
      },
      "source": [
        "#@title How many cities are listed in cities.csv?\n",
        "variable_name =  0#@param {type:\"integer\"}\n",
        "if(variable_name == 128):\n",
        "  print(\"Correct!\")\n",
        "else:\n",
        "  print(\"Try again\")\n"
      ],
      "execution_count": 0,
      "outputs": []
    },
    {
      "cell_type": "markdown",
      "metadata": {
        "id": "ht1HgneC7NWJ",
        "colab_type": "text"
      },
      "source": [
        "# **Assignment #3**\n",
        "\n",
        "1. Read the CSV file called **faithful.csv** It is in the same directory as the other files. \n",
        "2. While reading the file, <br>\n",
        "print out the column names<br>\n",
        "count and print the number of lines in the file\n",
        "\n"
      ]
    },
    {
      "cell_type": "code",
      "metadata": {
        "id": "m88v4iI6ar-A",
        "colab_type": "code",
        "colab": {}
      },
      "source": [
        ""
      ],
      "execution_count": 0,
      "outputs": []
    },
    {
      "cell_type": "markdown",
      "metadata": {
        "id": "q0V0t-suiPxT",
        "colab_type": "text"
      },
      "source": [
        "# **Writing CSV Files**\n",
        "\n"
      ]
    },
    {
      "cell_type": "code",
      "metadata": {
        "id": "1Y9KxqaZER2h",
        "colab_type": "code",
        "colab": {}
      },
      "source": [
        "import csv\n",
        "\n",
        "with open ('student_data.csv', mode = 'w+') as student_data:\n",
        "  file_writer = csv.writer(student_data, delimiter=',', quotechar = '\"', quoting = csv.QUOTE_MINIMAL)\n",
        "  file_writer.writerow(['Jack','Smith', 90, 45, 89])\n",
        "  file_writer.writerow(['Bob','Steen', 67, 77, 89])\n",
        "  file_writer.writerow(['Sandy', 'Calhoun', 58, 96, 71])\n",
        "  file_writer.writerow(['Tom','Brown', 23, 57, 85])\n",
        "  file_writer.writerow(['Sandy', 'Calhoun', 65, 69, 69])\n",
        "  file_writer.writerow(['Tim', 'James', 98, 77, 89])"
      ],
      "execution_count": 0,
      "outputs": []
    },
    {
      "cell_type": "code",
      "metadata": {
        "id": "pBwV-mQzKTDd",
        "colab_type": "code",
        "colab": {}
      },
      "source": [
        "#To view the file, use the linux command 'cat'\n",
        "!cat student_data.csv"
      ],
      "execution_count": 0,
      "outputs": []
    },
    {
      "cell_type": "markdown",
      "metadata": {
        "id": "L4S2lojtNtaF",
        "colab_type": "text"
      },
      "source": [
        "# **Assignment #4**\n",
        "\n",
        "1. Create a file called \"test_file.csv\"\n",
        "2. Write 5 rows of data. Each row should have 6 comma separated values. \n",
        "3. Use cat to view the file. \n"
      ]
    },
    {
      "cell_type": "code",
      "metadata": {
        "id": "hsL4UtmUNrhR",
        "colab_type": "code",
        "colab": {}
      },
      "source": [
        ""
      ],
      "execution_count": 0,
      "outputs": []
    },
    {
      "cell_type": "code",
      "metadata": {
        "id": "_paTwOR9AsJO",
        "colab_type": "code",
        "colab": {}
      },
      "source": [
        "#John Fruetels code\n",
        "import csv\n",
        "\n",
        "with open ('test_file.csv', mode = 'w+') as test_data:\n",
        "  file_writer = csv.writer(test_data, delimiter=',', quotechar = '\"', quoting = csv.QUOTE_MINIMAL)\n",
        "  file_writer.writerow(['Jack','Smith', 90, 45, 89,1])\n",
        "  file_writer.writerow(['Bob','Steen', 67, 77, 89,2])\n",
        "  file_writer.writerow(['Sandy', 'Calhoun', 58, 96, 71,3])\n",
        "  file_writer.writerow(['Tom','Brown', 23, 57, 85,4])\n",
        "  file_writer.writerow(['Sandy', 'Calhoun', 65, 69, 69,5])\n",
        "\n",
        "!cat test_file.csv"
      ],
      "execution_count": 0,
      "outputs": []
    }
  ]
}